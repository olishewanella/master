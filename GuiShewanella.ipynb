{
  "cells": [
    {
      "cell_type": "markdown",
      "metadata": {
        "id": "YAxgZo4Y4Zx3"
      },
      "source": [
        "#Trabajo Final Grupo Nº 2\n",
        "\n",
        "Rafael Perez\trafaelperezctes@gmail.com\n",
        "Olinca Ayala\tolincayalan88@gmail.com\n",
        "###@Created on Dec Sat 2 16:57:20 2023\n",
        "###@author: Grupo Nº 2"
      ],
      "id": "YAxgZo4Y4Zx3"
    },
    {
      "cell_type": "markdown",
      "id": "dbaae3b4",
      "metadata": {
        "id": "dbaae3b4"
      },
      "source": [
        "\n",
        "# Modulo Gui\n",
        "\n",
        "Este cuaderno realiza la descarga y análisis de secuencias nucleotídicas de integronas de Shewanella utilizando Biopython.\n"
      ]
    },
    {
      "cell_type": "markdown",
      "source": [
        "\n",
        "\n",
        "Este código descarga el dataset de secuencias de integrasas de Shewanella desde el NCBI. Luego, realiza un alineamiento múltiple de las secuencias para identificar las regiones conservadas. A continuación, selecciona un objetivo blanco para las guías CRISPR/Cas9. Finalmente, diseña las guías CRISPR/Cas9 y realiza la transformación de las bacterias de Shewanella que albergan integrones.\n",
        "\n",
        "Para verificar la edición mediante secuenciación, se pueden diseñar primers específicos para la región editada. El código anterior muestra cómo diseñar primers para la región editada del gen de la integrasa.\n",
        "\n",
        "\n",
        "\n",
        "**1. Breve introducción**\n",
        "\n",
        "Los integrones son plataformas genéticas que se encuentran comúnmente en bacterias. Su función principal es la captura y la expresión de genes, los cuales están especialmente asociados con la resistencia a antibióticos. La tecnología CRISPR ha demostrado ser una herramienta poderosa para la edición genética precisa.\n",
        "\n",
        "**2. Hipótesis de Trabajo y Resultados Esperados**\n",
        "\n",
        "La hipótesis del proyecto es que el uso de CRISPR/Cas9 específicamente dirigido al gen de la integrasa en integrones de bacterias del género Shewanella puede resultar en la interrupción o desactivación de la función de recombinación de ADN de la integrasa. Se hipotetiza que al modificar el gen de la integrasa, se reducirá la capacidad de los integrones para capturar y expresar genes asociados con la resistencia a antibióticos en las bacterias de este género.\n",
        "\n",
        "Los resultados esperados del proyecto son:\n",
        "\n",
        "* Demostrar la capacidad de la tecnología CRISPR/Cas9 para dirigirse con precisión al gen de la integrasa de los integrones encontrados en Shewanella, evidenciando la capacidad de editar este gen de manera específica.\n",
        "* Observar una disminución en la capacidad de los integrones modificados para realizar la recombinación del ADN, demostrando así la influencia de la edición genética en la función de la integrasa.\n",
        "* Observar una reducción en la expresión de genes asociados con la resistencia a antibióticos en las bacterias de Shewanella portadoras de integrones editados.\n"
      ],
      "metadata": {
        "id": "xGj2f8XsMzKS"
      },
      "id": "xGj2f8XsMzKS"
    },
    {
      "cell_type": "code",
      "source": [
        "#@title clono el master olishewanella\n",
        "import os\n",
        "import subprocess\n",
        "\n",
        "def clonar_o_actualizar_repositorio():\n",
        "    repo_url = \"https://github.com/olishewanella/master.git\"\n",
        "    repo_dir = \"/content/master\"\n",
        "    global bandera_clonar\n",
        "    # Verificar si el directorio ya existe\n",
        "    if os.path.isdir(repo_dir):\n",
        "        print(f\"El directorio {repo_dir} ya existe. Actualizando el repositorio.\")\n",
        "        os.chdir(repo_dir)\n",
        "        resultado_pull = subprocess.run([\"git\", \"pull\"], capture_output=True, text=True)\n",
        "        print(resultado_pull.stdout)\n",
        "    else:\n",
        "        print(f\"Clonando el repositorio en {repo_dir}.\")\n",
        "        resultado_clone = subprocess.run([\"git\", \"clone\", repo_url], capture_output=True, text=True)\n",
        "        print(resultado_clone.stdout)\n",
        "        os.chdir(repo_dir)\n",
        "\n",
        "    # Listar los archivos en el directorio\n",
        "    archivos = os.listdir(repo_dir)\n",
        "    print(\"Archivos en el repositorio:\")\n",
        "    for archivo in archivos:\n",
        "        print(archivo)\n",
        "    bandera_clonar = True\n",
        "# Ejecutar la función\n",
        "bandera_clonar = False\n",
        "clonar_o_actualizar_repositorio()\n"
      ],
      "metadata": {
        "colab": {
          "base_uri": "https://localhost:8080/"
        },
        "id": "hTtOZXxiD26F",
        "outputId": "7d8608b4-b2bc-438d-dc50-2922a342a16d"
      },
      "id": "hTtOZXxiD26F",
      "execution_count": 1,
      "outputs": [
        {
          "output_type": "stream",
          "name": "stdout",
          "text": [
            "Clonando el repositorio en /content/master.\n",
            "\n",
            "Archivos en el repositorio:\n",
            "PrimersShewanella.ipynb\n",
            "LICENSE\n",
            "conceptos-biologia.docx\n",
            "VisionShewanella.ipynb\n",
            "BDShewanella.ipynb\n",
            ".git\n",
            "GuiShewanella.ipynb\n",
            "GuiasShewanella.ipynb\n",
            "IAShewanella.ipynb\n",
            "README.md\n",
            "AMShewanella.ipynb\n",
            "pruebas\n"
          ]
        }
      ]
    },
    {
      "cell_type": "code",
      "source": [
        "# @title Instalación de librerias\n",
        "import subprocess\n",
        "import ipywidgets as widgets\n",
        "from IPython.display import display\n",
        "import importlib\n",
        "\n",
        "def instalar_librerias(b=\"\"):\n",
        "    with output:\n",
        "        librerias = [\n",
        "            \"import_ipynb\",\n",
        "            \"nbconvert\",\n",
        "            \"ipywidgets\",  # Asegúrate de que ya esté instalado\n",
        "            \"biopython\",\n",
        "            \"pandas\",\n",
        "            \"numpy\",\n",
        "            \"matplotlib\",\n",
        "            \"tqdm\"\n",
        "        ]\n",
        "\n",
        "        barra_progreso = widgets.IntProgress(\n",
        "            value=0,\n",
        "            min=0,\n",
        "            max=len(librerias),\n",
        "            bar_style='info',\n",
        "            orientation='horizontal'\n",
        "        )\n",
        "\n",
        "        etiqueta = widgets.Label(value='Iniciando instalación...')\n",
        "        display(widgets.VBox([etiqueta, barra_progreso]))\n",
        "\n",
        "        for libreria in librerias:\n",
        "            try:\n",
        "                # Intenta importar la librería\n",
        "                importlib.import_module(libreria)\n",
        "                etiqueta.value = f\"{libreria} ya está instalada.\"\n",
        "            except ImportError:\n",
        "                # Si la librería no está instalada, procede con la instalación\n",
        "                etiqueta.value = f\"Instalando: {libreria}...\"\n",
        "                subprocess.run([\"pip\", \"install\", libreria])\n",
        "            finally:\n",
        "                # Actualiza la barra de progreso independientemente de si la librería se instaló o no\n",
        "                barra_progreso.value += 1\n",
        "\n",
        "        etiqueta.value = 'Proceso de instalación completado.'\n",
        "\n",
        "# Crear botón\n",
        "boton_instalar = widgets.Button(description='Instalar Librerías')\n",
        "\n",
        "# Crear área de salida\n",
        "output = widgets.Output()\n",
        "\n",
        "# Establecer controlador de eventos\n",
        "boton_instalar.on_click(instalar_librerias)\n",
        "\n",
        "# Mostrar botón y área de salida\n",
        "display(boton_instalar, output)\n",
        "\n",
        "#\n",
        "#instalar_librerias()"
      ],
      "metadata": {
        "colab": {
          "base_uri": "https://localhost:8080/",
          "height": 113,
          "referenced_widgets": [
            "f59810344755458dac69fdb570d3f3b2",
            "c3d3b8865480440a818111156fffcabb",
            "2319e55e3d324cb6a3b95023a491f91e",
            "b3c6c96516d5440283e01dd508901890",
            "3b670f319a8b47138bc1d90096a7ddad",
            "264828f2280f4da99149578c18607b58",
            "6db956947f07484d845ba91631a54389",
            "f8585c80445b49c298524d8497d5cef4",
            "2e9ba1608c8b49ddb80b1b1323b84449",
            "d414a0b92aa145f49d02edb9dde82bed",
            "5f85f7a4896c4f4e931064716b82884f",
            "7767e0cd597a4422889d7916ecb9585a",
            "1d3d223c2d514b20bd1f38dc7508f189"
          ]
        },
        "id": "2msVJfHqrd1G",
        "outputId": "f9cd63d4-7dd5-4ada-d6b4-fa6d60ef551b"
      },
      "id": "2msVJfHqrd1G",
      "execution_count": 2,
      "outputs": [
        {
          "output_type": "display_data",
          "data": {
            "text/plain": [
              "Button(description='Instalar Librerías', style=ButtonStyle())"
            ],
            "application/vnd.jupyter.widget-view+json": {
              "version_major": 2,
              "version_minor": 0,
              "model_id": "f59810344755458dac69fdb570d3f3b2"
            }
          },
          "metadata": {}
        },
        {
          "output_type": "display_data",
          "data": {
            "text/plain": [
              "Output()"
            ],
            "application/vnd.jupyter.widget-view+json": {
              "version_major": 2,
              "version_minor": 0,
              "model_id": "b3c6c96516d5440283e01dd508901890"
            }
          },
          "metadata": {}
        }
      ]
    },
    {
      "cell_type": "code",
      "source": [
        "def main():\n",
        "    instalar_librerias()\n",
        "    clonar_o_actualizar_repositorio()\n",
        "main()"
      ],
      "metadata": {
        "colab": {
          "base_uri": "https://localhost:8080/",
          "height": 295
        },
        "id": "26CdRjc1aB-Z",
        "outputId": "003ee903-a3ce-4e49-a637-0a34737c2dd3"
      },
      "id": "26CdRjc1aB-Z",
      "execution_count": 3,
      "outputs": [
        {
          "output_type": "stream",
          "name": "stdout",
          "text": [
            "El directorio /content/master ya existe. Actualizando el repositorio.\n",
            "Already up to date.\n",
            "\n",
            "Archivos en el repositorio:\n",
            "PrimersShewanella.ipynb\n",
            "LICENSE\n",
            "conceptos-biologia.docx\n",
            "VisionShewanella.ipynb\n",
            "BDShewanella.ipynb\n",
            ".git\n",
            "GuiShewanella.ipynb\n",
            "GuiasShewanella.ipynb\n",
            "IAShewanella.ipynb\n",
            "README.md\n",
            "AMShewanella.ipynb\n",
            "pruebas\n"
          ]
        }
      ]
    },
    {
      "cell_type": "code",
      "source": [
        "from google.colab import _message\n",
        "def run_cells_above():\n",
        "    notebook = _message.blocking_request('get_ipynb', request='', timeout_sec=5)\n",
        "    cells = notebook['ipynb']['cells']\n",
        "    for cell in cells:\n",
        "        if 'source' in cell and 'main()' in cell['source']:\n",
        "            break\n",
        "        elif 'cell_type' in cell and cell['cell_type'] == 'code':\n",
        "            _message.blocking_request('execute_cell', {'cell_id': cell['metadata']['id']})\n",
        "run_cells_above()"
      ],
      "metadata": {
        "id": "6wogjxwY1px8"
      },
      "id": "6wogjxwY1px8",
      "execution_count": 4,
      "outputs": []
    },
    {
      "cell_type": "code",
      "source": [
        "# Importa las librerías necesarias\n",
        "\"\"\"\n",
        "import os\n",
        "# Crea el archivo init.py\n",
        "with open(\"init.py\", \"w\") as f:\n",
        "    # Escribe el contenido del archivo\n",
        "    f.write(\"print('¡El archivo init.py se ha creado!')\")\n",
        "\"\"\"\n",
        "\n",
        "# Insert the directory\n",
        "\"\"\"\n",
        "import sys\n",
        "sys.path.insert(0,\"/content/\")\n",
        "!ls\n",
        "\"\"\"\n",
        "\n",
        "# importar modulos opcion 2\n",
        "\"\"\"\n",
        "%run \"/content/BDShewanella.ipynb\"\n",
        "\"\"\""
      ],
      "metadata": {
        "id": "6SnWTAztZ1iE",
        "colab": {
          "base_uri": "https://localhost:8080/",
          "height": 35
        },
        "outputId": "02025186-9b62-4a5b-b5d5-c16cb23b53d6"
      },
      "id": "6SnWTAztZ1iE",
      "execution_count": 5,
      "outputs": [
        {
          "output_type": "execute_result",
          "data": {
            "text/plain": [
              "'\\n%run \"/content/BDShewanella.ipynb\"\\n'"
            ],
            "application/vnd.google.colaboratory.intrinsic+json": {
              "type": "string"
            }
          },
          "metadata": {},
          "execution_count": 5
        }
      ]
    },
    {
      "cell_type": "code",
      "source": [
        "# constanstes\n",
        "archivo_multifasta = \"secuencias_combinadas.fasta\"\n",
        "archivo_alineado = \"/content/master/parte_0_alineado.fasta\"\n",
        "dicc_main = {}\n",
        "seleccion_lista_archivos = None\n",
        "nombre_lista_seleccionada = None\n",
        "contenido_lista_seleccionada = None"
      ],
      "metadata": {
        "id": "ON6MexknivwA"
      },
      "id": "ON6MexknivwA",
      "execution_count": 6,
      "outputs": []
    },
    {
      "cell_type": "code",
      "source": [
        "archivo_multifasta = \"secuencias_combinadas.fasta\"\n",
        "\n",
        "def ejecutar_main_amshewanella(b=\"\"):\n",
        "  # importar modulos 2\n",
        "  import import_ipynb\n",
        "  import AMShewanella as ams\n",
        "  with area_visualizacion:\n",
        "    clear_output(wait=True)\n",
        "    ams.main()\n",
        "    ams.combinar_en_multifasta(contenido_lista_seleccionada, archivo_multifasta)\n",
        "\n",
        "#ejecutar_main_amshewanella()"
      ],
      "metadata": {
        "id": "fKCj2V8xW87e"
      },
      "id": "fKCj2V8xW87e",
      "execution_count": 7,
      "outputs": []
    },
    {
      "cell_type": "code",
      "source": [
        "def alinear_secuencias_amshewanella(b=\"\"):\n",
        "    import import_ipynb\n",
        "    import AMShewanella as ams\n",
        "    print(\"Alineando secuencias...\")\n",
        "    with area_visualizacion:\n",
        "      clear_output(wait=True)\n",
        "      ams.alinear_secuencias(archivo_multifasta,100)"
      ],
      "metadata": {
        "id": "qJI8WjuozYPX"
      },
      "id": "qJI8WjuozYPX",
      "execution_count": 8,
      "outputs": []
    },
    {
      "cell_type": "code",
      "source": [
        "# Importar el cuaderno principal y las librerías necesarias\n",
        "import import_ipynb\n",
        "import AMShewanella as ams\n",
        "from IPython.display import clear_output\n",
        "import ipywidgets as widgets\n",
        "archivo_alineado = \"/content/master/parte_0_alineado.fasta\"\n",
        "\n",
        "# Funciones de visualización\n",
        "def construir_arbol_filogenetico(b=\"\"):\n",
        "  import import_ipynb\n",
        "  import AMShewanella as ams\n",
        "  from Bio import Phylo\n",
        "  print(\"Construyendo árbol filogenético...\")\n",
        "  with area_visualizacion:\n",
        "    clear_output(wait=True)\n",
        "    arbol = ams.construir_arbol_con_mafft(archivo_alineado)\n",
        "    if arbol:\n",
        "        Phylo.draw(arbol)\n",
        "\n",
        "#construir_arbol_filogenetico()\n",
        "def visualizar_conservacion(b=None):\n",
        "  with area_visualizacion:\n",
        "    clear_output(wait=True)\n",
        "    ams.graficar_conservacion(archivo_alineado)\n",
        "    print(\"Visualización de conservación completada.\")\n",
        "\n",
        "def visualizar_entropia(b=None):\n",
        "  with area_visualizacion:\n",
        "    clear_output(wait=True)\n",
        "    ams.graficar_entropia(archivo_alineado)\n",
        "    print(\"Visualización de entropía completada.\")\n",
        "\n",
        "def visualizar_mapa_calor_conservacion(b=None):\n",
        "  with area_visualizacion:\n",
        "    clear_output(wait=True)\n",
        "    ams.mapa_calor_conservacion(archivo_alineado)\n",
        "    print(\"Mapa de calor de conservación completado.\")\n",
        "\n",
        "def visualizar_barras_conservacion(b=None):\n",
        "  with area_visualizacion:\n",
        "    clear_output(wait=True)\n",
        "    ams.graficar_barras_conservacion(archivo_alineado)\n",
        "    print(\"Gráfico de barras de conservación completado.\")\n",
        "\n",
        "def crear_logo_secuencias_logomaker(b=None):\n",
        "  with area_visualizacion:\n",
        "    clear_output(wait=True)\n",
        "    ams.crear_logo_secuencias_logomaker(archivo_alineado, segmento=(420,480))\n",
        "    print(\"Logo de secuencias con Logomaker completado.\")\n",
        "\n",
        "def crear_logo_secuencias_weblogo(b=None):\n",
        "  with area_visualizacion:\n",
        "    clear_output(wait=True)\n",
        "    ams.crear_logo_secuencias_weblogo_cli(archivo_alineado, segmento=(420,480))\n",
        "    print(\"Logo de secuencias con WebLogo completado.\")\n",
        "\n"
      ],
      "metadata": {
        "colab": {
          "base_uri": "https://localhost:8080/",
          "height": 66,
          "referenced_widgets": [
            "29926cea01ba40febadf681865349ffc",
            "662f3b40357a4629aed79e2e8861d0f7",
            "4ef4436445ae44ce94d682db0ae0a423",
            "0eed52d97ea94c1d93b34e9cf69a52f8",
            "0de9918cbf6d4140ac7763c188688d7f"
          ]
        },
        "id": "Zghn5SQnBeL1",
        "outputId": "d76970ed-425e-4b07-b07f-016adacc9c36"
      },
      "id": "Zghn5SQnBeL1",
      "execution_count": 9,
      "outputs": [
        {
          "output_type": "stream",
          "name": "stdout",
          "text": [
            "importing Jupyter notebook from AMShewanella.ipynb\n"
          ]
        },
        {
          "output_type": "display_data",
          "data": {
            "text/plain": [
              "Output()"
            ],
            "application/vnd.jupyter.widget-view+json": {
              "version_major": 2,
              "version_minor": 0,
              "model_id": "29926cea01ba40febadf681865349ffc"
            }
          },
          "metadata": {}
        },
        {
          "output_type": "display_data",
          "data": {
            "text/plain": [
              "Button(description='Instalar Librerías', style=ButtonStyle())"
            ],
            "application/vnd.jupyter.widget-view+json": {
              "version_major": 2,
              "version_minor": 0,
              "model_id": "4ef4436445ae44ce94d682db0ae0a423"
            }
          },
          "metadata": {}
        }
      ]
    },
    {
      "cell_type": "code",
      "source": [
        "#@title procesos del modulo BDShewanella\n",
        "# Variables globales p\n",
        "dicc_main = {}\n",
        "seleccion_lista_archivos = None\n",
        "nombre_lista_seleccionada = None\n",
        "contenido_lista_seleccionada = None\n",
        "\n",
        "from ipywidgets import Dropdown, Button, Output, VBox, Layout\n",
        "from IPython.display import display,clear_output\n",
        "\n",
        "def ejecutar_main_bdshewanella(b=\"\"):\n",
        "      print(\"ejecutando main de BDShewanella...\")\n",
        "      import import_ipynb\n",
        "      import BDShewanella as bds\n",
        "      global dicc_main\n",
        "      # aqui librerias\n",
        "      bds.instalar_librerias()\n",
        "      # aqui main que trae la lista de arcivos descargados\n",
        "      dicc_main=bds.main()\n",
        "      #clear_output(wait=True)\n",
        "      print(\"ejecución completada, main de BDShewanella...\")\n",
        "\n",
        "#ejecutar_main_bdshewanella()\n",
        "\n",
        "def mostrar_datos_bdshewanella(b=None):\n",
        "    global dicc_main, nombre_lista_seleccionada, contenido_lista_seleccionada\n",
        "\n",
        "    # Verificación y ejecución condicional\n",
        "    if not dicc_main:\n",
        "        ejecutar_main_bdshewanella()\n",
        "    verificar_seleccion_inicial()\n",
        "\n",
        "    # Crear dropdown para la selección de la lista\n",
        "    dropdown = Dropdown(options=list(dicc_main.keys()), description='Listas:')\n",
        "\n",
        "    # Crear un botón para confirmar la selección\n",
        "    boton_confirmar = Button(description='Confirmar', layout=Layout(width='100px'))\n",
        "\n",
        "    # Crear un área de salida para mostrar mensajes\n",
        "    salida = Output()\n",
        "\n",
        "    def al_seleccionar(b):\n",
        "        global nombre_lista_seleccionada, contenido_lista_seleccionada\n",
        "        nombre_lista_seleccionada = dropdown.value\n",
        "        contenido_lista_seleccionada = dicc_main[nombre_lista_seleccionada]\n",
        "        with salida:\n",
        "            salida.clear_output()\n",
        "            print(f\"Ha seleccionado: {nombre_lista_seleccionada}\")\n",
        "\n",
        "    boton_confirmar.on_click(al_seleccionar)\n",
        "\n",
        "    # Mostrar el widget y el botón\n",
        "    display(VBox([dropdown, boton_confirmar, salida]))\n",
        "\n",
        "def verificar_seleccion_inicial():\n",
        "    global nombre_lista_seleccionada, contenido_lista_seleccionada\n",
        "    if nombre_lista_seleccionada is not None:\n",
        "        print(f\"Ya se ha seleccionado la lista: {nombre_lista_seleccionada}\")\n",
        "        print(contenido_lista_seleccionada)\n",
        "    else:\n",
        "        print(\"No se ha seleccionado ninguna lista de archivos.\")\n",
        "\n",
        "#mostrar_datos_bdshewanella(None)"
      ],
      "metadata": {
        "id": "qmrytz0aXPJB"
      },
      "id": "qmrytz0aXPJB",
      "execution_count": 10,
      "outputs": []
    },
    {
      "cell_type": "code",
      "source": [
        "# Importar el cuaderno principal y las librerías necesarias\n",
        "import import_ipynb\n",
        "def ejecutar_main_guiasshewanella(b=\"\"):\n",
        "    import GuiasShewanella as gs\n",
        "    gs.main()\n",
        "\n",
        "def buscar_guias_guiasshewanella(b=\"\"):\n",
        "    import GuiasShewanella as gs\n",
        "    import importlib\n",
        "    importlib.reload(gs)\n",
        "    all_guides_df= gs.process_fasta_files(contenido_lista_seleccionada)\n",
        "    gs.plot_guide_comparisons(all_guides_df)\n",
        "    print(all_guides_df)\n",
        "    best_guides_df = gs.select_best_guides_per_file(all_guides_df)\n",
        "    gs.process_files(best_guides_df, all_guides_df)\n",
        "\n",
        "#ejecutar_main_guiasshewanella()\n",
        "#buscar_guias_guiasshewanella()\n",
        "#boton_ejecutar_main_guiasshewanella = widgets.Button(description='Ejecutar Main', layout=estilo_botones)"
      ],
      "metadata": {
        "id": "FjBgD7iEmZcQ"
      },
      "id": "FjBgD7iEmZcQ",
      "execution_count": 22,
      "outputs": []
    },
    {
      "cell_type": "code",
      "source": [
        "#@title menu principal\n",
        "\n",
        "import ipywidgets as widgets\n",
        "from IPython.display import display, clear_output\n",
        "from ipywidgets import Layout, Button\n",
        "\n",
        "# Estilo personalizado para los botones con colores más suaves\n",
        "estilo_botones = Layout(width='200px', height='40px', border='solid 1px lightgray',\n",
        "                        color='black',  # Color de texto\n",
        "                        background_color='#a4c2f4',  # Color de fondo más claro\n",
        "                        font_weight='bold', border_radius='5px')\n",
        "\n",
        "area_visualizacion = widgets.Output()\n",
        "\n",
        "# Funciones para las acciones de Herramientas Adicionales\n",
        "def clonar_actualizar_repositorio(b):\n",
        "    print(\"Clonando o actualizando repositorio...\")\n",
        "\n",
        "def instalar_herramientas_visualizacion(b):\n",
        "    print(\"Instalando herramientas de visualización...\")\n",
        "\n",
        "# Función para mostrar el menú principal\n",
        "def mostrar_menu_principal(b=None):\n",
        "    clear_output()\n",
        "    display(boton_bdshewanella, boton_amshewanella, boton_guiasshewanella, boton_herramientas, boton_salir)\n",
        "\n",
        "# Funciones para mostrar submenús\n",
        "def mostrar_submenu_bdshewanella(b):\n",
        "    clear_output()\n",
        "    display(widgets.Label(value=\"Submenú BDShewanella\"))\n",
        "    display(boton_ejecutar_main_bdshewanella, boton_mostrar_datos_bdshewanella, boton_volver, area_visualizacion)\n",
        "\n",
        "def mostrar_submenu_amshewanella(b):\n",
        "    clear_output()\n",
        "    display(widgets.Label(value=\"Submenú AMShewanella\"), layout=estilo_botones)\n",
        "    display(boton_ejecutar_main_amshewanella,boton_alinear_secuencias_amshewanella, boton_construir_arbol_filogenetico,boton_visualizar_conservacion, boton_visualizar_entropia, boton_visualizar_mapa_calor, boton_visualizar_barras_conservacion, boton_crear_logo_logomaker, boton_crear_logo_weblogo, boton_volver, area_visualizacion)\n",
        "\n",
        "def mostrar_submenu_herramientas(b):\n",
        "    clear_output()\n",
        "    display(widgets.Label(value=\"Herramientas Adicionales\"), layout=estilo_botones)\n",
        "    display(boton_clonar_actualizar_repositorio, boton_instalar_herramientas_visualizacion, boton_volver, area_visualizacion)\n",
        "\n",
        "def mostrar_submenu_guiasshewanella(b):\n",
        "    clear_output()\n",
        "    display(widgets.Label(value=\"Submenú GuiasShewanella\"))\n",
        "    display(boton_ejecutar_main_guiasshewanella, boton_buscar_guiasshewanella, boton_volver, area_visualizacion)\n",
        "\n",
        "# Crear botones para las acciones de BDShewanella\n",
        "boton_ejecutar_main_guiasshewanella = widgets.Button(description='Ejecutar Main', layout=estilo_botones)\n",
        "boton_buscar_guiasshewanella = widgets.Button(description='Buscar Guias Cas9', layout=estilo_botones)\n",
        "\n",
        "# Asignar funciones a los botones BDShewanella\n",
        "boton_buscar_guiasshewanella.on_click(buscar_guias_guiasshewanella)\n",
        "boton_ejecutar_main_guiasshewanella.on_click(ejecutar_main_bdshewanella)\n",
        "\n",
        "# Crear botones para las acciones de BDShewanella\n",
        "boton_ejecutar_main_bdshewanella = widgets.Button(description='Ejecutar Main', layout=estilo_botones)\n",
        "boton_mostrar_datos_bdshewanella = widgets.Button(description='Mostrar Datos', layout=estilo_botones)\n",
        "\n",
        "# Asignar funciones a los botones BDShewanella\n",
        "boton_mostrar_datos_bdshewanella.on_click(mostrar_datos_bdshewanella)\n",
        "boton_ejecutar_main_bdshewanella.on_click(ejecutar_main_guiasshewanella)\n",
        "\n",
        "# Crear botones para las acciones de AMShewanella\n",
        "boton_ejecutar_main_amshewanella = widgets.Button(description='Ejecutar Main', layout=estilo_botones)\n",
        "boton_alinear_secuencias_amshewanella = widgets.Button(description='Alinear Secuencias', layout=estilo_botones)\n",
        "boton_construir_arbol_filogenetico = widgets.Button(description='Construir Árbol Filogenético', layout=estilo_botones)\n",
        "boton_visualizar_conservacion = widgets.Button(description=\"Visualizar Conservación\", layout=estilo_botones)\n",
        "boton_visualizar_entropia = widgets.Button(description=\"Visualizar Entropía\", layout=estilo_botones)\n",
        "boton_visualizar_mapa_calor = widgets.Button(description=\"Mapa de Calor Conservación\", layout=estilo_botones)\n",
        "boton_visualizar_barras_conservacion = widgets.Button(description=\"Barras de Conservación\", layout=estilo_botones)\n",
        "boton_crear_logo_logomaker = widgets.Button(description=\"Crear Logo Logomaker\", layout=estilo_botones)\n",
        "boton_crear_logo_weblogo = widgets.Button(description=\"Crear Logo WebLogo\", layout=estilo_botones)\n",
        "\n",
        "# Asignar funciones a los botones AMShewanella\n",
        "boton_alinear_secuencias_amshewanella.on_click(alinear_secuencias_amshewanella)\n",
        "boton_ejecutar_main_amshewanella.on_click(ejecutar_main_amshewanella)\n",
        "boton_construir_arbol_filogenetico.on_click(construir_arbol_filogenetico)\n",
        "boton_visualizar_conservacion.on_click(visualizar_conservacion)\n",
        "boton_visualizar_entropia.on_click(visualizar_entropia)\n",
        "boton_visualizar_mapa_calor.on_click(visualizar_mapa_calor_conservacion)\n",
        "boton_visualizar_barras_conservacion.on_click(visualizar_barras_conservacion)\n",
        "boton_crear_logo_logomaker.on_click(crear_logo_secuencias_logomaker)\n",
        "boton_crear_logo_weblogo.on_click(crear_logo_secuencias_weblogo)\n",
        "\n",
        "\n",
        "# Crear botones para las acciones de Herramientas Adicionales\n",
        "boton_clonar_actualizar_repositorio = widgets.Button(description='Clonar o Actualizar Repositorio', layout=estilo_botones)\n",
        "boton_instalar_herramientas_visualizacion = widgets.Button(description='Instalar Herramientas de Visualización', layout=estilo_botones)\n",
        "\n",
        "boton_clonar_actualizar_repositorio.on_click(clonar_actualizar_repositorio)\n",
        "boton_instalar_herramientas_visualizacion.on_click(instalar_herramientas_visualizacion)\n",
        "\n",
        "# Botón para volver al menú principal\n",
        "boton_volver = widgets.Button(description=\"Volver al Menú Principal\", layout=estilo_botones)\n",
        "boton_volver.on_click(mostrar_menu_principal)\n",
        "\n",
        "# Botones del menú principal\n",
        "boton_bdshewanella = widgets.Button(description=\"Módulo BDShewanella\", layout=estilo_botones)\n",
        "boton_bdshewanella.on_click(mostrar_submenu_bdshewanella)\n",
        "\n",
        "boton_amshewanella = widgets.Button(description=\"Módulo AMShewanella\", layout=estilo_botones)\n",
        "boton_amshewanella.on_click(mostrar_submenu_amshewanella)\n",
        "\n",
        "boton_guiasshewanella = widgets.Button(description=\"Módulo GuiasShewanella\", layout=estilo_botones)\n",
        "boton_guiasshewanella.on_click(mostrar_submenu_guiasshewanella)\n",
        "\n",
        "boton_herramientas = widgets.Button(description=\"Herramientas Adicionales\",layout=estilo_botones)\n",
        "boton_herramientas.on_click(mostrar_submenu_herramientas)\n",
        "\n",
        "boton_salir = widgets.Button(description=\"Salir\",layout=estilo_botones)\n",
        "\n",
        "# Mostrar menú principal\n",
        "mostrar_menu_principal()\n"
      ],
      "metadata": {
        "colab": {
          "base_uri": "https://localhost:8080/",
          "height": 1000,
          "referenced_widgets": [
            "adb8b72957f846f09c9c52b0aeaa507a",
            "d7449fde1cef4c4680f85cbe6fc79f70",
            "3ab1c3cc0fc243ef9f4a21bc268423af",
            "432f8b5ec440494888a834f187ad5d5c",
            "2c48689cca3a40a490366560280e1ef4",
            "f83d6c63d7734c658c739bb67309d30e",
            "88b4d26be93c47da860c592df24747db",
            "f83d178630774341af7865cd1fcadb55",
            "a5ab81589e094b209afd209f9260109b",
            "1eadd6c3cd2041a6815862cdff5e6294",
            "42032eae21e4434aa879df192d2b7904",
            "88b5cd8c9e0e40cd8dce074d2276a8dd",
            "80ec2b4ccee047b9acb250d4601218fa",
            "82f68767033045a49df355c1d65cb99b",
            "618d070a58334c0780ea339ec11192d9",
            "f167840006c94a2486a56357d5b45a82",
            "da2741d8438449589f7c912e7dddf10c",
            "317bc71116dc47178bcae6e2d237472f",
            "1e421b3849e44dc0ac0664e3377fb7ec",
            "989aaff5dbfa415c97809495d6bafb66",
            "f379cade7abf4d36b84340b946223e5c",
            "c052a6a365c5410c977c6cae2317a85a",
            "cbf33cde2b35419fb368cbf06c77a493",
            "460bd74c550d4f52ae2f1a1ece598ab5",
            "a66579a2cb5942bd9e63fe54d79f13eb",
            "88f2a17e1a01472db0aa94f26b3a9cc7",
            "4bcc09e29a30497aa02b429bf04e6a80"
          ]
        },
        "id": "gz7-Te2d5L5s",
        "outputId": "ba50d7d5-6a06-4aad-c775-3bd59bc9de3a"
      },
      "id": "gz7-Te2d5L5s",
      "execution_count": 21,
      "outputs": [
        {
          "output_type": "display_data",
          "data": {
            "text/plain": [
              "Label(value='Submenú GuiasShewanella')"
            ],
            "application/vnd.jupyter.widget-view+json": {
              "version_major": 2,
              "version_minor": 0,
              "model_id": "88b5cd8c9e0e40cd8dce074d2276a8dd"
            }
          },
          "metadata": {}
        },
        {
          "output_type": "display_data",
          "data": {
            "text/plain": [
              "Button(description='Ejecutar Main', layout=Layout(border='solid 1px lightgray', height='40px', width='200px'),…"
            ],
            "application/vnd.jupyter.widget-view+json": {
              "version_major": 2,
              "version_minor": 0,
              "model_id": "618d070a58334c0780ea339ec11192d9"
            }
          },
          "metadata": {}
        },
        {
          "output_type": "display_data",
          "data": {
            "text/plain": [
              "Button(description='Buscar Guias Cas9', layout=Layout(border='solid 1px lightgray', height='40px', width='200p…"
            ],
            "application/vnd.jupyter.widget-view+json": {
              "version_major": 2,
              "version_minor": 0,
              "model_id": "da2741d8438449589f7c912e7dddf10c"
            }
          },
          "metadata": {}
        },
        {
          "output_type": "display_data",
          "data": {
            "text/plain": [
              "Button(description='Volver al Menú Principal', layout=Layout(border='solid 1px lightgray', height='40px', widt…"
            ],
            "application/vnd.jupyter.widget-view+json": {
              "version_major": 2,
              "version_minor": 0,
              "model_id": "1e421b3849e44dc0ac0664e3377fb7ec"
            }
          },
          "metadata": {}
        },
        {
          "output_type": "display_data",
          "data": {
            "text/plain": [
              "Output()"
            ],
            "application/vnd.jupyter.widget-view+json": {
              "version_major": 2,
              "version_minor": 0,
              "model_id": "f379cade7abf4d36b84340b946223e5c"
            }
          },
          "metadata": {}
        },
        {
          "output_type": "stream",
          "name": "stdout",
          "text": [
            "importing Jupyter notebook from GuiasShewanella.ipynb\n"
          ]
        },
        {
          "output_type": "display_data",
          "data": {
            "text/plain": [
              "Output()"
            ],
            "application/vnd.jupyter.widget-view+json": {
              "version_major": 2,
              "version_minor": 0,
              "model_id": "cbf33cde2b35419fb368cbf06c77a493"
            }
          },
          "metadata": {}
        },
        {
          "output_type": "display_data",
          "data": {
            "text/plain": [
              "Button(description='Instalar Librerías', style=ButtonStyle())"
            ],
            "application/vnd.jupyter.widget-view+json": {
              "version_major": 2,
              "version_minor": 0,
              "model_id": "a66579a2cb5942bd9e63fe54d79f13eb"
            }
          },
          "metadata": {}
        },
        {
          "output_type": "display_data",
          "data": {
            "text/plain": [
              "<Figure size 1500x500 with 3 Axes>"
            ],
            "image/png": "[encoded data removed]"
          },
          "metadata": {}
        },
        {
          "output_type": "stream",
          "name": "stdout",
          "text": [
            "                   Guide       Score   GC%         Tm Specificity  \\\n",
            "0   CGCCGCTGCGGCCCTCGGCC  105.400507  90.0  69.984051        True   \n",
            "1   TCGCCGCCGACGCCCGTGCC  102.916861  85.0  69.298886        True   \n",
            "2   GGCAAGCGCCGCGACGGCCG  102.468448  85.0  68.663635        True   \n",
            "3   CCCCGCCGGCGCTGTCACCG  101.540696  85.0  67.349319        True   \n",
            "4   CGCCCGCCTGGGACGTCGCG  101.519146  85.0  67.318791        True   \n",
            "..                   ...         ...   ...        ...         ...   \n",
            "71  GCGCGTTGAGCGCCTGCCGG   98.885537  80.0  66.421177        True   \n",
            "72  TCCACCCGCCCGGCCTTGCC   98.782355  80.0  66.275002        True   \n",
            "73  ACGGTCGGCCGCTCCTGGCC   98.564505  80.0  65.966383        True   \n",
            "74  GCCCAGCTCTCGCCCGCCCT   98.415526  80.0  65.755328        True   \n",
            "75  GGCCAAGGCGTCCAGCGGGC   98.142235  80.0  65.368166        True   \n",
            "\n",
            "                File  \n",
            "0     U12441.2.fasta  \n",
            "1     U12441.2.fasta  \n",
            "2     U12441.2.fasta  \n",
            "3     U12441.2.fasta  \n",
            "4     U12441.2.fasta  \n",
            "..               ...  \n",
            "71  AY219651.1.fasta  \n",
            "72  AY219651.1.fasta  \n",
            "73  AY219651.1.fasta  \n",
            "74  AY219651.1.fasta  \n",
            "75  AY219651.1.fasta  \n",
            "\n",
            "[76 rows x 6 columns]\n"
          ]
        }
      ]
    }
  ],
  "metadata": {
    "colab": {
      "provenance": [],
      "machine_shape": "hm"
    },
    "language_info": {
      "name": "python"
    },
    "kernelspec": {
      "name": "python3",
      "display_name": "Python 3"
    },
    "widgets": {
      "application/vnd.jupyter.widget-state+json": {
        "f59810344755458dac69fdb570d3f3b2": {
          "model_module": "@jupyter-widgets/controls",
          "model_name": "ButtonModel",
          "model_module_version": "1.5.0",
          "state": {
            "_dom_classes": [],
            "_model_module": "@jupyter-widgets/controls",
            "_model_module_version": "1.5.0",
            "_model_name": "ButtonModel",
            "_view_count": null,
            "_view_module": "@jupyter-widgets/controls",
            "_view_module_version": "1.5.0",
            "_view_name": "ButtonView",
            "button_style": "",
            "description": "Instalar Librerías",
            "disabled": false,
            "icon": "",
            "layout": "IPY_MODEL_c3d3b8865480440a818111156fffcabb",
            "style": "IPY_MODEL_2319e55e3d324cb6a3b95023a491f91e",
            "tooltip": ""
          }
        },
        "c3d3b8865480440a818111156fffcabb": {
          "model_module": "@jupyter-widgets/base",
          "model_name": "LayoutModel",
          "model_module_version": "1.2.0",
          "state": {
            "_model_module": "@jupyter-widgets/base",
            "_model_module_version": "1.2.0",
            "_model_name": "LayoutModel",
            "_view_count": null,
            "_view_module": "@jupyter-widgets/base",
            "_view_module_version": "1.2.0",
            "_view_name": "LayoutView",
            "align_content": null,
            "align_items": null,
            "align_self": null,
            "border": null,
            "bottom": null,
            "display": null,
            "flex": null,
            "flex_flow": null,
            "grid_area": null,
            "grid_auto_columns": null,
            "grid_auto_flow": null,
            "grid_auto_rows": null,
            "grid_column": null,
            "grid_gap": null,
            "grid_row": null,
            "grid_template_areas": null,
            "grid_template_columns": null,
            "grid_template_rows": null,
            "height": null,
            "justify_content": null,
            "justify_items": null,
            "left": null,
            "margin": null,
            "max_height": null,
            "max_width": null,
            "min_height": null,
            "min_width": null,
            "object_fit": null,
            "object_position": null,
            "order": null,
            "overflow": null,
            "overflow_x": null,
            "overflow_y": null,
            "padding": null,
            "right": null,
            "top": null,
            "visibility": null,
            "width": null
          }
        },
        "2319e55e3d324cb6a3b95023a491f91e": {
          "model_module": "@jupyter-widgets/controls",
          "model_name": "ButtonStyleModel",
          "model_module_version": "1.5.0",
          "state": {
            "_model_module": "@jupyter-widgets/controls",
            "_model_module_version": "1.5.0",
            "_model_name": "ButtonStyleModel",
            "_view_count": null,
            "_view_module": "@jupyter-widgets/base",
            "_view_module_version": "1.2.0",
            "_view_name": "StyleView",
            "button_color": null,
            "font_weight": ""
          }
        },
        "b3c6c96516d5440283e01dd508901890": {
          "model_module": "@jupyter-widgets/output",
          "model_name": "OutputModel",
          "model_module_version": "1.0.0",
          "state": {
            "_dom_classes": [],
            "_model_module": "@jupyter-widgets/output",
            "_model_module_version": "1.0.0",
            "_model_name": "OutputModel",
            "_view_count": null,
            "_view_module": "@jupyter-widgets/output",
            "_view_module_version": "1.0.0",
            "_view_name": "OutputView",
            "layout": "IPY_MODEL_264828f2280f4da99149578c18607b58",
            "msg_id": "",
            "outputs": [
              {
                "output_type": "display_data",
                "data": {
                  "text/plain": "VBox(children=(Label(value='Iniciando instalación...'), IntProgress(value=0, bar_style='info', max=8)))",
                  "application/vnd.jupyter.widget-view+json": {
                    "version_major": 2,
                    "version_minor": 0,
                    "model_id": "3b670f319a8b47138bc1d90096a7ddad"
                  }
                },
                "metadata": {}
              }
            ]
          }
        },
        "3b670f319a8b47138bc1d90096a7ddad": {
          "model_module": "@jupyter-widgets/controls",
          "model_name": "VBoxModel",
          "model_module_version": "1.5.0",
          "state": {
            "_dom_classes": [],
            "_model_module": "@jupyter-widgets/controls",
            "_model_module_version": "1.5.0",
            "_model_name": "VBoxModel",
            "_view_count": null,
            "_view_module": "@jupyter-widgets/controls",
            "_view_module_version": "1.5.0",
            "_view_name": "VBoxView",
            "box_style": "",
            "children": [
              "IPY_MODEL_6db956947f07484d845ba91631a54389",
              "IPY_MODEL_f8585c80445b49c298524d8497d5cef4"
            ],
            "layout": "IPY_MODEL_2e9ba1608c8b49ddb80b1b1323b84449"
          }
        },
        "264828f2280f4da99149578c18607b58": {
          "model_module": "@jupyter-widgets/base",
          "model_name": "LayoutModel",
          "model_module_version": "1.2.0",
          "state": {
            "_model_module": "@jupyter-widgets/base",
            "_model_module_version": "1.2.0",
            "_model_name": "LayoutModel",
            "_view_count": null,
            "_view_module": "@jupyter-widgets/base",
            "_view_module_version": "1.2.0",
            "_view_name": "LayoutView",
            "align_content": null,
            "align_items": null,
            "align_self": null,
            "border": null,
            "bottom": null,
            "display": null,
            "flex": null,
            "flex_flow": null,
            "grid_area": null,
            "grid_auto_columns": null,
            "grid_auto_flow": null,
            "grid_auto_rows": null,
            "grid_column": null,
            "grid_gap": null,
            "grid_row": null,
            "grid_template_areas": null,
            "grid_template_columns": null,
            "grid_template_rows": null,
            "height": null,
            "justify_content": null,
            "justify_items": null,
            "left": null,
            "margin": null,
            "max_height": null,
            "max_width": null,
            "min_height": null,
            "min_width": null,
            "object_fit": null,
            "object_position": null,
            "order": null,
            "overflow": null,
            "overflow_x": null,
            "overflow_y": null,
            "padding": null,
            "right": null,
            "top": null,
            "visibility": null,
            "width": null
          }
        },
        "6db956947f07484d845ba91631a54389": {
          "model_module": "@jupyter-widgets/controls",
          "model_name": "LabelModel",
          "model_module_version": "1.5.0",
          "state": {
            "_dom_classes": [],
            "_model_module": "@jupyter-widgets/controls",
            "_model_module_version": "1.5.0",
            "_model_name": "LabelModel",
            "_view_count": null,
            "_view_module": "@jupyter-widgets/controls",
            "_view_module_version": "1.5.0",
            "_view_name": "LabelView",
            "description": "",
            "description_tooltip": null,
            "layout": "IPY_MODEL_d414a0b92aa145f49d02edb9dde82bed",
            "placeholder": "​",
            "style": "IPY_MODEL_5f85f7a4896c4f4e931064716b82884f",
            "value": "Proceso de instalación completado."
          }
        },
        "f8585c80445b49c298524d8497d5cef4": {
          "model_module": "@jupyter-widgets/controls",
          "model_name": "IntProgressModel",
          "model_module_version": "1.5.0",
          "state": {
            "_dom_classes": [],
            "_model_module": "@jupyter-widgets/controls",
            "_model_module_version": "1.5.0",
            "_model_name": "IntProgressModel",
            "_view_count": null,
            "_view_module": "@jupyter-widgets/controls",
            "_view_module_version": "1.5.0",
            "_view_name": "ProgressView",
            "bar_style": "info",
            "description": "",
            "description_tooltip": null,
            "layout": "IPY_MODEL_7767e0cd597a4422889d7916ecb9585a",
            "max": 8,
            "min": 0,
            "orientation": "horizontal",
            "style": "IPY_MODEL_1d3d223c2d514b20bd1f38dc7508f189",
            "value": 8
          }
        },
        "2e9ba1608c8b49ddb80b1b1323b84449": {
          "model_module": "@jupyter-widgets/base",
          "model_name": "LayoutModel",
          "model_module_version": "1.2.0",
          "state": {
            "_model_module": "@jupyter-widgets/base",
            "_model_module_version": "1.2.0",
            "_model_name": "LayoutModel",
            "_view_count": null,
            "_view_module": "@jupyter-widgets/base",
            "_view_module_version": "1.2.0",
            "_view_name": "LayoutView",
            "align_content": null,
            "align_items": null,
            "align_self": null,
            "border": null,
            "bottom": null,
            "display": null,
            "flex": null,
            "flex_flow": null,
            "grid_area": null,
            "grid_auto_columns": null,
            "grid_auto_flow": null,
            "grid_auto_rows": null,
            "grid_column": null,
            "grid_gap": null,
            "grid_row": null,
            "grid_template_areas": null,
            "grid_template_columns": null,
            "grid_template_rows": null,
            "height": null,
            "justify_content": null,
            "justify_items": null,
            "left": null,
            "margin": null,
            "max_height": null,
            "max_width": null,
            "min_height": null,
            "min_width": null,
            "object_fit": null,
            "object_position": null,
            "order": null,
            "overflow": null,
            "overflow_x": null,
            "overflow_y": null,
            "padding": null,
            "right": null,
            "top": null,
            "visibility": null,
            "width": null
          }
        },
        "d414a0b92aa145f49d02edb9dde82bed": {
          "model_module": "@jupyter-widgets/base",
          "model_name": "LayoutModel",
          "model_module_version": "1.2.0",
          "state": {
            "_model_module": "@jupyter-widgets/base",
            "_model_module_version": "1.2.0",
            "_model_name": "LayoutModel",
            "_view_count": null,
            "_view_module": "@jupyter-widgets/base",
            "_view_module_version": "1.2.0",
            "_view_name": "LayoutView",
            "align_content": null,
            "align_items": null,
            "align_self": null,
            "border": null,
            "bottom": null,
            "display": null,
            "flex": null,
            "flex_flow": null,
            "grid_area": null,
            "grid_auto_columns": null,
            "grid_auto_flow": null,
            "grid_auto_rows": null,
            "grid_column": null,
            "grid_gap": null,
            "grid_row": null,
            "grid_template_areas": null,
            "grid_template_columns": null,
            "grid_template_rows": null,
            "height": null,
            "justify_content": null,
            "justify_items": null,
            "left": null,
            "margin": null,
            "max_height": null,
            "max_width": null,
            "min_height": null,
            "min_width": null,
            "object_fit": null,
            "object_position": null,
            "order": null,
            "overflow": null,
            "overflow_x": null,
            "overflow_y": null,
            "padding": null,
            "right": null,
            "top": null,
            "visibility": null,
            "width": null
          }
        },
        "5f85f7a4896c4f4e931064716b82884f": {
          "model_module": "@jupyter-widgets/controls",
          "model_name": "DescriptionStyleModel",
          "model_module_version": "1.5.0",
          "state": {
            "_model_module": "@jupyter-widgets/controls",
            "_model_module_version": "1.5.0",
            "_model_name": "DescriptionStyleModel",
            "_view_count": null,
            "_view_module": "@jupyter-widgets/base",
            "_view_module_version": "1.2.0",
            "_view_name": "StyleView",
            "description_width": ""
          }
        },
        "7767e0cd597a4422889d7916ecb9585a": {
          "model_module": "@jupyter-widgets/base",
          "model_name": "LayoutModel",
          "model_module_version": "1.2.0",
          "state": {
            "_model_module": "@jupyter-widgets/base",
            "_model_module_version": "1.2.0",
            "_model_name": "LayoutModel",
            "_view_count": null,
            "_view_module": "@jupyter-widgets/base",
            "_view_module_version": "1.2.0",
            "_view_name": "LayoutView",
            "align_content": null,
            "align_items": null,
            "align_self": null,
            "border": null,
            "bottom": null,
            "display": null,
            "flex": null,
            "flex_flow": null,
            "grid_area": null,
            "grid_auto_columns": null,
            "grid_auto_flow": null,
            "grid_auto_rows": null,
            "grid_column": null,
            "grid_gap": null,
            "grid_row": null,
            "grid_template_areas": null,
            "grid_template_columns": null,
            "grid_template_rows": null,
            "height": null,
            "justify_content": null,
            "justify_items": null,
            "left": null,
            "margin": null,
            "max_height": null,
            "max_width": null,
            "min_height": null,
            "min_width": null,
            "object_fit": null,
            "object_position": null,
            "order": null,
            "overflow": null,
            "overflow_x": null,
            "overflow_y": null,
            "padding": null,
            "right": null,
            "top": null,
            "visibility": null,
            "width": null
          }
        },
        "1d3d223c2d514b20bd1f38dc7508f189": {
          "model_module": "@jupyter-widgets/controls",
          "model_name": "ProgressStyleModel",
          "model_module_version": "1.5.0",
          "state": {
            "_model_module": "@jupyter-widgets/controls",
            "_model_module_version": "1.5.0",
            "_model_name": "ProgressStyleModel",
            "_view_count": null,
            "_view_module": "@jupyter-widgets/base",
            "_view_module_version": "1.2.0",
            "_view_name": "StyleView",
            "bar_color": null,
            "description_width": ""
          }
        },
        "29926cea01ba40febadf681865349ffc": {
          "model_module": "@jupyter-widgets/output",
          "model_name": "OutputModel",
          "model_module_version": "1.0.0",
          "state": {
            "_dom_classes": [],
            "_model_module": "@jupyter-widgets/output",
            "_model_module_version": "1.0.0",
            "_model_name": "OutputModel",
            "_view_count": null,
            "_view_module": "@jupyter-widgets/output",
            "_view_module_version": "1.0.0",
            "_view_name": "OutputView",
            "layout": "IPY_MODEL_662f3b40357a4629aed79e2e8861d0f7",
            "msg_id": "",
            "outputs": []
          }
        },
        "662f3b40357a4629aed79e2e8861d0f7": {
          "model_module": "@jupyter-widgets/base",
          "model_name": "LayoutModel",
          "model_module_version": "1.2.0",
          "state": {
            "_model_module": "@jupyter-widgets/base",
            "_model_module_version": "1.2.0",
            "_model_name": "LayoutModel",
            "_view_count": null,
            "_view_module": "@jupyter-widgets/base",
            "_view_module_version": "1.2.0",
            "_view_name": "LayoutView",
            "align_content": null,
            "align_items": null,
            "align_self": null,
            "border": null,
            "bottom": null,
            "display": null,
            "flex": null,
            "flex_flow": null,
            "grid_area": null,
            "grid_auto_columns": null,
            "grid_auto_flow": null,
            "grid_auto_rows": null,
            "grid_column": null,
            "grid_gap": null,
            "grid_row": null,
            "grid_template_areas": null,
            "grid_template_columns": null,
            "grid_template_rows": null,
            "height": null,
            "justify_content": null,
            "justify_items": null,
            "left": null,
            "margin": null,
            "max_height": null,
            "max_width": null,
            "min_height": null,
            "min_width": null,
            "object_fit": null,
            "object_position": null,
            "order": null,
            "overflow": null,
            "overflow_x": null,
            "overflow_y": null,
            "padding": null,
            "right": null,
            "top": null,
            "visibility": null,
            "width": null
          }
        },
        "4ef4436445ae44ce94d682db0ae0a423": {
          "model_module": "@jupyter-widgets/controls",
          "model_name": "ButtonModel",
          "model_module_version": "1.5.0",
          "state": {
            "_dom_classes": [],
            "_model_module": "@jupyter-widgets/controls",
            "_model_module_version": "1.5.0",
            "_model_name": "ButtonModel",
            "_view_count": null,
            "_view_module": "@jupyter-widgets/controls",
            "_view_module_version": "1.5.0",
            "_view_name": "ButtonView",
            "button_style": "",
            "description": "Instalar Librerías",
            "disabled": false,
            "icon": "",
            "layout": "IPY_MODEL_0eed52d97ea94c1d93b34e9cf69a52f8",
            "style": "IPY_MODEL_0de9918cbf6d4140ac7763c188688d7f",
            "tooltip": ""
          }
        },
        "0eed52d97ea94c1d93b34e9cf69a52f8": {
          "model_module": "@jupyter-widgets/base",
          "model_name": "LayoutModel",
          "model_module_version": "1.2.0",
          "state": {
            "_model_module": "@jupyter-widgets/base",
            "_model_module_version": "1.2.0",
            "_model_name": "LayoutModel",
            "_view_count": null,
            "_view_module": "@jupyter-widgets/base",
            "_view_module_version": "1.2.0",
            "_view_name": "LayoutView",
            "align_content": null,
            "align_items": null,
            "align_self": null,
            "border": null,
            "bottom": null,
            "display": null,
            "flex": null,
            "flex_flow": null,
            "grid_area": null,
            "grid_auto_columns": null,
            "grid_auto_flow": null,
            "grid_auto_rows": null,
            "grid_column": null,
            "grid_gap": null,
            "grid_row": null,
            "grid_template_areas": null,
            "grid_template_columns": null,
            "grid_template_rows": null,
            "height": null,
            "justify_content": null,
            "justify_items": null,
            "left": null,
            "margin": null,
            "max_height": null,
            "max_width": null,
            "min_height": null,
            "min_width": null,
            "object_fit": null,
            "object_position": null,
            "order": null,
            "overflow": null,
            "overflow_x": null,
            "overflow_y": null,
            "padding": null,
            "right": null,
            "top": null,
            "visibility": null,
            "width": null
          }
        },
        "0de9918cbf6d4140ac7763c188688d7f": {
          "model_module": "@jupyter-widgets/controls",
          "model_name": "ButtonStyleModel",
          "model_module_version": "1.5.0",
          "state": {
            "_model_module": "@jupyter-widgets/controls",
            "_model_module_version": "1.5.0",
            "_model_name": "ButtonStyleModel",
            "_view_count": null,
            "_view_module": "@jupyter-widgets/base",
            "_view_module_version": "1.2.0",
            "_view_name": "StyleView",
            "button_color": null,
            "font_weight": ""
          }
        },
        "adb8b72957f846f09c9c52b0aeaa507a": {
          "model_module": "@jupyter-widgets/controls",
          "model_name": "ButtonModel",
          "model_module_version": "1.5.0",
          "state": {
            "_dom_classes": [],
            "_model_module": "@jupyter-widgets/controls",
            "_model_module_version": "1.5.0",
            "_model_name": "ButtonModel",
            "_view_count": null,
            "_view_module": "@jupyter-widgets/controls",
            "_view_module_version": "1.5.0",
            "_view_name": "ButtonView",
            "button_style": "",
            "description": "Módulo BDShewanella",
            "disabled": false,
            "icon": "",
            "layout": "IPY_MODEL_d7449fde1cef4c4680f85cbe6fc79f70",
            "style": "IPY_MODEL_3ab1c3cc0fc243ef9f4a21bc268423af",
            "tooltip": ""
          }
        },
        "d7449fde1cef4c4680f85cbe6fc79f70": {
          "model_module": "@jupyter-widgets/base",
          "model_name": "LayoutModel",
          "model_module_version": "1.2.0",
          "state": {
            "_model_module": "@jupyter-widgets/base",
            "_model_module_version": "1.2.0",
            "_model_name": "LayoutModel",
            "_view_count": null,
            "_view_module": "@jupyter-widgets/base",
            "_view_module_version": "1.2.0",
            "_view_name": "LayoutView",
            "align_content": null,
            "align_items": null,
            "align_self": null,
            "border": "solid 1px lightgray",
            "bottom": null,
            "display": null,
            "flex": null,
            "flex_flow": null,
            "grid_area": null,
            "grid_auto_columns": null,
            "grid_auto_flow": null,
            "grid_auto_rows": null,
            "grid_column": null,
            "grid_gap": null,
            "grid_row": null,
            "grid_template_areas": null,
            "grid_template_columns": null,
            "grid_template_rows": null,
            "height": "40px",
            "justify_content": null,
            "justify_items": null,
            "left": null,
            "margin": null,
            "max_height": null,
            "max_width": null,
            "min_height": null,
            "min_width": null,
            "object_fit": null,
            "object_position": null,
            "order": null,
            "overflow": null,
            "overflow_x": null,
            "overflow_y": null,
            "padding": null,
            "right": null,
            "top": null,
            "visibility": null,
            "width": "200px"
          }
        },
        "3ab1c3cc0fc243ef9f4a21bc268423af": {
          "model_module": "@jupyter-widgets/controls",
          "model_name": "ButtonStyleModel",
          "model_module_version": "1.5.0",
          "state": {
            "_model_module": "@jupyter-widgets/controls",
            "_model_module_version": "1.5.0",
            "_model_name": "ButtonStyleModel",
            "_view_count": null,
            "_view_module": "@jupyter-widgets/base",
            "_view_module_version": "1.2.0",
            "_view_name": "StyleView",
            "button_color": null,
            "font_weight": ""
          }
        },
        "432f8b5ec440494888a834f187ad5d5c": {
          "model_module": "@jupyter-widgets/controls",
          "model_name": "ButtonModel",
          "model_module_version": "1.5.0",
          "state": {
            "_dom_classes": [],
            "_model_module": "@jupyter-widgets/controls",
            "_model_module_version": "1.5.0",
            "_model_name": "ButtonModel",
            "_view_count": null,
            "_view_module": "@jupyter-widgets/controls",
            "_view_module_version": "1.5.0",
            "_view_name": "ButtonView",
            "button_style": "",
            "description": "Módulo AMShewanella",
            "disabled": false,
            "icon": "",
            "layout": "IPY_MODEL_d7449fde1cef4c4680f85cbe6fc79f70",
            "style": "IPY_MODEL_2c48689cca3a40a490366560280e1ef4",
            "tooltip": ""
          }
        },
        "2c48689cca3a40a490366560280e1ef4": {
          "model_module": "@jupyter-widgets/controls",
          "model_name": "ButtonStyleModel",
          "model_module_version": "1.5.0",
          "state": {
            "_model_module": "@jupyter-widgets/controls",
            "_model_module_version": "1.5.0",
            "_model_name": "ButtonStyleModel",
            "_view_count": null,
            "_view_module": "@jupyter-widgets/base",
            "_view_module_version": "1.2.0",
            "_view_name": "StyleView",
            "button_color": null,
            "font_weight": ""
          }
        },
        "f83d6c63d7734c658c739bb67309d30e": {
          "model_module": "@jupyter-widgets/controls",
          "model_name": "ButtonModel",
          "model_module_version": "1.5.0",
          "state": {
            "_dom_classes": [],
            "_model_module": "@jupyter-widgets/controls",
            "_model_module_version": "1.5.0",
            "_model_name": "ButtonModel",
            "_view_count": null,
            "_view_module": "@jupyter-widgets/controls",
            "_view_module_version": "1.5.0",
            "_view_name": "ButtonView",
            "button_style": "",
            "description": "Módulo GuiasShewanella",
            "disabled": false,
            "icon": "",
            "layout": "IPY_MODEL_d7449fde1cef4c4680f85cbe6fc79f70",
            "style": "IPY_MODEL_88b4d26be93c47da860c592df24747db",
            "tooltip": ""
          }
        },
        "88b4d26be93c47da860c592df24747db": {
          "model_module": "@jupyter-widgets/controls",
          "model_name": "ButtonStyleModel",
          "model_module_version": "1.5.0",
          "state": {
            "_model_module": "@jupyter-widgets/controls",
            "_model_module_version": "1.5.0",
            "_model_name": "ButtonStyleModel",
            "_view_count": null,
            "_view_module": "@jupyter-widgets/base",
            "_view_module_version": "1.2.0",
            "_view_name": "StyleView",
            "button_color": null,
            "font_weight": ""
          }
        },
        "f83d178630774341af7865cd1fcadb55": {
          "model_module": "@jupyter-widgets/controls",
          "model_name": "ButtonModel",
          "model_module_version": "1.5.0",
          "state": {
            "_dom_classes": [],
            "_model_module": "@jupyter-widgets/controls",
            "_model_module_version": "1.5.0",
            "_model_name": "ButtonModel",
            "_view_count": null,
            "_view_module": "@jupyter-widgets/controls",
            "_view_module_version": "1.5.0",
            "_view_name": "ButtonView",
            "button_style": "",
            "description": "Herramientas Adicionales",
            "disabled": false,
            "icon": "",
            "layout": "IPY_MODEL_d7449fde1cef4c4680f85cbe6fc79f70",
            "style": "IPY_MODEL_a5ab81589e094b209afd209f9260109b",
            "tooltip": ""
          }
        },
        "a5ab81589e094b209afd209f9260109b": {
          "model_module": "@jupyter-widgets/controls",
          "model_name": "ButtonStyleModel",
          "model_module_version": "1.5.0",
          "state": {
            "_model_module": "@jupyter-widgets/controls",
            "_model_module_version": "1.5.0",
            "_model_name": "ButtonStyleModel",
            "_view_count": null,
            "_view_module": "@jupyter-widgets/base",
            "_view_module_version": "1.2.0",
            "_view_name": "StyleView",
            "button_color": null,
            "font_weight": ""
          }
        },
        "1eadd6c3cd2041a6815862cdff5e6294": {
          "model_module": "@jupyter-widgets/controls",
          "model_name": "ButtonModel",
          "model_module_version": "1.5.0",
          "state": {
            "_dom_classes": [],
            "_model_module": "@jupyter-widgets/controls",
            "_model_module_version": "1.5.0",
            "_model_name": "ButtonModel",
            "_view_count": null,
            "_view_module": "@jupyter-widgets/controls",
            "_view_module_version": "1.5.0",
            "_view_name": "ButtonView",
            "button_style": "",
            "description": "Salir",
            "disabled": false,
            "icon": "",
            "layout": "IPY_MODEL_d7449fde1cef4c4680f85cbe6fc79f70",
            "style": "IPY_MODEL_42032eae21e4434aa879df192d2b7904",
            "tooltip": ""
          }
        },
        "42032eae21e4434aa879df192d2b7904": {
          "model_module": "@jupyter-widgets/controls",
          "model_name": "ButtonStyleModel",
          "model_module_version": "1.5.0",
          "state": {
            "_model_module": "@jupyter-widgets/controls",
            "_model_module_version": "1.5.0",
            "_model_name": "ButtonStyleModel",
            "_view_count": null,
            "_view_module": "@jupyter-widgets/base",
            "_view_module_version": "1.2.0",
            "_view_name": "StyleView",
            "button_color": null,
            "font_weight": ""
          }
        },
        "88b5cd8c9e0e40cd8dce074d2276a8dd": {
          "model_module": "@jupyter-widgets/controls",
          "model_name": "LabelModel",
          "model_module_version": "1.5.0",
          "state": {
            "_dom_classes": [],
            "_model_module": "@jupyter-widgets/controls",
            "_model_module_version": "1.5.0",
            "_model_name": "LabelModel",
            "_view_count": null,
            "_view_module": "@jupyter-widgets/controls",
            "_view_module_version": "1.5.0",
            "_view_name": "LabelView",
            "description": "",
            "description_tooltip": null,
            "layout": "IPY_MODEL_80ec2b4ccee047b9acb250d4601218fa",
            "placeholder": "​",
            "style": "IPY_MODEL_82f68767033045a49df355c1d65cb99b",
            "value": "Submenú GuiasShewanella"
          }
        },
        "80ec2b4ccee047b9acb250d4601218fa": {
          "model_module": "@jupyter-widgets/base",
          "model_name": "LayoutModel",
          "model_module_version": "1.2.0",
          "state": {
            "_model_module": "@jupyter-widgets/base",
            "_model_module_version": "1.2.0",
            "_model_name": "LayoutModel",
            "_view_count": null,
            "_view_module": "@jupyter-widgets/base",
            "_view_module_version": "1.2.0",
            "_view_name": "LayoutView",
            "align_content": null,
            "align_items": null,
            "align_self": null,
            "border": null,
            "bottom": null,
            "display": null,
            "flex": null,
            "flex_flow": null,
            "grid_area": null,
            "grid_auto_columns": null,
            "grid_auto_flow": null,
            "grid_auto_rows": null,
            "grid_column": null,
            "grid_gap": null,
            "grid_row": null,
            "grid_template_areas": null,
            "grid_template_columns": null,
            "grid_template_rows": null,
            "height": null,
            "justify_content": null,
            "justify_items": null,
            "left": null,
            "margin": null,
            "max_height": null,
            "max_width": null,
            "min_height": null,
            "min_width": null,
            "object_fit": null,
            "object_position": null,
            "order": null,
            "overflow": null,
            "overflow_x": null,
            "overflow_y": null,
            "padding": null,
            "right": null,
            "top": null,
            "visibility": null,
            "width": null
          }
        },
        "82f68767033045a49df355c1d65cb99b": {
          "model_module": "@jupyter-widgets/controls",
          "model_name": "DescriptionStyleModel",
          "model_module_version": "1.5.0",
          "state": {
            "_model_module": "@jupyter-widgets/controls",
            "_model_module_version": "1.5.0",
            "_model_name": "DescriptionStyleModel",
            "_view_count": null,
            "_view_module": "@jupyter-widgets/base",
            "_view_module_version": "1.2.0",
            "_view_name": "StyleView",
            "description_width": ""
          }
        },
        "618d070a58334c0780ea339ec11192d9": {
          "model_module": "@jupyter-widgets/controls",
          "model_name": "ButtonModel",
          "model_module_version": "1.5.0",
          "state": {
            "_dom_classes": [],
            "_model_module": "@jupyter-widgets/controls",
            "_model_module_version": "1.5.0",
            "_model_name": "ButtonModel",
            "_view_count": null,
            "_view_module": "@jupyter-widgets/controls",
            "_view_module_version": "1.5.0",
            "_view_name": "ButtonView",
            "button_style": "",
            "description": "Ejecutar Main",
            "disabled": false,
            "icon": "",
            "layout": "IPY_MODEL_d7449fde1cef4c4680f85cbe6fc79f70",
            "style": "IPY_MODEL_f167840006c94a2486a56357d5b45a82",
            "tooltip": ""
          }
        },
        "f167840006c94a2486a56357d5b45a82": {
          "model_module": "@jupyter-widgets/controls",
          "model_name": "ButtonStyleModel",
          "model_module_version": "1.5.0",
          "state": {
            "_model_module": "@jupyter-widgets/controls",
            "_model_module_version": "1.5.0",
            "_model_name": "ButtonStyleModel",
            "_view_count": null,
            "_view_module": "@jupyter-widgets/base",
            "_view_module_version": "1.2.0",
            "_view_name": "StyleView",
            "button_color": null,
            "font_weight": ""
          }
        },
        "da2741d8438449589f7c912e7dddf10c": {
          "model_module": "@jupyter-widgets/controls",
          "model_name": "ButtonModel",
          "model_module_version": "1.5.0",
          "state": {
            "_dom_classes": [],
            "_model_module": "@jupyter-widgets/controls",
            "_model_module_version": "1.5.0",
            "_model_name": "ButtonModel",
            "_view_count": null,
            "_view_module": "@jupyter-widgets/controls",
            "_view_module_version": "1.5.0",
            "_view_name": "ButtonView",
            "button_style": "",
            "description": "Buscar Guias Cas9",
            "disabled": false,
            "icon": "",
            "layout": "IPY_MODEL_d7449fde1cef4c4680f85cbe6fc79f70",
            "style": "IPY_MODEL_317bc71116dc47178bcae6e2d237472f",
            "tooltip": ""
          }
        },
        "317bc71116dc47178bcae6e2d237472f": {
          "model_module": "@jupyter-widgets/controls",
          "model_name": "ButtonStyleModel",
          "model_module_version": "1.5.0",
          "state": {
            "_model_module": "@jupyter-widgets/controls",
            "_model_module_version": "1.5.0",
            "_model_name": "ButtonStyleModel",
            "_view_count": null,
            "_view_module": "@jupyter-widgets/base",
            "_view_module_version": "1.2.0",
            "_view_name": "StyleView",
            "button_color": null,
            "font_weight": ""
          }
        },
        "1e421b3849e44dc0ac0664e3377fb7ec": {
          "model_module": "@jupyter-widgets/controls",
          "model_name": "ButtonModel",
          "model_module_version": "1.5.0",
          "state": {
            "_dom_classes": [],
            "_model_module": "@jupyter-widgets/controls",
            "_model_module_version": "1.5.0",
            "_model_name": "ButtonModel",
            "_view_count": null,
            "_view_module": "@jupyter-widgets/controls",
            "_view_module_version": "1.5.0",
            "_view_name": "ButtonView",
            "button_style": "",
            "description": "Volver al Menú Principal",
            "disabled": false,
            "icon": "",
            "layout": "IPY_MODEL_d7449fde1cef4c4680f85cbe6fc79f70",
            "style": "IPY_MODEL_989aaff5dbfa415c97809495d6bafb66",
            "tooltip": ""
          }
        },
        "989aaff5dbfa415c97809495d6bafb66": {
          "model_module": "@jupyter-widgets/controls",
          "model_name": "ButtonStyleModel",
          "model_module_version": "1.5.0",
          "state": {
            "_model_module": "@jupyter-widgets/controls",
            "_model_module_version": "1.5.0",
            "_model_name": "ButtonStyleModel",
            "_view_count": null,
            "_view_module": "@jupyter-widgets/base",
            "_view_module_version": "1.2.0",
            "_view_name": "StyleView",
            "button_color": null,
            "font_weight": ""
          }
        },
        "f379cade7abf4d36b84340b946223e5c": {
          "model_module": "@jupyter-widgets/output",
          "model_name": "OutputModel",
          "model_module_version": "1.0.0",
          "state": {
            "_dom_classes": [],
            "_model_module": "@jupyter-widgets/output",
            "_model_module_version": "1.0.0",
            "_model_name": "OutputModel",
            "_view_count": null,
            "_view_module": "@jupyter-widgets/output",
            "_view_module_version": "1.0.0",
            "_view_name": "OutputView",
            "layout": "IPY_MODEL_c052a6a365c5410c977c6cae2317a85a",
            "msg_id": "",
            "outputs": []
          }
        },
        "c052a6a365c5410c977c6cae2317a85a": {
          "model_module": "@jupyter-widgets/base",
          "model_name": "LayoutModel",
          "model_module_version": "1.2.0",
          "state": {
            "_model_module": "@jupyter-widgets/base",
            "_model_module_version": "1.2.0",
            "_model_name": "LayoutModel",
            "_view_count": null,
            "_view_module": "@jupyter-widgets/base",
            "_view_module_version": "1.2.0",
            "_view_name": "LayoutView",
            "align_content": null,
            "align_items": null,
            "align_self": null,
            "border": null,
            "bottom": null,
            "display": null,
            "flex": null,
            "flex_flow": null,
            "grid_area": null,
            "grid_auto_columns": null,
            "grid_auto_flow": null,
            "grid_auto_rows": null,
            "grid_column": null,
            "grid_gap": null,
            "grid_row": null,
            "grid_template_areas": null,
            "grid_template_columns": null,
            "grid_template_rows": null,
            "height": null,
            "justify_content": null,
            "justify_items": null,
            "left": null,
            "margin": null,
            "max_height": null,
            "max_width": null,
            "min_height": null,
            "min_width": null,
            "object_fit": null,
            "object_position": null,
            "order": null,
            "overflow": null,
            "overflow_x": null,
            "overflow_y": null,
            "padding": null,
            "right": null,
            "top": null,
            "visibility": null,
            "width": null
          }
        },
        "cbf33cde2b35419fb368cbf06c77a493": {
          "model_module": "@jupyter-widgets/output",
          "model_name": "OutputModel",
          "model_module_version": "1.0.0",
          "state": {
            "_dom_classes": [],
            "_model_module": "@jupyter-widgets/output",
            "_model_module_version": "1.0.0",
            "_model_name": "OutputModel",
            "_view_count": null,
            "_view_module": "@jupyter-widgets/output",
            "_view_module_version": "1.0.0",
            "_view_name": "OutputView",
            "layout": "IPY_MODEL_460bd74c550d4f52ae2f1a1ece598ab5",
            "msg_id": "",
            "outputs": []
          }
        },
        "460bd74c550d4f52ae2f1a1ece598ab5": {
          "model_module": "@jupyter-widgets/base",
          "model_name": "LayoutModel",
          "model_module_version": "1.2.0",
          "state": {
            "_model_module": "@jupyter-widgets/base",
            "_model_module_version": "1.2.0",
            "_model_name": "LayoutModel",
            "_view_count": null,
            "_view_module": "@jupyter-widgets/base",
            "_view_module_version": "1.2.0",
            "_view_name": "LayoutView",
            "align_content": null,
            "align_items": null,
            "align_self": null,
            "border": null,
            "bottom": null,
            "display": null,
            "flex": null,
            "flex_flow": null,
            "grid_area": null,
            "grid_auto_columns": null,
            "grid_auto_flow": null,
            "grid_auto_rows": null,
            "grid_column": null,
            "grid_gap": null,
            "grid_row": null,
            "grid_template_areas": null,
            "grid_template_columns": null,
            "grid_template_rows": null,
            "height": null,
            "justify_content": null,
            "justify_items": null,
            "left": null,
            "margin": null,
            "max_height": null,
            "max_width": null,
            "min_height": null,
            "min_width": null,
            "object_fit": null,
            "object_position": null,
            "order": null,
            "overflow": null,
            "overflow_x": null,
            "overflow_y": null,
            "padding": null,
            "right": null,
            "top": null,
            "visibility": null,
            "width": null
          }
        },
        "a66579a2cb5942bd9e63fe54d79f13eb": {
          "model_module": "@jupyter-widgets/controls",
          "model_name": "ButtonModel",
          "model_module_version": "1.5.0",
          "state": {
            "_dom_classes": [],
            "_model_module": "@jupyter-widgets/controls",
            "_model_module_version": "1.5.0",
            "_model_name": "ButtonModel",
            "_view_count": null,
            "_view_module": "@jupyter-widgets/controls",
            "_view_module_version": "1.5.0",
            "_view_name": "ButtonView",
            "button_style": "",
            "description": "Instalar Librerías",
            "disabled": false,
            "icon": "",
            "layout": "IPY_MODEL_88f2a17e1a01472db0aa94f26b3a9cc7",
            "style": "IPY_MODEL_4bcc09e29a30497aa02b429bf04e6a80",
            "tooltip": ""
          }
        },
        "88f2a17e1a01472db0aa94f26b3a9cc7": {
          "model_module": "@jupyter-widgets/base",
          "model_name": "LayoutModel",
          "model_module_version": "1.2.0",
          "state": {
            "_model_module": "@jupyter-widgets/base",
            "_model_module_version": "1.2.0",
            "_model_name": "LayoutModel",
            "_view_count": null,
            "_view_module": "@jupyter-widgets/base",
            "_view_module_version": "1.2.0",
            "_view_name": "LayoutView",
            "align_content": null,
            "align_items": null,
            "align_self": null,
            "border": null,
            "bottom": null,
            "display": null,
            "flex": null,
            "flex_flow": null,
            "grid_area": null,
            "grid_auto_columns": null,
            "grid_auto_flow": null,
            "grid_auto_rows": null,
            "grid_column": null,
            "grid_gap": null,
            "grid_row": null,
            "grid_template_areas": null,
            "grid_template_columns": null,
            "grid_template_rows": null,
            "height": null,
            "justify_content": null,
            "justify_items": null,
            "left": null,
            "margin": null,
            "max_height": null,
            "max_width": null,
            "min_height": null,
            "min_width": null,
            "object_fit": null,
            "object_position": null,
            "order": null,
            "overflow": null,
            "overflow_x": null,
            "overflow_y": null,
            "padding": null,
            "right": null,
            "top": null,
            "visibility": null,
            "width": null
          }
        },
        "4bcc09e29a30497aa02b429bf04e6a80": {
          "model_module": "@jupyter-widgets/controls",
          "model_name": "ButtonStyleModel",
          "model_module_version": "1.5.0",
          "state": {
            "_model_module": "@jupyter-widgets/controls",
            "_model_module_version": "1.5.0",
            "_model_name": "ButtonStyleModel",
            "_view_count": null,
            "_view_module": "@jupyter-widgets/base",
            "_view_module_version": "1.2.0",
            "_view_name": "StyleView",
            "button_color": null,
            "font_weight": ""
          }
        }
      }
    }
  },
  "nbformat": 4,
  "nbformat_minor": 5
}