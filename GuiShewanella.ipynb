{
  "cells": [
    {
      "cell_type": "markdown",
      "metadata": {
        "id": "YAxgZo4Y4Zx3"
      },
      "source": [
        "#Trabajo Final Grupo Nº 2\n",
        "\n",
        "Rafael Perez\trafaelperezctes@gmail.com\n",
        "Olinca Ayala\tolincayalan88@gmail.com\n",
        "###@Created on Dec Sat 2 16:57:20 2023\n",
        "###@author: Grupo Nº 2"
      ],
      "id": "YAxgZo4Y4Zx3"
    },
    {
      "cell_type": "markdown",
      "id": "dbaae3b4",
      "metadata": {
        "id": "dbaae3b4"
      },
      "source": [
        "\n",
        "# Modulo Gui\n",
        "\n",
        "Este cuaderno realiza la descarga y análisis de secuencias nucleotídicas de integronas de Shewanella utilizando Biopython.\n"
      ]
    },
    {
      "cell_type": "markdown",
      "source": [
        "\n",
        "\n",
        "Este código descarga el dataset de secuencias de integrasas de Shewanella desde el NCBI. Luego, realiza un alineamiento múltiple de las secuencias para identificar las regiones conservadas. A continuación, selecciona un objetivo blanco para las guías CRISPR/Cas9. Finalmente, diseña las guías CRISPR/Cas9 y realiza la transformación de las bacterias de Shewanella que albergan integrones.\n",
        "\n",
        "Para verificar la edición mediante secuenciación, se pueden diseñar primers específicos para la región editada. El código anterior muestra cómo diseñar primers para la región editada del gen de la integrasa.\n",
        "\n",
        "\n",
        "\n",
        "**1. Breve introducción**\n",
        "\n",
        "Los integrones son plataformas genéticas que se encuentran comúnmente en bacterias. Su función principal es la captura y la expresión de genes, los cuales están especialmente asociados con la resistencia a antibióticos. La tecnología CRISPR ha demostrado ser una herramienta poderosa para la edición genética precisa.\n",
        "\n",
        "**2. Hipótesis de Trabajo y Resultados Esperados**\n",
        "\n",
        "La hipótesis del proyecto es que el uso de CRISPR/Cas9 específicamente dirigido al gen de la integrasa en integrones de bacterias del género Shewanella puede resultar en la interrupción o desactivación de la función de recombinación de ADN de la integrasa. Se hipotetiza que al modificar el gen de la integrasa, se reducirá la capacidad de los integrones para capturar y expresar genes asociados con la resistencia a antibióticos en las bacterias de este género.\n",
        "\n",
        "Los resultados esperados del proyecto son:\n",
        "\n",
        "* Demostrar la capacidad de la tecnología CRISPR/Cas9 para dirigirse con precisión al gen de la integrasa de los integrones encontrados en Shewanella, evidenciando la capacidad de editar este gen de manera específica.\n",
        "* Observar una disminución en la capacidad de los integrones modificados para realizar la recombinación del ADN, demostrando así la influencia de la edición genética en la función de la integrasa.\n",
        "* Observar una reducción en la expresión de genes asociados con la resistencia a antibióticos en las bacterias de Shewanella portadoras de integrones editados.\n"
      ],
      "metadata": {
        "id": "xGj2f8XsMzKS"
      },
      "id": "xGj2f8XsMzKS"
    },
    {
      "cell_type": "code",
      "source": [
        "#@title clono el master olishewanella\n",
        "import os\n",
        "import subprocess\n",
        "\n",
        "def clonar_o_actualizar_repositorio():\n",
        "    repo_url = \"https://github.com/olishewanella/master.git\"\n",
        "    repo_dir = \"/content/master\"\n",
        "    global bandera_clonar\n",
        "    # Verificar si el directorio ya existe\n",
        "    if os.path.isdir(repo_dir):\n",
        "        print(f\"El directorio {repo_dir} ya existe. Actualizando el repositorio.\")\n",
        "        os.chdir(repo_dir)\n",
        "        resultado_pull = subprocess.run([\"git\", \"pull\"], capture_output=True, text=True)\n",
        "        print(resultado_pull.stdout)\n",
        "    else:\n",
        "        print(f\"Clonando el repositorio en {repo_dir}.\")\n",
        "        resultado_clone = subprocess.run([\"git\", \"clone\", repo_url], capture_output=True, text=True)\n",
        "        print(resultado_clone.stdout)\n",
        "        os.chdir(repo_dir)\n",
        "\n",
        "    # Listar los archivos en el directorio\n",
        "    archivos = os.listdir(repo_dir)\n",
        "    print(\"Archivos en el repositorio:\")\n",
        "    for archivo in archivos:\n",
        "        print(archivo)\n",
        "    bandera_clonar = True\n",
        "# Ejecutar la función\n",
        "bandera_clonar = False\n",
        "clonar_o_actualizar_repositorio()\n"
      ],
      "metadata": {
        "colab": {
          "base_uri": "https://localhost:8080/"
        },
        "id": "hTtOZXxiD26F",
        "outputId": "d2fd8ac7-95c4-4f18-9604-942aa5156acd"
      },
      "id": "hTtOZXxiD26F",
      "execution_count": 1,
      "outputs": [
        {
          "output_type": "stream",
          "name": "stdout",
          "text": [
            "Clonando el repositorio en /content/master.\n",
            "\n",
            "Archivos en el repositorio:\n",
            "PrimersShewanella.ipynb\n",
            "LICENSE\n",
            "conceptos-biologia.docx\n",
            "VisionShewanella.ipynb\n",
            "BDShewanella.ipynb\n",
            ".git\n",
            "GuiShewanella.ipynb\n",
            "GuiasShewanella.ipynb\n",
            "IAShewanella.ipynb\n",
            "README.md\n",
            "AMShewanella.ipynb\n",
            "pruebas\n"
          ]
        }
      ]
    },
    {
      "cell_type": "code",
      "source": [
        "# @title Instalación de librerias\n",
        "import subprocess\n",
        "import ipywidgets as widgets\n",
        "from IPython.display import display\n",
        "import importlib\n",
        "\n",
        "def instalar_librerias(b=\"\"):\n",
        "    with output:\n",
        "        librerias = [\n",
        "            \"import_ipynb\",\n",
        "            \"nbconvert\",\n",
        "            \"ipywidgets\",  # Asegúrate de que ya esté instalado\n",
        "            \"biopython\",\n",
        "            \"pandas\",\n",
        "            \"numpy\",\n",
        "            \"matplotlib\",\n",
        "            \"tqdm\"\n",
        "        ]\n",
        "\n",
        "        barra_progreso = widgets.IntProgress(\n",
        "            value=0,\n",
        "            min=0,\n",
        "            max=len(librerias),\n",
        "            bar_style='info',\n",
        "            orientation='horizontal'\n",
        "        )\n",
        "\n",
        "        etiqueta = widgets.Label(value='Iniciando instalación...')\n",
        "        display(widgets.VBox([etiqueta, barra_progreso]))\n",
        "\n",
        "        for libreria in librerias:\n",
        "            try:\n",
        "                # Intenta importar la librería\n",
        "                importlib.import_module(libreria)\n",
        "                etiqueta.value = f\"{libreria} ya está instalada.\"\n",
        "            except ImportError:\n",
        "                # Si la librería no está instalada, procede con la instalación\n",
        "                etiqueta.value = f\"Instalando: {libreria}...\"\n",
        "                subprocess.run([\"pip\", \"install\", libreria])\n",
        "            finally:\n",
        "                # Actualiza la barra de progreso independientemente de si la librería se instaló o no\n",
        "                barra_progreso.value += 1\n",
        "\n",
        "        etiqueta.value = 'Proceso de instalación completado.'\n",
        "\n",
        "# Crear botón\n",
        "boton_instalar = widgets.Button(description='Instalar Librerías')\n",
        "\n",
        "# Crear área de salida\n",
        "output = widgets.Output()\n",
        "\n",
        "# Establecer controlador de eventos\n",
        "boton_instalar.on_click(instalar_librerias)\n",
        "\n",
        "# Mostrar botón y área de salida\n",
        "#display(boton_instalar, output)\n",
        "\n",
        "#\n",
        "#instalar_librerias()"
      ],
      "metadata": {
        "id": "2msVJfHqrd1G"
      },
      "id": "2msVJfHqrd1G",
      "execution_count": 2,
      "outputs": []
    },
    {
      "cell_type": "code",
      "source": [
        "def main():\n",
        "    instalar_librerias()\n",
        "    clonar_o_actualizar_repositorio()\n",
        "main()\n",
        "\n",
        "import sys\n",
        "import io\n",
        "\n",
        "# Guarda la salida estándar actual\n",
        "old_stdout = sys.stdout\n",
        "\n",
        "# Redirige la salida estándar a un buffer\n",
        "sys.stdout = buffer = io.StringIO()"
      ],
      "metadata": {
        "colab": {
          "base_uri": "https://localhost:8080/",
          "height": 295
        },
        "id": "26CdRjc1aB-Z",
        "outputId": "e20d6c4f-6230-4888-d877-3e38244ec6b2"
      },
      "id": "26CdRjc1aB-Z",
      "execution_count": 3,
      "outputs": [
        {
          "output_type": "stream",
          "name": "stdout",
          "text": [
            "El directorio /content/master ya existe. Actualizando el repositorio.\n",
            "Already up to date.\n",
            "\n",
            "Archivos en el repositorio:\n",
            "PrimersShewanella.ipynb\n",
            "LICENSE\n",
            "conceptos-biologia.docx\n",
            "VisionShewanella.ipynb\n",
            "BDShewanella.ipynb\n",
            ".git\n",
            "GuiShewanella.ipynb\n",
            "GuiasShewanella.ipynb\n",
            "IAShewanella.ipynb\n",
            "README.md\n",
            "AMShewanella.ipynb\n",
            "pruebas\n"
          ]
        }
      ]
    },
    {
      "cell_type": "code",
      "source": [
        "from google.colab import _message\n",
        "def run_cells_above():\n",
        "    notebook = _message.blocking_request('get_ipynb', request='', timeout_sec=5)\n",
        "    cells = notebook['ipynb']['cells']\n",
        "    for cell in cells:\n",
        "        if 'source' in cell and 'main()' in cell['source']:\n",
        "            break\n",
        "        elif 'cell_type' in cell and cell['cell_type'] == 'code':\n",
        "            _message.blocking_request('execute_cell', {'cell_id': cell['metadata']['id']})\n",
        "#run_cells_above()"
      ],
      "metadata": {
        "id": "6wogjxwY1px8"
      },
      "id": "6wogjxwY1px8",
      "execution_count": 4,
      "outputs": []
    },
    {
      "cell_type": "code",
      "source": [
        "# Importa las librerías necesarias\n",
        "\"\"\"\n",
        "import os\n",
        "# Crea el archivo init.py\n",
        "with open(\"init.py\", \"w\") as f:\n",
        "    # Escribe el contenido del archivo\n",
        "    f.write(\"print('¡El archivo init.py se ha creado!')\")\n",
        "\"\"\"\n",
        "\n",
        "# Insert the directory\n",
        "\"\"\"\n",
        "import sys\n",
        "sys.path.insert(0,\"/content/\")\n",
        "!ls\n",
        "\"\"\"\n",
        "\n",
        "# importar modulos opcion 2\n",
        "\"\"\"\n",
        "%run \"/content/BDShewanella.ipynb\"\n",
        "\"\"\""
      ],
      "metadata": {
        "id": "6SnWTAztZ1iE",
        "colab": {
          "base_uri": "https://localhost:8080/",
          "height": 35
        },
        "outputId": "b27a396e-40c8-49b0-ddd2-0cfc8e12fa64"
      },
      "id": "6SnWTAztZ1iE",
      "execution_count": 5,
      "outputs": [
        {
          "output_type": "execute_result",
          "data": {
            "text/plain": [
              "'\\n%run \"/content/BDShewanella.ipynb\"\\n'"
            ],
            "application/vnd.google.colaboratory.intrinsic+json": {
              "type": "string"
            }
          },
          "metadata": {},
          "execution_count": 5
        }
      ]
    },
    {
      "cell_type": "code",
      "source": [
        "# constanstes\n",
        "archivo_multifasta = \"secuencias_combinadas.fasta\"\n",
        "archivo_alineado = \"/content/master/parte_0_alineado.fasta\"\n",
        "dicc_main = {}\n",
        "seleccion_lista_archivos = None\n",
        "nombre_lista_seleccionada = None\n",
        "contenido_lista_seleccionada = None"
      ],
      "metadata": {
        "id": "ON6MexknivwA"
      },
      "id": "ON6MexknivwA",
      "execution_count": 6,
      "outputs": []
    },
    {
      "cell_type": "code",
      "source": [
        "archivo_multifasta = \"secuencias_combinadas.fasta\"\n",
        "\n",
        "def ejecutar_main_amshewanella(b=\"\"):\n",
        "  # importar modulos 2\n",
        "  import import_ipynb\n",
        "  import AMShewanella as ams\n",
        "  with area_visualizacion:\n",
        "    clear_output(wait=True)\n",
        "    ams.main()\n",
        "    ams.combinar_en_multifasta(contenido_lista_seleccionada, archivo_multifasta)\n",
        "\n",
        "#ejecutar_main_amshewanella()"
      ],
      "metadata": {
        "id": "fKCj2V8xW87e"
      },
      "id": "fKCj2V8xW87e",
      "execution_count": 7,
      "outputs": []
    },
    {
      "cell_type": "code",
      "source": [
        "def alinear_secuencias_amshewanella(b=\"\"):\n",
        "    import import_ipynb\n",
        "    import AMShewanella as ams\n",
        "    print(\"Alineando secuencias...\")\n",
        "    with area_visualizacion:\n",
        "      clear_output(wait=True)\n",
        "      ams.alinear_secuencias(archivo_multifasta,100)"
      ],
      "metadata": {
        "id": "qJI8WjuozYPX"
      },
      "id": "qJI8WjuozYPX",
      "execution_count": 8,
      "outputs": []
    },
    {
      "cell_type": "code",
      "source": [
        "# Importar el cuaderno principal y las librerías necesarias\n",
        "import import_ipynb\n",
        "import AMShewanella as ams\n",
        "from IPython.display import clear_output\n",
        "import ipywidgets as widgets\n",
        "archivo_alineado = \"/content/master/parte_0_alineado.fasta\"\n",
        "\n",
        "# Funciones de visualización\n",
        "def construir_arbol_filogenetico(b=\"\"):\n",
        "  import import_ipynb\n",
        "  import AMShewanella as ams\n",
        "  from Bio import Phylo\n",
        "  print(\"Construyendo árbol filogenético...\")\n",
        "  with area_visualizacion:\n",
        "    clear_output(wait=True)\n",
        "    arbol = ams.construir_arbol_con_mafft(archivo_alineado)\n",
        "    if arbol:\n",
        "        Phylo.draw(arbol)\n",
        "\n",
        "#construir_arbol_filogenetico()\n",
        "def visualizar_conservacion(b=None):\n",
        "  with area_visualizacion:\n",
        "    clear_output(wait=True)\n",
        "    ams.graficar_conservacion(archivo_alineado)\n",
        "    print(\"Visualización de conservación completada.\")\n",
        "\n",
        "def visualizar_entropia(b=None):\n",
        "  with area_visualizacion:\n",
        "    clear_output(wait=True)\n",
        "    ams.graficar_entropia(archivo_alineado)\n",
        "    print(\"Visualización de entropía completada.\")\n",
        "\n",
        "def visualizar_mapa_calor_conservacion(b=None):\n",
        "  with area_visualizacion:\n",
        "    clear_output(wait=True)\n",
        "    ams.mapa_calor_conservacion(archivo_alineado)\n",
        "    print(\"Mapa de calor de conservación completado.\")\n",
        "\n",
        "def visualizar_barras_conservacion(b=None):\n",
        "  with area_visualizacion:\n",
        "    clear_output(wait=True)\n",
        "    ams.graficar_barras_conservacion(archivo_alineado)\n",
        "    print(\"Gráfico de barras de conservación completado.\")\n",
        "\n",
        "def crear_logo_secuencias_logomaker(b=None):\n",
        "  with area_visualizacion:\n",
        "    clear_output(wait=True)\n",
        "    ams.crear_logo_secuencias_logomaker(archivo_alineado, segmento=(420,480))\n",
        "    print(\"Logo de secuencias con Logomaker completado.\")\n",
        "\n",
        "def crear_logo_secuencias_weblogo(b=None):\n",
        "  with area_visualizacion:\n",
        "    clear_output(wait=True)\n",
        "    ams.crear_logo_secuencias_weblogo_cli(archivo_alineado, segmento=(420,480))\n",
        "    print(\"Logo de secuencias con WebLogo completado.\")\n",
        "\n"
      ],
      "metadata": {
        "id": "Zghn5SQnBeL1",
        "colab": {
          "base_uri": "https://localhost:8080/",
          "height": 49,
          "referenced_widgets": [
            "90aa932a0cfc4dc7900927e28f1d4031",
            "2c94d60a22fe47e5a0a3c90b5422058b",
            "12bafc79c5cf43bb9c9c563e7c914bee",
            "e58a5c5047cf41aaba46c8cf254a89e5",
            "061bc3a3b1634c9a9a3e0cce7dc5bc24"
          ]
        },
        "outputId": "a230d48a-ff9c-44e4-8907-ec7677f4be2d"
      },
      "id": "Zghn5SQnBeL1",
      "execution_count": 9,
      "outputs": [
        {
          "output_type": "display_data",
          "data": {
            "text/plain": [
              "Output()"
            ],
            "application/vnd.jupyter.widget-view+json": {
              "version_major": 2,
              "version_minor": 0,
              "model_id": "90aa932a0cfc4dc7900927e28f1d4031"
            }
          },
          "metadata": {}
        },
        {
          "output_type": "display_data",
          "data": {
            "text/plain": [
              "Button(description='Instalar Librerías', style=ButtonStyle())"
            ],
            "application/vnd.jupyter.widget-view+json": {
              "version_major": 2,
              "version_minor": 0,
              "model_id": "12bafc79c5cf43bb9c9c563e7c914bee"
            }
          },
          "metadata": {}
        }
      ]
    },
    {
      "cell_type": "code",
      "source": [
        "#@title procesos del modulo BDShewanella\n",
        "# Variables globales p\n",
        "dicc_main = {}\n",
        "seleccion_lista_archivos = None\n",
        "nombre_lista_seleccionada = None\n",
        "contenido_lista_seleccionada = None\n",
        "\n",
        "from ipywidgets import Dropdown, Button, Output, VBox, Layout\n",
        "from IPython.display import display,clear_output\n",
        "\n",
        "def ejecutar_main_bdshewanella(b=\"\"):\n",
        "  with area_visualizacion:\n",
        "      clear_output(wait=True)\n",
        "      print(\"aqui----------------------------------------\")\n",
        "      print(\"ejecutando main de BDShewanella...\")\n",
        "      import import_ipynb\n",
        "      import BDShewanella as bds\n",
        "      global dicc_main\n",
        "      bds.instalar_librerias()\n",
        "      # aqui main que trae la lista de arcivos descargados\n",
        "      dicc_main=bds.main()\n",
        "      print(\"ejecución completada, main de BDShewanella...\")\n",
        "\n",
        "#ejecutar_main_bdshewanella()\n",
        "\n",
        "def mostrar_datos_bdshewanella(b=None):\n",
        "  with area_visualizacion:\n",
        "    clear_output(wait=True)\n",
        "    global dicc_main, nombre_lista_seleccionada, contenido_lista_seleccionada\n",
        "\n",
        "    # Verificación y ejecución condicional\n",
        "    if not dicc_main:\n",
        "        ejecutar_main_bdshewanella()\n",
        "    verificar_seleccion_inicial()\n",
        "\n",
        "    # Crear dropdown para la selección de la lista\n",
        "    dropdown = Dropdown(options=list(dicc_main.keys()), description='Listas:')\n",
        "\n",
        "    # Crear un botón para confirmar la selección\n",
        "    boton_confirmar = Button(description='Confirmar', layout=Layout(width='100px'))\n",
        "\n",
        "    # Crear un área de salida para mostrar mensajes\n",
        "    salida = Output()\n",
        "\n",
        "    def al_seleccionar(b):\n",
        "        global nombre_lista_seleccionada, contenido_lista_seleccionada\n",
        "        nombre_lista_seleccionada = dropdown.value\n",
        "        contenido_lista_seleccionada = dicc_main[nombre_lista_seleccionada]\n",
        "        with salida:\n",
        "            salida.clear_output()\n",
        "            print(f\"Ha seleccionado: {nombre_lista_seleccionada}\")\n",
        "\n",
        "    boton_confirmar.on_click(al_seleccionar)\n",
        "\n",
        "    # Mostrar el widget y el botón\n",
        "    display(VBox([dropdown, boton_confirmar, salida]))\n",
        "\n",
        "def verificar_seleccion_inicial():\n",
        "  with area_visualizacion:\n",
        "    clear_output(wait=True)\n",
        "    global nombre_lista_seleccionada, contenido_lista_seleccionada\n",
        "    if nombre_lista_seleccionada is not None:\n",
        "        print(f\"Ya se ha seleccionado la lista: {nombre_lista_seleccionada}\")\n",
        "        print(contenido_lista_seleccionada)\n",
        "    else:\n",
        "        print(\"No se ha seleccionado ninguna lista de archivos.\")\n",
        "\n",
        "#mostrar_datos_bdshewanella(None)"
      ],
      "metadata": {
        "id": "qmrytz0aXPJB"
      },
      "id": "qmrytz0aXPJB",
      "execution_count": 10,
      "outputs": []
    },
    {
      "cell_type": "code",
      "source": [
        "# Importar el cuaderno principal y las librerías necesarias\n",
        "import import_ipynb\n",
        "all_guides_df = None\n",
        "best_guides_df = None\n",
        "def ejecutar_main_guiasshewanella(b=\"\"):\n",
        "   with area_visualizacion:\n",
        "    clear_output(wait=True)\n",
        "    import GuiasShewanella as gs\n",
        "    gs.main()\n",
        "\n",
        "def buscar_guias_guiasshewanella(b=\"\"):\n",
        "   with area_visualizacion:\n",
        "    clear_output(wait=True)\n",
        "    import GuiasShewanella as gs\n",
        "    import importlib\n",
        "    importlib.reload(gs)\n",
        "    global all_guides_df\n",
        "    all_guides_df= gs.process_fasta_files(contenido_lista_seleccionada)\n",
        "    gs.plot_guide_comparisons(all_guides_df)\n",
        "    print(all_guides_df)\n",
        "\n",
        "def verificar_guias_guiasshewanella(b=\"\"):\n",
        " with area_visualizacion:\n",
        "    clear_output(wait=True)\n",
        "    import GuiasShewanella as gs\n",
        "    import importlib\n",
        "    importlib.reload(gs)\n",
        "    global all_guides_df\n",
        "    global best_guides_df\n",
        "    #all_guides_df= gs.process_fasta_files(contenido_lista_seleccionada)\n",
        "    best_guides_df = gs.select_best_guides_per_file(all_guides_df)\n",
        "    gs.process_files(best_guides_df, all_guides_df)\n",
        "    print(\"best_guides_df:--------------\",best_guides_df)\n",
        "    print(\"all_guides_df:----------------\",all_guides_df)\n",
        "#ejecutar_main_guiasshewanella()\n",
        "#buscar_guias_guiasshewanella()\n",
        "#boton_ejecutar_main_guiasshewanella = widgets.Button(description='Ejecutar Main', layout=estilo_botones)"
      ],
      "metadata": {
        "id": "FjBgD7iEmZcQ"
      },
      "id": "FjBgD7iEmZcQ",
      "execution_count": 11,
      "outputs": []
    },
    {
      "cell_type": "code",
      "source": [
        "# Importar el cuaderno principal y las librerías necesarias\n",
        "import import_ipynb\n",
        "#all_guides_df = None\n",
        "#best_guides_df = None\n",
        "def ejecutar_main_primersshewanella(b=\"\"):\n",
        "   with area_visualizacion:\n",
        "    clear_output(wait=True)\n",
        "    import PrimersShewanella as ps\n",
        "    print(\"ejecutatando main primersshewanella \\n\")\n",
        "    ps.main()\n",
        "\n",
        "def buscar_primers_primersshewanella(b=\"\"):\n",
        "   with area_visualizacion:\n",
        "    clear_output(wait=True)\n",
        "    import PrimersShewanella as ps\n",
        "    import GuiasShewanella as gs\n",
        "    import importlib\n",
        "    importlib.reload(ps)\n",
        "    global all_guides_df\n",
        "    all_guides_df= gs.process_fasta_files(contenido_lista_seleccionada)\n",
        "    print(\"ejecutatando buscar primers primersshewanella \\n\")\n",
        "    #print(\"all_guides_df:----------------\",all_guides_df)\n",
        "    ps.process_and_design_primers(contenido_lista_seleccionada)\n",
        "    #gs.plot_guide_comparisons(all_guides_df)\n",
        "    #print(all_guides_df)\n",
        "\n",
        "def primers_guias_primersshewanella(b=\"\"):\n",
        " with area_visualizacion:\n",
        "    clear_output(wait=True)\n",
        "    import PrimersShewanella as ps\n",
        "    import GuiasShewanella as gs\n",
        "    import importlib\n",
        "    importlib.reload(ps)\n",
        "    global all_guides_df\n",
        "    global best_guides_df\n",
        "    print(\"ejecutatando primers guias primersshewanella \\n\")\n",
        "    all_guides_df= gs.process_fasta_files(contenido_lista_seleccionada)\n",
        "    best_guides_df = gs.select_best_guides_per_file(all_guides_df)\n",
        "    #print(\"best_guides_df:--------------\",best_guides_df)\n",
        "    #print(\"all_guides_df:----------------\",contenido_lista_seleccionada)\n",
        "    ps.primers_guias2(contenido_lista_seleccionada, best_guides_df)\n",
        "\n",
        "#ejecutar_main_guiasshewanella()\n",
        "#buscar_guias_guiasshewanella()\n",
        "#boton_ejecutar_main_guiasshewanella = widgets.Button(description='Ejecutar Main', layout=estilo_botones)"
      ],
      "metadata": {
        "id": "eNAvEMcQJAtU"
      },
      "execution_count": 12,
      "outputs": [],
      "id": "eNAvEMcQJAtU"
    },
    {
      "cell_type": "code",
      "source": [
        "#@title menu principal\n",
        "\n",
        "import ipywidgets as widgets\n",
        "from IPython.display import display, clear_output\n",
        "from ipywidgets import Layout, Button\n",
        "\n",
        "# Estilo personalizado para los botones con colores más suaves\n",
        "estilo_botones = Layout(width='200px', height='40px', border='solid 1px lightgray',\n",
        "                        color='black',  # Color de texto\n",
        "                        background_color='#a4c2f4',  # Color de fondo más claro\n",
        "                        font_weight='bold', border_radius='5px')\n",
        "\n",
        "area_visualizacion = widgets.Output()\n",
        "\n",
        "# Funciones para las acciones de Herramientas Adicionales\n",
        "def clonar_actualizar_repositorio(b):\n",
        "    print(\"Clonando o actualizando repositorio...\")\n",
        "\n",
        "def instalar_herramientas_visualizacion(b):\n",
        "    print(\"Instalando herramientas de visualización...\")\n",
        "\n",
        "# Función para mostrar el menú principal\n",
        "def mostrar_menu_principal(b=None):\n",
        "    clear_output()\n",
        "    display(boton_bdshewanella, boton_amshewanella, boton_guiasshewanella, boton_primersshewanella, boton_iashewanella, boton_visionshewanella, boton_herramientas, boton_salir)\n",
        "\n",
        "# Funciones para mostrar submenús\n",
        "def mostrar_submenu_bdshewanella(b):\n",
        "    #clear_output()\n",
        "    display(widgets.Label(value=\"Submenú BDShewanella\"))\n",
        "    display(boton_ejecutar_main_bdshewanella, boton_mostrar_datos_bdshewanella, boton_volver, area_visualizacion)\n",
        "\n",
        "def mostrar_submenu_amshewanella(b):\n",
        "    clear_output()\n",
        "    display(widgets.Label(value=\"Submenú AMShewanella\"), layout=estilo_botones)\n",
        "    display(boton_ejecutar_main_amshewanella,boton_alinear_secuencias_amshewanella, boton_construir_arbol_filogenetico,boton_visualizar_conservacion, boton_visualizar_entropia, boton_visualizar_mapa_calor, boton_visualizar_barras_conservacion, boton_crear_logo_logomaker, boton_crear_logo_weblogo, boton_volver, area_visualizacion)\n",
        "\n",
        "def mostrar_submenu_herramientas(b):\n",
        "    clear_output()\n",
        "    display(widgets.Label(value=\"Herramientas Adicionales\"), layout=estilo_botones)\n",
        "    display(boton_clonar_actualizar_repositorio, boton_instalar_herramientas_visualizacion, boton_volver, area_visualizacion)\n",
        "\n",
        "def mostrar_submenu_guiasshewanella(b):\n",
        "    clear_output()\n",
        "    display(widgets.Label(value=\"Submenú GuiasShewanella\"))\n",
        "    display(boton_ejecutar_main_guiasshewanella, boton_buscar_guiasshewanella, boton_verificar_guias_guiasshewanella, boton_volver, area_visualizacion)\n",
        "\n",
        "def mostrar_submenu_primersshewanella(b):\n",
        "    clear_output()\n",
        "    display(widgets.Label(value=\"Submenú PrimersShewanella\"))\n",
        "    display(boton_ejecutar_main_primersshewanella, boton_buscar_primersshewanella, boton_primers_guias_primersshewanella, boton_volver, area_visualizacion)\n",
        "\n",
        "def mostrar_submenu_iashewanella(b):\n",
        "    clear_output()\n",
        "    display(widgets.Label(value=\"Submenú IAShewanella\"))\n",
        "\n",
        "def mostrar_submenu_visionshewanella(b):\n",
        "    clear_output()\n",
        "    display(widgets.Label(value=\"Submenú VisionShewanella\"))\n",
        "\n",
        "# Crear botones para las acciones de GuiasShewanella\n",
        "boton_ejecutar_main_guiasshewanella = widgets.Button(description='Ejecutar Main', layout=estilo_botones)\n",
        "boton_buscar_guiasshewanella = widgets.Button(description='Buscar Guias Cas9', layout=estilo_botones)\n",
        "boton_verificar_guias_guiasshewanella = widgets.Button(description='Verificar Guias Cas9', layout=estilo_botones)\n",
        "\n",
        "# Asignar funciones a los botones GuiasShewanella\n",
        "boton_buscar_guiasshewanella.on_click(buscar_guias_guiasshewanella)\n",
        "boton_ejecutar_main_guiasshewanella.on_click(ejecutar_main_guiasshewanella)\n",
        "boton_verificar_guias_guiasshewanella.on_click(verificar_guias_guiasshewanella)\n",
        "\n",
        "# Crear botones para las acciones de PrimersShewanella\n",
        "boton_ejecutar_main_primersshewanella = widgets.Button(description='Ejecutar Main', layout=estilo_botones)\n",
        "boton_buscar_primersshewanella = widgets.Button(description='Buscar Primers', layout=estilo_botones)\n",
        "boton_primers_guias_primersshewanella = widgets.Button(description='Primers Guias Cas9', layout=estilo_botones)\n",
        "\n",
        "# Asignar funciones a los botones PrimersShewanella\n",
        "boton_buscar_primersshewanella.on_click(buscar_primers_primersshewanella)\n",
        "boton_ejecutar_main_primersshewanella.on_click(ejecutar_main_primersshewanella)\n",
        "boton_primers_guias_primersshewanella.on_click(primers_guias_primersshewanella)\n",
        "\n",
        "# Crear botones para las acciones de BDShewanella\n",
        "boton_ejecutar_main_bdshewanella = widgets.Button(description='Ejecutar Main', layout=estilo_botones)\n",
        "boton_mostrar_datos_bdshewanella = widgets.Button(description='Mostrar Datos', layout=estilo_botones)\n",
        "\n",
        "# Asignar funciones a los botones BDShewanella\n",
        "boton_ejecutar_main_bdshewanella.on_click(ejecutar_main_bdshewanella)\n",
        "boton_mostrar_datos_bdshewanella.on_click(mostrar_datos_bdshewanella)\n",
        "\n",
        "# Crear botones para las acciones de AMShewanella\n",
        "boton_ejecutar_main_amshewanella = widgets.Button(description='Ejecutar Main', layout=estilo_botones)\n",
        "boton_alinear_secuencias_amshewanella = widgets.Button(description='Alinear Secuencias', layout=estilo_botones)\n",
        "boton_construir_arbol_filogenetico = widgets.Button(description='Construir Árbol Filogenético', layout=estilo_botones)\n",
        "boton_visualizar_conservacion = widgets.Button(description=\"Visualizar Conservación\", layout=estilo_botones)\n",
        "boton_visualizar_entropia = widgets.Button(description=\"Visualizar Entropía\", layout=estilo_botones)\n",
        "boton_visualizar_mapa_calor = widgets.Button(description=\"Mapa de Calor Conservación\", layout=estilo_botones)\n",
        "boton_visualizar_barras_conservacion = widgets.Button(description=\"Barras de Conservación\", layout=estilo_botones)\n",
        "boton_crear_logo_logomaker = widgets.Button(description=\"Crear Logo Logomaker\", layout=estilo_botones)\n",
        "boton_crear_logo_weblogo = widgets.Button(description=\"Crear Logo WebLogo\", layout=estilo_botones)\n",
        "\n",
        "# Asignar funciones a los botones AMShewanella\n",
        "boton_alinear_secuencias_amshewanella.on_click(alinear_secuencias_amshewanella)\n",
        "boton_ejecutar_main_amshewanella.on_click(ejecutar_main_amshewanella)\n",
        "boton_construir_arbol_filogenetico.on_click(construir_arbol_filogenetico)\n",
        "boton_visualizar_conservacion.on_click(visualizar_conservacion)\n",
        "boton_visualizar_entropia.on_click(visualizar_entropia)\n",
        "boton_visualizar_mapa_calor.on_click(visualizar_mapa_calor_conservacion)\n",
        "boton_visualizar_barras_conservacion.on_click(visualizar_barras_conservacion)\n",
        "boton_crear_logo_logomaker.on_click(crear_logo_secuencias_logomaker)\n",
        "boton_crear_logo_weblogo.on_click(crear_logo_secuencias_weblogo)\n",
        "\n",
        "\n",
        "# Crear botones para las acciones de Herramientas Adicionales\n",
        "boton_clonar_actualizar_repositorio = widgets.Button(description='Clonar o Actualizar Repositorio', layout=estilo_botones)\n",
        "boton_instalar_herramientas_visualizacion = widgets.Button(description='Instalar Herramientas de Visualización', layout=estilo_botones)\n",
        "\n",
        "boton_clonar_actualizar_repositorio.on_click(clonar_actualizar_repositorio)\n",
        "boton_instalar_herramientas_visualizacion.on_click(instalar_herramientas_visualizacion)\n",
        "\n",
        "# Botón para volver al menú principal\n",
        "boton_volver = widgets.Button(description=\"Volver al Menú Principal\", layout=estilo_botones)\n",
        "boton_volver.on_click(mostrar_menu_principal)\n",
        "\n",
        "# Botones del menú principal\n",
        "boton_bdshewanella = widgets.Button(description=\"Módulo BDShewanella\", layout=estilo_botones)\n",
        "boton_bdshewanella.on_click(mostrar_submenu_bdshewanella)\n",
        "\n",
        "boton_amshewanella = widgets.Button(description=\"Módulo AMShewanella\", layout=estilo_botones)\n",
        "boton_amshewanella.on_click(mostrar_submenu_amshewanella)\n",
        "\n",
        "boton_guiasshewanella = widgets.Button(description=\"Módulo GuiasShewanella\", layout=estilo_botones)\n",
        "boton_guiasshewanella.on_click(mostrar_submenu_guiasshewanella)\n",
        "\n",
        "boton_primersshewanella = widgets.Button(description=\"Módulo PrimersShewanella\", layout=estilo_botones)\n",
        "boton_primersshewanella.on_click(mostrar_submenu_primersshewanella)\n",
        "\n",
        "boton_iashewanella = widgets.Button(description=\"Módulo IAShewanella\", layout=estilo_botones)\n",
        "boton_iashewanella.on_click(mostrar_submenu_iashewanella)\n",
        "\n",
        "boton_visionshewanella = widgets.Button(description=\"Módulo VisionShewanella\", layout=estilo_botones)\n",
        "boton_visionshewanella.on_click(mostrar_submenu_iashewanella)\n",
        "\n",
        "boton_herramientas = widgets.Button(description=\"Herramientas Adicionales\",layout=estilo_botones)\n",
        "boton_herramientas.on_click(mostrar_submenu_herramientas)\n",
        "\n",
        "boton_salir = widgets.Button(description=\"Salir\",layout=estilo_botones)\n",
        "\n",
        "# Mostrar menú principal\n",
        "mostrar_menu_principal()\n"
      ],
      "metadata": {
        "colab": {
          "base_uri": "https://localhost:8080/",
          "height": 369,
          "referenced_widgets": [
            "8c4329e011c541b282567ae64a5cafce",
            "cb85d8cf079342a2823044eb5d6865a4",
            "8a08d174d28b43dcbec681be9af60665",
            "e0b30d118c3643fabfd27857f09012c7",
            "64a7507d640a4ec4a76ccfad7a3e36b6",
            "d85fe3b721bb4cba8d35c17cd6ea5d3c",
            "31a05c3e263d4364a664a231c71e38de",
            "6a6b1d583ef14e14b57643c3ec963778",
            "a4f005c3a65d4a4f8e36d108e6aef389",
            "125dd63274604f0eb8fddf462c7bc661",
            "e14cf30cbb6d4ba8bab5640eb43c7c87",
            "ce5fc0ac276649ec9cc518c0405a071a",
            "6ac04b064e634d83ba6bd7319efa3903",
            "cd4c4e4255934b0eae883589596faf0e",
            "9df99e901d7441d0821b15b5b2261e8f",
            "90dcfc2cc75a47839043540a73d8252d",
            "574441af152b470797fa6e1ec40d6bb7"
          ]
        },
        "id": "gz7-Te2d5L5s",
        "outputId": "931d764b-b211-42a4-9bb9-4a22fc9fe7a3"
      },
      "id": "gz7-Te2d5L5s",
      "execution_count": 16,
      "outputs": [
        {
          "output_type": "display_data",
          "data": {
            "text/plain": [
              "Button(description='Módulo BDShewanella', layout=Layout(border='solid 1px lightgray', height='40px', width='20…"
            ],
            "application/vnd.jupyter.widget-view+json": {
              "version_major": 2,
              "version_minor": 0,
              "model_id": "8c4329e011c541b282567ae64a5cafce"
            }
          },
          "metadata": {}
        },
        {
          "output_type": "display_data",
          "data": {
            "text/plain": [
              "Button(description='Módulo AMShewanella', layout=Layout(border='solid 1px lightgray', height='40px', width='20…"
            ],
            "application/vnd.jupyter.widget-view+json": {
              "version_major": 2,
              "version_minor": 0,
              "model_id": "e0b30d118c3643fabfd27857f09012c7"
            }
          },
          "metadata": {}
        },
        {
          "output_type": "display_data",
          "data": {
            "text/plain": [
              "Button(description='Módulo GuiasShewanella', layout=Layout(border='solid 1px lightgray', height='40px', width=…"
            ],
            "application/vnd.jupyter.widget-view+json": {
              "version_major": 2,
              "version_minor": 0,
              "model_id": "d85fe3b721bb4cba8d35c17cd6ea5d3c"
            }
          },
          "metadata": {}
        },
        {
          "output_type": "display_data",
          "data": {
            "text/plain": [
              "Button(description='Módulo PrimersShewanella', layout=Layout(border='solid 1px lightgray', height='40px', widt…"
            ],
            "application/vnd.jupyter.widget-view+json": {
              "version_major": 2,
              "version_minor": 0,
              "model_id": "6a6b1d583ef14e14b57643c3ec963778"
            }
          },
          "metadata": {}
        },
        {
          "output_type": "display_data",
          "data": {
            "text/plain": [
              "Button(description='Módulo IAShewanella', layout=Layout(border='solid 1px lightgray', height='40px', width='20…"
            ],
            "application/vnd.jupyter.widget-view+json": {
              "version_major": 2,
              "version_minor": 0,
              "model_id": "125dd63274604f0eb8fddf462c7bc661"
            }
          },
          "metadata": {}
        },
        {
          "output_type": "display_data",
          "data": {
            "text/plain": [
              "Button(description='Módulo VisionShewanella', layout=Layout(border='solid 1px lightgray', height='40px', width…"
            ],
            "application/vnd.jupyter.widget-view+json": {
              "version_major": 2,
              "version_minor": 0,
              "model_id": "ce5fc0ac276649ec9cc518c0405a071a"
            }
          },
          "metadata": {}
        },
        {
          "output_type": "display_data",
          "data": {
            "text/plain": [
              "Button(description='Herramientas Adicionales', layout=Layout(border='solid 1px lightgray', height='40px', widt…"
            ],
            "application/vnd.jupyter.widget-view+json": {
              "version_major": 2,
              "version_minor": 0,
              "model_id": "cd4c4e4255934b0eae883589596faf0e"
            }
          },
          "metadata": {}
        },
        {
          "output_type": "display_data",
          "data": {
            "text/plain": [
              "Button(description='Salir', layout=Layout(border='solid 1px lightgray', height='40px', width='200px'), style=B…"
            ],
            "application/vnd.jupyter.widget-view+json": {
              "version_major": 2,
              "version_minor": 0,
              "model_id": "90dcfc2cc75a47839043540a73d8252d"
            }
          },
          "metadata": {}
        }
      ]
    },
    {
      "cell_type": "code",
      "source": [
        "dicc_main"
      ],
      "metadata": {
        "colab": {
          "base_uri": "https://localhost:8080/"
        },
        "id": "9Z3ghWUbtTXd",
        "outputId": "70a354e7-7da2-4ade-f785-8c5542abb7ea"
      },
      "id": "9Z3ghWUbtTXd",
      "execution_count": 14,
      "outputs": [
        {
          "output_type": "execute_result",
          "data": {
            "text/plain": [
              "{}"
            ]
          },
          "metadata": {},
          "execution_count": 14
        }
      ]
    },
    {
      "cell_type": "code",
      "source": [
        "\n",
        "#print(\"best_guides_df:--------------\",best_guides_df)\n",
        "#print(\"all_guides_df:----------------\",all_guides_df)\n",
        "best_guides_df"
      ],
      "metadata": {
        "id": "oy3Czc9gVB2i"
      },
      "id": "oy3Czc9gVB2i",
      "execution_count": 15,
      "outputs": []
    }
  ],
  "metadata": {
    "colab": {
      "provenance": [],
      "machine_shape": "hm"
    },
    "language_info": {
      "name": "python"
    },
    "kernelspec": {
      "name": "python3",
      "display_name": "Python 3"
    },
    "widgets": {
      "application/vnd.jupyter.widget-state+json": {
        "90aa932a0cfc4dc7900927e28f1d4031": {
          "model_module": "@jupyter-widgets/output",
          "model_name": "OutputModel",
          "model_module_version": "1.0.0",
          "state": {
            "_dom_classes": [],
            "_model_module": "@jupyter-widgets/output",
            "_model_module_version": "1.0.0",
            "_model_name": "OutputModel",
            "_view_count": null,
            "_view_module": "@jupyter-widgets/output",
            "_view_module_version": "1.0.0",
            "_view_name": "OutputView",
            "layout": "IPY_MODEL_2c94d60a22fe47e5a0a3c90b5422058b",
            "msg_id": "",
            "outputs": []
          }
        },
        "2c94d60a22fe47e5a0a3c90b5422058b": {
          "model_module": "@jupyter-widgets/base",
          "model_name": "LayoutModel",
          "model_module_version": "1.2.0",
          "state": {
            "_model_module": "@jupyter-widgets/base",
            "_model_module_version": "1.2.0",
            "_model_name": "LayoutModel",
            "_view_count": null,
            "_view_module": "@jupyter-widgets/base",
            "_view_module_version": "1.2.0",
            "_view_name": "LayoutView",
            "align_content": null,
            "align_items": null,
            "align_self": null,
            "border": null,
            "bottom": null,
            "display": null,
            "flex": null,
            "flex_flow": null,
            "grid_area": null,
            "grid_auto_columns": null,
            "grid_auto_flow": null,
            "grid_auto_rows": null,
            "grid_column": null,
            "grid_gap": null,
            "grid_row": null,
            "grid_template_areas": null,
            "grid_template_columns": null,
            "grid_template_rows": null,
            "height": null,
            "justify_content": null,
            "justify_items": null,
            "left": null,
            "margin": null,
            "max_height": null,
            "max_width": null,
            "min_height": null,
            "min_width": null,
            "object_fit": null,
            "object_position": null,
            "order": null,
            "overflow": null,
            "overflow_x": null,
            "overflow_y": null,
            "padding": null,
            "right": null,
            "top": null,
            "visibility": null,
            "width": null
          }
        },
        "12bafc79c5cf43bb9c9c563e7c914bee": {
          "model_module": "@jupyter-widgets/controls",
          "model_name": "ButtonModel",
          "model_module_version": "1.5.0",
          "state": {
            "_dom_classes": [],
            "_model_module": "@jupyter-widgets/controls",
            "_model_module_version": "1.5.0",
            "_model_name": "ButtonModel",
            "_view_count": null,
            "_view_module": "@jupyter-widgets/controls",
            "_view_module_version": "1.5.0",
            "_view_name": "ButtonView",
            "button_style": "",
            "description": "Instalar Librerías",
            "disabled": false,
            "icon": "",
            "layout": "IPY_MODEL_e58a5c5047cf41aaba46c8cf254a89e5",
            "style": "IPY_MODEL_061bc3a3b1634c9a9a3e0cce7dc5bc24",
            "tooltip": ""
          }
        },
        "e58a5c5047cf41aaba46c8cf254a89e5": {
          "model_module": "@jupyter-widgets/base",
          "model_name": "LayoutModel",
          "model_module_version": "1.2.0",
          "state": {
            "_model_module": "@jupyter-widgets/base",
            "_model_module_version": "1.2.0",
            "_model_name": "LayoutModel",
            "_view_count": null,
            "_view_module": "@jupyter-widgets/base",
            "_view_module_version": "1.2.0",
            "_view_name": "LayoutView",
            "align_content": null,
            "align_items": null,
            "align_self": null,
            "border": null,
            "bottom": null,
            "display": null,
            "flex": null,
            "flex_flow": null,
            "grid_area": null,
            "grid_auto_columns": null,
            "grid_auto_flow": null,
            "grid_auto_rows": null,
            "grid_column": null,
            "grid_gap": null,
            "grid_row": null,
            "grid_template_areas": null,
            "grid_template_columns": null,
            "grid_template_rows": null,
            "height": null,
            "justify_content": null,
            "justify_items": null,
            "left": null,
            "margin": null,
            "max_height": null,
            "max_width": null,
            "min_height": null,
            "min_width": null,
            "object_fit": null,
            "object_position": null,
            "order": null,
            "overflow": null,
            "overflow_x": null,
            "overflow_y": null,
            "padding": null,
            "right": null,
            "top": null,
            "visibility": null,
            "width": null
          }
        },
        "061bc3a3b1634c9a9a3e0cce7dc5bc24": {
          "model_module": "@jupyter-widgets/controls",
          "model_name": "ButtonStyleModel",
          "model_module_version": "1.5.0",
          "state": {
            "_model_module": "@jupyter-widgets/controls",
            "_model_module_version": "1.5.0",
            "_model_name": "ButtonStyleModel",
            "_view_count": null,
            "_view_module": "@jupyter-widgets/base",
            "_view_module_version": "1.2.0",
            "_view_name": "StyleView",
            "button_color": null,
            "font_weight": ""
          }
        },
        "8c4329e011c541b282567ae64a5cafce": {
          "model_module": "@jupyter-widgets/controls",
          "model_name": "ButtonModel",
          "model_module_version": "1.5.0",
          "state": {
            "_dom_classes": [],
            "_model_module": "@jupyter-widgets/controls",
            "_model_module_version": "1.5.0",
            "_model_name": "ButtonModel",
            "_view_count": null,
            "_view_module": "@jupyter-widgets/controls",
            "_view_module_version": "1.5.0",
            "_view_name": "ButtonView",
            "button_style": "",
            "description": "Módulo BDShewanella",
            "disabled": false,
            "icon": "",
            "layout": "IPY_MODEL_cb85d8cf079342a2823044eb5d6865a4",
            "style": "IPY_MODEL_8a08d174d28b43dcbec681be9af60665",
            "tooltip": ""
          }
        },
        "cb85d8cf079342a2823044eb5d6865a4": {
          "model_module": "@jupyter-widgets/base",
          "model_name": "LayoutModel",
          "model_module_version": "1.2.0",
          "state": {
            "_model_module": "@jupyter-widgets/base",
            "_model_module_version": "1.2.0",
            "_model_name": "LayoutModel",
            "_view_count": null,
            "_view_module": "@jupyter-widgets/base",
            "_view_module_version": "1.2.0",
            "_view_name": "LayoutView",
            "align_content": null,
            "align_items": null,
            "align_self": null,
            "border": "solid 1px lightgray",
            "bottom": null,
            "display": null,
            "flex": null,
            "flex_flow": null,
            "grid_area": null,
            "grid_auto_columns": null,
            "grid_auto_flow": null,
            "grid_auto_rows": null,
            "grid_column": null,
            "grid_gap": null,
            "grid_row": null,
            "grid_template_areas": null,
            "grid_template_columns": null,
            "grid_template_rows": null,
            "height": "40px",
            "justify_content": null,
            "justify_items": null,
            "left": null,
            "margin": null,
            "max_height": null,
            "max_width": null,
            "min_height": null,
            "min_width": null,
            "object_fit": null,
            "object_position": null,
            "order": null,
            "overflow": null,
            "overflow_x": null,
            "overflow_y": null,
            "padding": null,
            "right": null,
            "top": null,
            "visibility": null,
            "width": "200px"
          }
        },
        "8a08d174d28b43dcbec681be9af60665": {
          "model_module": "@jupyter-widgets/controls",
          "model_name": "ButtonStyleModel",
          "model_module_version": "1.5.0",
          "state": {
            "_model_module": "@jupyter-widgets/controls",
            "_model_module_version": "1.5.0",
            "_model_name": "ButtonStyleModel",
            "_view_count": null,
            "_view_module": "@jupyter-widgets/base",
            "_view_module_version": "1.2.0",
            "_view_name": "StyleView",
            "button_color": null,
            "font_weight": ""
          }
        },
        "e0b30d118c3643fabfd27857f09012c7": {
          "model_module": "@jupyter-widgets/controls",
          "model_name": "ButtonModel",
          "model_module_version": "1.5.0",
          "state": {
            "_dom_classes": [],
            "_model_module": "@jupyter-widgets/controls",
            "_model_module_version": "1.5.0",
            "_model_name": "ButtonModel",
            "_view_count": null,
            "_view_module": "@jupyter-widgets/controls",
            "_view_module_version": "1.5.0",
            "_view_name": "ButtonView",
            "button_style": "",
            "description": "Módulo AMShewanella",
            "disabled": false,
            "icon": "",
            "layout": "IPY_MODEL_cb85d8cf079342a2823044eb5d6865a4",
            "style": "IPY_MODEL_64a7507d640a4ec4a76ccfad7a3e36b6",
            "tooltip": ""
          }
        },
        "64a7507d640a4ec4a76ccfad7a3e36b6": {
          "model_module": "@jupyter-widgets/controls",
          "model_name": "ButtonStyleModel",
          "model_module_version": "1.5.0",
          "state": {
            "_model_module": "@jupyter-widgets/controls",
            "_model_module_version": "1.5.0",
            "_model_name": "ButtonStyleModel",
            "_view_count": null,
            "_view_module": "@jupyter-widgets/base",
            "_view_module_version": "1.2.0",
            "_view_name": "StyleView",
            "button_color": null,
            "font_weight": ""
          }
        },
        "d85fe3b721bb4cba8d35c17cd6ea5d3c": {
          "model_module": "@jupyter-widgets/controls",
          "model_name": "ButtonModel",
          "model_module_version": "1.5.0",
          "state": {
            "_dom_classes": [],
            "_model_module": "@jupyter-widgets/controls",
            "_model_module_version": "1.5.0",
            "_model_name": "ButtonModel",
            "_view_count": null,
            "_view_module": "@jupyter-widgets/controls",
            "_view_module_version": "1.5.0",
            "_view_name": "ButtonView",
            "button_style": "",
            "description": "Módulo GuiasShewanella",
            "disabled": false,
            "icon": "",
            "layout": "IPY_MODEL_cb85d8cf079342a2823044eb5d6865a4",
            "style": "IPY_MODEL_31a05c3e263d4364a664a231c71e38de",
            "tooltip": ""
          }
        },
        "31a05c3e263d4364a664a231c71e38de": {
          "model_module": "@jupyter-widgets/controls",
          "model_name": "ButtonStyleModel",
          "model_module_version": "1.5.0",
          "state": {
            "_model_module": "@jupyter-widgets/controls",
            "_model_module_version": "1.5.0",
            "_model_name": "ButtonStyleModel",
            "_view_count": null,
            "_view_module": "@jupyter-widgets/base",
            "_view_module_version": "1.2.0",
            "_view_name": "StyleView",
            "button_color": null,
            "font_weight": ""
          }
        },
        "6a6b1d583ef14e14b57643c3ec963778": {
          "model_module": "@jupyter-widgets/controls",
          "model_name": "ButtonModel",
          "model_module_version": "1.5.0",
          "state": {
            "_dom_classes": [],
            "_model_module": "@jupyter-widgets/controls",
            "_model_module_version": "1.5.0",
            "_model_name": "ButtonModel",
            "_view_count": null,
            "_view_module": "@jupyter-widgets/controls",
            "_view_module_version": "1.5.0",
            "_view_name": "ButtonView",
            "button_style": "",
            "description": "Módulo PrimersShewanella",
            "disabled": false,
            "icon": "",
            "layout": "IPY_MODEL_cb85d8cf079342a2823044eb5d6865a4",
            "style": "IPY_MODEL_a4f005c3a65d4a4f8e36d108e6aef389",
            "tooltip": ""
          }
        },
        "a4f005c3a65d4a4f8e36d108e6aef389": {
          "model_module": "@jupyter-widgets/controls",
          "model_name": "ButtonStyleModel",
          "model_module_version": "1.5.0",
          "state": {
            "_model_module": "@jupyter-widgets/controls",
            "_model_module_version": "1.5.0",
            "_model_name": "ButtonStyleModel",
            "_view_count": null,
            "_view_module": "@jupyter-widgets/base",
            "_view_module_version": "1.2.0",
            "_view_name": "StyleView",
            "button_color": null,
            "font_weight": ""
          }
        },
        "125dd63274604f0eb8fddf462c7bc661": {
          "model_module": "@jupyter-widgets/controls",
          "model_name": "ButtonModel",
          "model_module_version": "1.5.0",
          "state": {
            "_dom_classes": [],
            "_model_module": "@jupyter-widgets/controls",
            "_model_module_version": "1.5.0",
            "_model_name": "ButtonModel",
            "_view_count": null,
            "_view_module": "@jupyter-widgets/controls",
            "_view_module_version": "1.5.0",
            "_view_name": "ButtonView",
            "button_style": "",
            "description": "Módulo IAShewanella",
            "disabled": false,
            "icon": "",
            "layout": "IPY_MODEL_cb85d8cf079342a2823044eb5d6865a4",
            "style": "IPY_MODEL_e14cf30cbb6d4ba8bab5640eb43c7c87",
            "tooltip": ""
          }
        },
        "e14cf30cbb6d4ba8bab5640eb43c7c87": {
          "model_module": "@jupyter-widgets/controls",
          "model_name": "ButtonStyleModel",
          "model_module_version": "1.5.0",
          "state": {
            "_model_module": "@jupyter-widgets/controls",
            "_model_module_version": "1.5.0",
            "_model_name": "ButtonStyleModel",
            "_view_count": null,
            "_view_module": "@jupyter-widgets/base",
            "_view_module_version": "1.2.0",
            "_view_name": "StyleView",
            "button_color": null,
            "font_weight": ""
          }
        },
        "ce5fc0ac276649ec9cc518c0405a071a": {
          "model_module": "@jupyter-widgets/controls",
          "model_name": "ButtonModel",
          "model_module_version": "1.5.0",
          "state": {
            "_dom_classes": [],
            "_model_module": "@jupyter-widgets/controls",
            "_model_module_version": "1.5.0",
            "_model_name": "ButtonModel",
            "_view_count": null,
            "_view_module": "@jupyter-widgets/controls",
            "_view_module_version": "1.5.0",
            "_view_name": "ButtonView",
            "button_style": "",
            "description": "Módulo VisionShewanella",
            "disabled": false,
            "icon": "",
            "layout": "IPY_MODEL_cb85d8cf079342a2823044eb5d6865a4",
            "style": "IPY_MODEL_6ac04b064e634d83ba6bd7319efa3903",
            "tooltip": ""
          }
        },
        "6ac04b064e634d83ba6bd7319efa3903": {
          "model_module": "@jupyter-widgets/controls",
          "model_name": "ButtonStyleModel",
          "model_module_version": "1.5.0",
          "state": {
            "_model_module": "@jupyter-widgets/controls",
            "_model_module_version": "1.5.0",
            "_model_name": "ButtonStyleModel",
            "_view_count": null,
            "_view_module": "@jupyter-widgets/base",
            "_view_module_version": "1.2.0",
            "_view_name": "StyleView",
            "button_color": null,
            "font_weight": ""
          }
        },
        "cd4c4e4255934b0eae883589596faf0e": {
          "model_module": "@jupyter-widgets/controls",
          "model_name": "ButtonModel",
          "model_module_version": "1.5.0",
          "state": {
            "_dom_classes": [],
            "_model_module": "@jupyter-widgets/controls",
            "_model_module_version": "1.5.0",
            "_model_name": "ButtonModel",
            "_view_count": null,
            "_view_module": "@jupyter-widgets/controls",
            "_view_module_version": "1.5.0",
            "_view_name": "ButtonView",
            "button_style": "",
            "description": "Herramientas Adicionales",
            "disabled": false,
            "icon": "",
            "layout": "IPY_MODEL_cb85d8cf079342a2823044eb5d6865a4",
            "style": "IPY_MODEL_9df99e901d7441d0821b15b5b2261e8f",
            "tooltip": ""
          }
        },
        "9df99e901d7441d0821b15b5b2261e8f": {
          "model_module": "@jupyter-widgets/controls",
          "model_name": "ButtonStyleModel",
          "model_module_version": "1.5.0",
          "state": {
            "_model_module": "@jupyter-widgets/controls",
            "_model_module_version": "1.5.0",
            "_model_name": "ButtonStyleModel",
            "_view_count": null,
            "_view_module": "@jupyter-widgets/base",
            "_view_module_version": "1.2.0",
            "_view_name": "StyleView",
            "button_color": null,
            "font_weight": ""
          }
        },
        "90dcfc2cc75a47839043540a73d8252d": {
          "model_module": "@jupyter-widgets/controls",
          "model_name": "ButtonModel",
          "model_module_version": "1.5.0",
          "state": {
            "_dom_classes": [],
            "_model_module": "@jupyter-widgets/controls",
            "_model_module_version": "1.5.0",
            "_model_name": "ButtonModel",
            "_view_count": null,
            "_view_module": "@jupyter-widgets/controls",
            "_view_module_version": "1.5.0",
            "_view_name": "ButtonView",
            "button_style": "",
            "description": "Salir",
            "disabled": false,
            "icon": "",
            "layout": "IPY_MODEL_cb85d8cf079342a2823044eb5d6865a4",
            "style": "IPY_MODEL_574441af152b470797fa6e1ec40d6bb7",
            "tooltip": ""
          }
        },
        "574441af152b470797fa6e1ec40d6bb7": {
          "model_module": "@jupyter-widgets/controls",
          "model_name": "ButtonStyleModel",
          "model_module_version": "1.5.0",
          "state": {
            "_model_module": "@jupyter-widgets/controls",
            "_model_module_version": "1.5.0",
            "_model_name": "ButtonStyleModel",
            "_view_count": null,
            "_view_module": "@jupyter-widgets/base",
            "_view_module_version": "1.2.0",
            "_view_name": "StyleView",
            "button_color": null,
            "font_weight": ""
          }
        }
      }
    }
  },
  "nbformat": 4,
  "nbformat_minor": 5
}