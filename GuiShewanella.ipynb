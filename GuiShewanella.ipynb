{
  "cells": [
    {
      "cell_type": "markdown",
      "metadata": {
        "id": "YAxgZo4Y4Zx3"
      },
      "source": [
        "#Trabajo Final Grupo Nº 2\n",
        "\n",
        "Rafael Perez\trafaelperezctes@gmail.com\n",
        "Olinca Ayala\tolincayalan88@gmail.com\n",
        "###@Created on Dec Sat 2 16:57:20 2023\n",
        "###@author: Grupo Nº 2"
      ],
      "id": "YAxgZo4Y4Zx3"
    },
    {
      "cell_type": "markdown",
      "id": "dbaae3b4",
      "metadata": {
        "id": "dbaae3b4"
      },
      "source": [
        "\n",
        "# Modulo Gui\n",
        "\n",
        "Este cuaderno realiza la descarga y análisis de secuencias nucleotídicas de integronas de Shewanella utilizando Biopython.\n"
      ]
    },
    {
      "cell_type": "markdown",
      "source": [
        "\n",
        "\n",
        "Este código descarga el dataset de secuencias de integrasas de Shewanella desde el NCBI. Luego, realiza un alineamiento múltiple de las secuencias para identificar las regiones conservadas. A continuación, selecciona un objetivo blanco para las guías CRISPR/Cas9. Finalmente, diseña las guías CRISPR/Cas9 y realiza la transformación de las bacterias de Shewanella que albergan integrones.\n",
        "\n",
        "Para verificar la edición mediante secuenciación, se pueden diseñar primers específicos para la región editada. El código anterior muestra cómo diseñar primers para la región editada del gen de la integrasa.\n",
        "\n",
        "\n",
        "\n",
        "**1. Breve introducción**\n",
        "\n",
        "Los integrones son plataformas genéticas que se encuentran comúnmente en bacterias. Su función principal es la captura y la expresión de genes, los cuales están especialmente asociados con la resistencia a antibióticos. La tecnología CRISPR ha demostrado ser una herramienta poderosa para la edición genética precisa.\n",
        "\n",
        "**2. Hipótesis de Trabajo y Resultados Esperados**\n",
        "\n",
        "La hipótesis del proyecto es que el uso de CRISPR/Cas9 específicamente dirigido al gen de la integrasa en integrones de bacterias del género Shewanella puede resultar en la interrupción o desactivación de la función de recombinación de ADN de la integrasa. Se hipotetiza que al modificar el gen de la integrasa, se reducirá la capacidad de los integrones para capturar y expresar genes asociados con la resistencia a antibióticos en las bacterias de este género.\n",
        "\n",
        "Los resultados esperados del proyecto son:\n",
        "\n",
        "* Demostrar la capacidad de la tecnología CRISPR/Cas9 para dirigirse con precisión al gen de la integrasa de los integrones encontrados en Shewanella, evidenciando la capacidad de editar este gen de manera específica.\n",
        "* Observar una disminución en la capacidad de los integrones modificados para realizar la recombinación del ADN, demostrando así la influencia de la edición genética en la función de la integrasa.\n",
        "* Observar una reducción en la expresión de genes asociados con la resistencia a antibióticos en las bacterias de Shewanella portadoras de integrones editados.\n"
      ],
      "metadata": {
        "id": "xGj2f8XsMzKS"
      },
      "id": "xGj2f8XsMzKS"
    },
    {
      "cell_type": "code",
      "source": [
        "#@title clono el master olishewanella\n",
        "import os\n",
        "import subprocess\n",
        "\n",
        "def clonar_o_actualizar_repositorio():\n",
        "    repo_url = \"https://github.com/olishewanella/master.git\"\n",
        "    repo_dir = \"/content/master\"\n",
        "    global bandera_clonar\n",
        "    # Verificar si el directorio ya existe\n",
        "    if os.path.isdir(repo_dir):\n",
        "        print(f\"El directorio {repo_dir} ya existe. Actualizando el repositorio.\")\n",
        "        os.chdir(repo_dir)\n",
        "        resultado_pull = subprocess.run([\"git\", \"pull\"], capture_output=True, text=True)\n",
        "        print(resultado_pull.stdout)\n",
        "    else:\n",
        "        print(f\"Clonando el repositorio en {repo_dir}.\")\n",
        "        resultado_clone = subprocess.run([\"git\", \"clone\", repo_url], capture_output=True, text=True)\n",
        "        print(resultado_clone.stdout)\n",
        "        os.chdir(repo_dir)\n",
        "\n",
        "    # Listar los archivos en el directorio\n",
        "    archivos = os.listdir(repo_dir)\n",
        "    print(\"Archivos en el repositorio:\")\n",
        "    for archivo in archivos:\n",
        "        print(archivo)\n",
        "    bandera_clonar = True\n",
        "# Ejecutar la función\n",
        "bandera_clonar = False\n",
        "clonar_o_actualizar_repositorio()\n"
      ],
      "metadata": {
        "colab": {
          "base_uri": "https://localhost:8080/"
        },
        "id": "hTtOZXxiD26F",
        "outputId": "ab6d1f92-22cf-418a-8b22-f9df992e8e00"
      },
      "id": "hTtOZXxiD26F",
      "execution_count": 1,
      "outputs": [
        {
          "output_type": "stream",
          "name": "stdout",
          "text": [
            "Clonando el repositorio en /content/master.\n",
            "\n",
            "Archivos en el repositorio:\n",
            "PrimersShewanella.ipynb\n",
            "LICENSE\n",
            "conceptos-biologia.docx\n",
            "VisionShewanella.ipynb\n",
            "BDShewanella.ipynb\n",
            ".git\n",
            "GuiShewanella.ipynb\n",
            "GuiasShewanella.ipynb\n",
            "IAShewanella.ipynb\n",
            "README.md\n",
            "AMShewanella.ipynb\n",
            "pruebas\n"
          ]
        }
      ]
    },
    {
      "cell_type": "code",
      "source": [
        "# @title Instalación de librerias\n",
        "import subprocess\n",
        "import ipywidgets as widgets\n",
        "from IPython.display import display\n",
        "import importlib\n",
        "\n",
        "def instalar_librerias(b=\"\"):\n",
        "    with output:\n",
        "        librerias = [\n",
        "            \"import_ipynb\",\n",
        "            \"nbconvert\",\n",
        "            \"ipywidgets\",  # Asegúrate de que ya esté instalado\n",
        "            \"biopython\",\n",
        "            \"pandas\",\n",
        "            \"numpy\",\n",
        "            \"matplotlib\",\n",
        "            \"tqdm\"\n",
        "        ]\n",
        "\n",
        "        barra_progreso = widgets.IntProgress(\n",
        "            value=0,\n",
        "            min=0,\n",
        "            max=len(librerias),\n",
        "            bar_style='info',\n",
        "            orientation='horizontal'\n",
        "        )\n",
        "\n",
        "        etiqueta = widgets.Label(value='Iniciando instalación...')\n",
        "        display(widgets.VBox([etiqueta, barra_progreso]))\n",
        "\n",
        "        for libreria in librerias:\n",
        "            try:\n",
        "                # Intenta importar la librería\n",
        "                importlib.import_module(libreria)\n",
        "                etiqueta.value = f\"{libreria} ya está instalada.\"\n",
        "            except ImportError:\n",
        "                # Si la librería no está instalada, procede con la instalación\n",
        "                etiqueta.value = f\"Instalando: {libreria}...\"\n",
        "                subprocess.run([\"pip\", \"install\", libreria])\n",
        "            finally:\n",
        "                # Actualiza la barra de progreso independientemente de si la librería se instaló o no\n",
        "                barra_progreso.value += 1\n",
        "\n",
        "        etiqueta.value = 'Proceso de instalación completado.'\n",
        "\n",
        "# Crear botón\n",
        "boton_instalar = widgets.Button(description='Instalar Librerías')\n",
        "\n",
        "# Crear área de salida\n",
        "output = widgets.Output()\n",
        "\n",
        "# Establecer controlador de eventos\n",
        "boton_instalar.on_click(instalar_librerias)\n",
        "\n",
        "# Mostrar botón y área de salida\n",
        "display(boton_instalar, output)\n",
        "\n",
        "#\n",
        "#instalar_librerias()"
      ],
      "metadata": {
        "colab": {
          "base_uri": "https://localhost:8080/",
          "height": 113,
          "referenced_widgets": [
            "9b21f7062ee945bab657c55b51c9f19f",
            "9764fdfee92d4dcd8bad2c9ab675458c",
            "6d55f8d4f7284543b4fbfc1ca6cde3fa",
            "c5267d13e695413ea15d5c4a523ff169",
            "761aad5640f148b0b352bce6fa4f582f",
            "cb2d07062a6b43c2b20c5ad5d630bf9a",
            "dd39a2555460460e874a65522c1a81f2",
            "477c28df71b8492cb0ecaad1bfc16a9f",
            "1ea74bef2b3b4ea38e1787a61cfb7cb5",
            "4e348934c648427e91796f4275e46999",
            "6453cf62c3674c5c97e72534a41fafed",
            "b2fc212a918a4f63898074493cfb06de",
            "4ceb1da9b6c34711ab0b6fc252d2f158"
          ]
        },
        "id": "2msVJfHqrd1G",
        "outputId": "4a052802-7a58-4b88-e652-3a494fa74771"
      },
      "id": "2msVJfHqrd1G",
      "execution_count": 2,
      "outputs": [
        {
          "output_type": "display_data",
          "data": {
            "text/plain": [
              "Button(description='Instalar Librerías', style=ButtonStyle())"
            ],
            "application/vnd.jupyter.widget-view+json": {
              "version_major": 2,
              "version_minor": 0,
              "model_id": "9b21f7062ee945bab657c55b51c9f19f"
            }
          },
          "metadata": {}
        },
        {
          "output_type": "display_data",
          "data": {
            "text/plain": [
              "Output()"
            ],
            "application/vnd.jupyter.widget-view+json": {
              "version_major": 2,
              "version_minor": 0,
              "model_id": "c5267d13e695413ea15d5c4a523ff169"
            }
          },
          "metadata": {}
        }
      ]
    },
    {
      "cell_type": "code",
      "source": [
        "def main():\n",
        "    instalar_librerias()\n",
        "    clonar_o_actualizar_repositorio()\n",
        "main()"
      ],
      "metadata": {
        "colab": {
          "base_uri": "https://localhost:8080/",
          "height": 295
        },
        "id": "26CdRjc1aB-Z",
        "outputId": "0671a25a-571a-43fb-998f-5ea111e334c7"
      },
      "id": "26CdRjc1aB-Z",
      "execution_count": 3,
      "outputs": [
        {
          "output_type": "stream",
          "name": "stdout",
          "text": [
            "El directorio /content/master ya existe. Actualizando el repositorio.\n",
            "Already up to date.\n",
            "\n",
            "Archivos en el repositorio:\n",
            "PrimersShewanella.ipynb\n",
            "LICENSE\n",
            "conceptos-biologia.docx\n",
            "VisionShewanella.ipynb\n",
            "BDShewanella.ipynb\n",
            ".git\n",
            "GuiShewanella.ipynb\n",
            "GuiasShewanella.ipynb\n",
            "IAShewanella.ipynb\n",
            "README.md\n",
            "AMShewanella.ipynb\n",
            "pruebas\n"
          ]
        }
      ]
    },
    {
      "cell_type": "code",
      "source": [
        "from google.colab import _message\n",
        "def run_cells_above():\n",
        "    notebook = _message.blocking_request('get_ipynb', request='', timeout_sec=5)\n",
        "    cells = notebook['ipynb']['cells']\n",
        "    for cell in cells:\n",
        "        if 'source' in cell and 'main()' in cell['source']:\n",
        "            break\n",
        "        elif 'cell_type' in cell and cell['cell_type'] == 'code':\n",
        "            _message.blocking_request('execute_cell', {'cell_id': cell['metadata']['id']})\n",
        "run_cells_above()"
      ],
      "metadata": {
        "id": "6wogjxwY1px8"
      },
      "id": "6wogjxwY1px8",
      "execution_count": 4,
      "outputs": []
    },
    {
      "cell_type": "code",
      "source": [
        "# Importa las librerías necesarias\n",
        "\"\"\"\n",
        "import os\n",
        "# Crea el archivo init.py\n",
        "with open(\"init.py\", \"w\") as f:\n",
        "    # Escribe el contenido del archivo\n",
        "    f.write(\"print('¡El archivo init.py se ha creado!')\")\n",
        "\"\"\"\n",
        "\n",
        "# Insert the directory\n",
        "\"\"\"\n",
        "import sys\n",
        "sys.path.insert(0,\"/content/\")\n",
        "!ls\n",
        "\"\"\"\n",
        "\n",
        "# importar modulos opcion 2\n",
        "\"\"\"\n",
        "%run \"/content/BDShewanella.ipynb\"\n",
        "\"\"\""
      ],
      "metadata": {
        "id": "6SnWTAztZ1iE",
        "colab": {
          "base_uri": "https://localhost:8080/",
          "height": 35
        },
        "outputId": "e7f815b1-b864-483e-b9bf-cc44d20217be"
      },
      "id": "6SnWTAztZ1iE",
      "execution_count": 5,
      "outputs": [
        {
          "output_type": "execute_result",
          "data": {
            "text/plain": [
              "'\\n%run \"/content/BDShewanella.ipynb\"\\n'"
            ],
            "application/vnd.google.colaboratory.intrinsic+json": {
              "type": "string"
            }
          },
          "metadata": {},
          "execution_count": 5
        }
      ]
    },
    {
      "cell_type": "code",
      "source": [
        "# constanstes\n",
        "archivo_multifasta = \"secuencias_combinadas.fasta\"\n",
        "archivo_alineado = \"/content/master/parte_0_alineado.fasta\"\n",
        "dicc_main = {}\n",
        "seleccion_lista_archivos = None\n",
        "nombre_lista_seleccionada = None\n",
        "contenido_lista_seleccionada = None"
      ],
      "metadata": {
        "id": "ON6MexknivwA"
      },
      "id": "ON6MexknivwA",
      "execution_count": 6,
      "outputs": []
    },
    {
      "cell_type": "code",
      "source": [
        "archivo_multifasta = \"secuencias_combinadas.fasta\"\n",
        "\n",
        "def ejecutar_main_amshewanella(b=\"\"):\n",
        "  # importar modulos 2\n",
        "  import import_ipynb\n",
        "  import AMShewanella as ams\n",
        "  with area_visualizacion:\n",
        "    clear_output(wait=True)\n",
        "    ams.main()\n",
        "    ams.combinar_en_multifasta(contenido_lista_seleccionada, archivo_multifasta)\n",
        "\n",
        "#ejecutar_main_amshewanella()"
      ],
      "metadata": {
        "id": "fKCj2V8xW87e"
      },
      "id": "fKCj2V8xW87e",
      "execution_count": 7,
      "outputs": []
    },
    {
      "cell_type": "code",
      "source": [
        "def alinear_secuencias_amshewanella(b=\"\"):\n",
        "    import import_ipynb\n",
        "    import AMShewanella as ams\n",
        "    print(\"Alineando secuencias...\")\n",
        "    with area_visualizacion:\n",
        "      clear_output(wait=True)\n",
        "      ams.alinear_secuencias(archivo_multifasta,100)"
      ],
      "metadata": {
        "id": "qJI8WjuozYPX"
      },
      "id": "qJI8WjuozYPX",
      "execution_count": 8,
      "outputs": []
    },
    {
      "cell_type": "code",
      "source": [
        "# Importar el cuaderno principal y las librerías necesarias\n",
        "import import_ipynb\n",
        "import AMShewanella as ams\n",
        "from IPython.display import clear_output\n",
        "import ipywidgets as widgets\n",
        "archivo_alineado = \"/content/master/parte_0_alineado.fasta\"\n",
        "\n",
        "# Funciones de visualización\n",
        "def construir_arbol_filogenetico(b=\"\"):\n",
        "  import import_ipynb\n",
        "  import AMShewanella as ams\n",
        "  from Bio import Phylo\n",
        "  print(\"Construyendo árbol filogenético...\")\n",
        "  with area_visualizacion:\n",
        "    clear_output(wait=True)\n",
        "    arbol = ams.construir_arbol_con_mafft(archivo_alineado)\n",
        "    if arbol:\n",
        "        Phylo.draw(arbol)\n",
        "\n",
        "#construir_arbol_filogenetico()\n",
        "def visualizar_conservacion(b=None):\n",
        "  with area_visualizacion:\n",
        "    clear_output(wait=True)\n",
        "    ams.graficar_conservacion(archivo_alineado)\n",
        "    print(\"Visualización de conservación completada.\")\n",
        "\n",
        "def visualizar_entropia(b=None):\n",
        "  with area_visualizacion:\n",
        "    clear_output(wait=True)\n",
        "    ams.graficar_entropia(archivo_alineado)\n",
        "    print(\"Visualización de entropía completada.\")\n",
        "\n",
        "def visualizar_mapa_calor_conservacion(b=None):\n",
        "  with area_visualizacion:\n",
        "    clear_output(wait=True)\n",
        "    ams.mapa_calor_conservacion(archivo_alineado)\n",
        "    print(\"Mapa de calor de conservación completado.\")\n",
        "\n",
        "def visualizar_barras_conservacion(b=None):\n",
        "  with area_visualizacion:\n",
        "    clear_output(wait=True)\n",
        "    ams.graficar_barras_conservacion(archivo_alineado)\n",
        "    print(\"Gráfico de barras de conservación completado.\")\n",
        "\n",
        "def crear_logo_secuencias_logomaker(b=None):\n",
        "  with area_visualizacion:\n",
        "    clear_output(wait=True)\n",
        "    ams.crear_logo_secuencias_logomaker(archivo_alineado, segmento=(420,480))\n",
        "    print(\"Logo de secuencias con Logomaker completado.\")\n",
        "\n",
        "def crear_logo_secuencias_weblogo(b=None):\n",
        "  with area_visualizacion:\n",
        "    clear_output(wait=True)\n",
        "    ams.crear_logo_secuencias_weblogo_cli(archivo_alineado, segmento=(420,480))\n",
        "    print(\"Logo de secuencias con WebLogo completado.\")\n",
        "\n"
      ],
      "metadata": {
        "colab": {
          "base_uri": "https://localhost:8080/",
          "height": 66,
          "referenced_widgets": [
            "cfee380a71624922b06e5ba6b1f3ed9b",
            "3ddbf9007ec1487a84aeb8ab7d2aea51",
            "b290538f31484dd8a331941cb9dfa306",
            "5584e2df4b5641ed8848ed0df824c4a2",
            "b72802f7e769466484079472b5a92fce"
          ]
        },
        "id": "Zghn5SQnBeL1",
        "outputId": "68478893-21f6-4fec-ef40-67353464e550"
      },
      "id": "Zghn5SQnBeL1",
      "execution_count": 9,
      "outputs": [
        {
          "output_type": "stream",
          "name": "stdout",
          "text": [
            "importing Jupyter notebook from AMShewanella.ipynb\n"
          ]
        },
        {
          "output_type": "display_data",
          "data": {
            "text/plain": [
              "Output()"
            ],
            "application/vnd.jupyter.widget-view+json": {
              "version_major": 2,
              "version_minor": 0,
              "model_id": "cfee380a71624922b06e5ba6b1f3ed9b"
            }
          },
          "metadata": {}
        },
        {
          "output_type": "display_data",
          "data": {
            "text/plain": [
              "Button(description='Instalar Librerías', style=ButtonStyle())"
            ],
            "application/vnd.jupyter.widget-view+json": {
              "version_major": 2,
              "version_minor": 0,
              "model_id": "b290538f31484dd8a331941cb9dfa306"
            }
          },
          "metadata": {}
        }
      ]
    },
    {
      "cell_type": "code",
      "source": [
        "#@title procesos del modulo BDShewanella\n",
        "# Variables globales p\n",
        "dicc_main = {}\n",
        "seleccion_lista_archivos = None\n",
        "nombre_lista_seleccionada = None\n",
        "contenido_lista_seleccionada = None\n",
        "\n",
        "from ipywidgets import Dropdown, Button, Output, VBox, Layout\n",
        "from IPython.display import display,clear_output\n",
        "\n",
        "def ejecutar_main_bdshewanella(b=\"\"):\n",
        "      print(\"ejecutando main de BDShewanella...\")\n",
        "      import import_ipynb\n",
        "      import BDShewanella as bds\n",
        "      global dicc_main\n",
        "      # aqui librerias\n",
        "      bds.instalar_librerias()\n",
        "      # aqui main que trae la lista de arcivos descargados\n",
        "      dicc_main=bds.main()\n",
        "      #clear_output(wait=True)\n",
        "      print(\"ejecución completada, main de BDShewanella...\")\n",
        "\n",
        "#ejecutar_main_bdshewanella()\n",
        "\n",
        "def mostrar_datos_bdshewanella(b=None):\n",
        "    global dicc_main, nombre_lista_seleccionada, contenido_lista_seleccionada\n",
        "\n",
        "    # Verificación y ejecución condicional\n",
        "    if not dicc_main:\n",
        "        ejecutar_main_bdshewanella()\n",
        "    verificar_seleccion_inicial()\n",
        "\n",
        "    # Crear dropdown para la selección de la lista\n",
        "    dropdown = Dropdown(options=list(dicc_main.keys()), description='Listas:')\n",
        "\n",
        "    # Crear un botón para confirmar la selección\n",
        "    boton_confirmar = Button(description='Confirmar', layout=Layout(width='100px'))\n",
        "\n",
        "    # Crear un área de salida para mostrar mensajes\n",
        "    salida = Output()\n",
        "\n",
        "    def al_seleccionar(b):\n",
        "        global nombre_lista_seleccionada, contenido_lista_seleccionada\n",
        "        nombre_lista_seleccionada = dropdown.value\n",
        "        contenido_lista_seleccionada = dicc_main[nombre_lista_seleccionada]\n",
        "        with salida:\n",
        "            salida.clear_output()\n",
        "            print(f\"Ha seleccionado: {nombre_lista_seleccionada}\")\n",
        "\n",
        "    boton_confirmar.on_click(al_seleccionar)\n",
        "\n",
        "    # Mostrar el widget y el botón\n",
        "    display(VBox([dropdown, boton_confirmar, salida]))\n",
        "\n",
        "def verificar_seleccion_inicial():\n",
        "    global nombre_lista_seleccionada, contenido_lista_seleccionada\n",
        "    if nombre_lista_seleccionada is not None:\n",
        "        print(f\"Ya se ha seleccionado la lista: {nombre_lista_seleccionada}\")\n",
        "        print(contenido_lista_seleccionada)\n",
        "    else:\n",
        "        print(\"No se ha seleccionado ninguna lista de archivos.\")\n",
        "\n",
        "#mostrar_datos_bdshewanella(None)"
      ],
      "metadata": {
        "id": "qmrytz0aXPJB"
      },
      "id": "qmrytz0aXPJB",
      "execution_count": 10,
      "outputs": []
    },
    {
      "cell_type": "code",
      "source": [
        "# Importar el cuaderno principal y las librerías necesarias\n",
        "import import_ipynb\n",
        "all_guides_df = None\n",
        "best_guides_df = None\n",
        "def ejecutar_main_guiasshewanella(b=\"\"):\n",
        "   with area_visualizacion:\n",
        "    clear_output(wait=True)\n",
        "    import GuiasShewanella as gs\n",
        "    gs.main()\n",
        "\n",
        "def buscar_guias_guiasshewanella(b=\"\"):\n",
        "   with area_visualizacion:\n",
        "    clear_output(wait=True)\n",
        "    import GuiasShewanella as gs\n",
        "    import importlib\n",
        "    importlib.reload(gs)\n",
        "    global all_guides_df\n",
        "    all_guides_df= gs.process_fasta_files(contenido_lista_seleccionada)\n",
        "    gs.plot_guide_comparisons(all_guides_df)\n",
        "    print(all_guides_df)\n",
        "\n",
        "def verificar_guias_guiasshewanella(b=\"\"):\n",
        " with area_visualizacion:\n",
        "    clear_output(wait=True)\n",
        "    import GuiasShewanella as gs\n",
        "    import importlib\n",
        "    importlib.reload(gs)\n",
        "    global all_guides_df\n",
        "    global best_guides_df\n",
        "    #all_guides_df= gs.process_fasta_files(contenido_lista_seleccionada)\n",
        "    best_guides_df = gs.select_best_guides_per_file(all_guides_df)\n",
        "    gs.process_files(best_guides_df, all_guides_df)\n",
        "    print(\"best_guides_df:--------------\",best_guides_df)\n",
        "    print(\"all_guides_df:----------------\",all_guides_df)\n",
        "#ejecutar_main_guiasshewanella()\n",
        "#buscar_guias_guiasshewanella()\n",
        "#boton_ejecutar_main_guiasshewanella = widgets.Button(description='Ejecutar Main', layout=estilo_botones)"
      ],
      "metadata": {
        "id": "FjBgD7iEmZcQ"
      },
      "id": "FjBgD7iEmZcQ",
      "execution_count": 11,
      "outputs": []
    },
    {
      "cell_type": "code",
      "source": [
        "# Importar el cuaderno principal y las librerías necesarias\n",
        "import import_ipynb\n",
        "#all_guides_df = None\n",
        "#best_guides_df = None\n",
        "def ejecutar_main_primersshewanella(b=\"\"):\n",
        "   with area_visualizacion:\n",
        "    clear_output(wait=True)\n",
        "    import PrimersShewanella as ps\n",
        "    print(\"ejecutatando main primersshewanella \\n\")\n",
        "    ps.main()\n",
        "\n",
        "def buscar_primers_primersshewanella(b=\"\"):\n",
        "   with area_visualizacion:\n",
        "    clear_output(wait=True)\n",
        "    import PrimersShewanella as ps\n",
        "    import GuiasShewanella as gs\n",
        "    import importlib\n",
        "    importlib.reload(ps)\n",
        "    global all_guides_df\n",
        "    all_guides_df= gs.process_fasta_files(contenido_lista_seleccionada)\n",
        "    print(\"ejecutatando buscar primers primersshewanella \\n\")\n",
        "    #print(\"all_guides_df:----------------\",all_guides_df)\n",
        "    ps.process_and_design_primers(contenido_lista_seleccionada)\n",
        "    #gs.plot_guide_comparisons(all_guides_df)\n",
        "    #print(all_guides_df)\n",
        "\n",
        "def primers_guias_primersshewanella(b=\"\"):\n",
        " with area_visualizacion:\n",
        "    clear_output(wait=True)\n",
        "    import PrimersShewanella as ps\n",
        "    import GuiasShewanella as gs\n",
        "    import importlib\n",
        "    importlib.reload(ps)\n",
        "    global all_guides_df\n",
        "    global best_guides_df\n",
        "    print(\"ejecutatando primers guias primersshewanella \\n\")\n",
        "    all_guides_df= gs.process_fasta_files(contenido_lista_seleccionada)\n",
        "    best_guides_df = gs.select_best_guides_per_file(all_guides_df)\n",
        "    #print(\"best_guides_df:--------------\",best_guides_df)\n",
        "    #print(\"all_guides_df:----------------\",contenido_lista_seleccionada)\n",
        "    ps.primers_guias2(contenido_lista_seleccionada, best_guides_df)\n",
        "\n",
        "#ejecutar_main_guiasshewanella()\n",
        "#buscar_guias_guiasshewanella()\n",
        "#boton_ejecutar_main_guiasshewanella = widgets.Button(description='Ejecutar Main', layout=estilo_botones)"
      ],
      "metadata": {
        "id": "eNAvEMcQJAtU"
      },
      "execution_count": 33,
      "outputs": [],
      "id": "eNAvEMcQJAtU"
    },
    {
      "cell_type": "code",
      "source": [
        "#@title menu principal\n",
        "\n",
        "import ipywidgets as widgets\n",
        "from IPython.display import display, clear_output\n",
        "from ipywidgets import Layout, Button\n",
        "\n",
        "# Estilo personalizado para los botones con colores más suaves\n",
        "estilo_botones = Layout(width='200px', height='40px', border='solid 1px lightgray',\n",
        "                        color='black',  # Color de texto\n",
        "                        background_color='#a4c2f4',  # Color de fondo más claro\n",
        "                        font_weight='bold', border_radius='5px')\n",
        "\n",
        "area_visualizacion = widgets.Output()\n",
        "\n",
        "# Funciones para las acciones de Herramientas Adicionales\n",
        "def clonar_actualizar_repositorio(b):\n",
        "    print(\"Clonando o actualizando repositorio...\")\n",
        "\n",
        "def instalar_herramientas_visualizacion(b):\n",
        "    print(\"Instalando herramientas de visualización...\")\n",
        "\n",
        "# Función para mostrar el menú principal\n",
        "def mostrar_menu_principal(b=None):\n",
        "    clear_output()\n",
        "    display(boton_bdshewanella, boton_amshewanella, boton_guiasshewanella, boton_primersshewanella, boton_herramientas, boton_salir)\n",
        "\n",
        "# Funciones para mostrar submenús\n",
        "def mostrar_submenu_bdshewanella(b):\n",
        "    clear_output()\n",
        "    display(widgets.Label(value=\"Submenú BDShewanella\"))\n",
        "    display(boton_ejecutar_main_bdshewanella, boton_mostrar_datos_bdshewanella, boton_volver, area_visualizacion)\n",
        "\n",
        "def mostrar_submenu_amshewanella(b):\n",
        "    clear_output()\n",
        "    display(widgets.Label(value=\"Submenú AMShewanella\"), layout=estilo_botones)\n",
        "    display(boton_ejecutar_main_amshewanella,boton_alinear_secuencias_amshewanella, boton_construir_arbol_filogenetico,boton_visualizar_conservacion, boton_visualizar_entropia, boton_visualizar_mapa_calor, boton_visualizar_barras_conservacion, boton_crear_logo_logomaker, boton_crear_logo_weblogo, boton_volver, area_visualizacion)\n",
        "\n",
        "def mostrar_submenu_herramientas(b):\n",
        "    clear_output()\n",
        "    display(widgets.Label(value=\"Herramientas Adicionales\"), layout=estilo_botones)\n",
        "    display(boton_clonar_actualizar_repositorio, boton_instalar_herramientas_visualizacion, boton_volver, area_visualizacion)\n",
        "\n",
        "def mostrar_submenu_guiasshewanella(b):\n",
        "    clear_output()\n",
        "    display(widgets.Label(value=\"Submenú GuiasShewanella\"))\n",
        "    display(boton_ejecutar_main_guiasshewanella, boton_buscar_guiasshewanella, boton_verificar_guias_guiasshewanella, boton_volver, area_visualizacion)\n",
        "\n",
        "def mostrar_submenu_primersshewanella(b):\n",
        "    clear_output()\n",
        "    display(widgets.Label(value=\"Submenú PrimersShewanella\"))\n",
        "    display(boton_ejecutar_main_primersshewanella, boton_buscar_primersshewanella, boton_primers_guias_primersshewanella, boton_volver, area_visualizacion)\n",
        "\n",
        "# Crear botones para las acciones de GuiasShewanella\n",
        "boton_ejecutar_main_guiasshewanella = widgets.Button(description='Ejecutar Main', layout=estilo_botones)\n",
        "boton_buscar_guiasshewanella = widgets.Button(description='Buscar Guias Cas9', layout=estilo_botones)\n",
        "boton_verificar_guias_guiasshewanella = widgets.Button(description='Verificar Guias Cas9', layout=estilo_botones)\n",
        "\n",
        "# Asignar funciones a los botones GuiasShewanella\n",
        "boton_buscar_guiasshewanella.on_click(buscar_guias_guiasshewanella)\n",
        "boton_ejecutar_main_guiasshewanella.on_click(ejecutar_main_guiasshewanella)\n",
        "boton_verificar_guias_guiasshewanella.on_click(verificar_guias_guiasshewanella)\n",
        "\n",
        "# Crear botones para las acciones de PrimersShewanella\n",
        "boton_ejecutar_main_primersshewanella = widgets.Button(description='Ejecutar Main', layout=estilo_botones)\n",
        "boton_buscar_primersshewanella = widgets.Button(description='Buscar Primers', layout=estilo_botones)\n",
        "boton_primers_guias_primersshewanella = widgets.Button(description='Primers Guias Cas9', layout=estilo_botones)\n",
        "\n",
        "# Asignar funciones a los botones PrimersShewanella\n",
        "boton_buscar_primersshewanella.on_click(buscar_primers_primersshewanella)\n",
        "boton_ejecutar_main_primersshewanella.on_click(ejecutar_main_primersshewanella)\n",
        "boton_primers_guias_primersshewanella.on_click(primers_guias_primersshewanella)\n",
        "\n",
        "# Crear botones para las acciones de BDShewanella\n",
        "boton_ejecutar_main_bdshewanella = widgets.Button(description='Ejecutar Main', layout=estilo_botones)\n",
        "boton_mostrar_datos_bdshewanella = widgets.Button(description='Mostrar Datos', layout=estilo_botones)\n",
        "\n",
        "# Asignar funciones a los botones BDShewanella\n",
        "boton_mostrar_datos_bdshewanella.on_click(mostrar_datos_bdshewanella)\n",
        "boton_ejecutar_main_bdshewanella.on_click(ejecutar_main_guiasshewanella)\n",
        "\n",
        "# Crear botones para las acciones de AMShewanella\n",
        "boton_ejecutar_main_amshewanella = widgets.Button(description='Ejecutar Main', layout=estilo_botones)\n",
        "boton_alinear_secuencias_amshewanella = widgets.Button(description='Alinear Secuencias', layout=estilo_botones)\n",
        "boton_construir_arbol_filogenetico = widgets.Button(description='Construir Árbol Filogenético', layout=estilo_botones)\n",
        "boton_visualizar_conservacion = widgets.Button(description=\"Visualizar Conservación\", layout=estilo_botones)\n",
        "boton_visualizar_entropia = widgets.Button(description=\"Visualizar Entropía\", layout=estilo_botones)\n",
        "boton_visualizar_mapa_calor = widgets.Button(description=\"Mapa de Calor Conservación\", layout=estilo_botones)\n",
        "boton_visualizar_barras_conservacion = widgets.Button(description=\"Barras de Conservación\", layout=estilo_botones)\n",
        "boton_crear_logo_logomaker = widgets.Button(description=\"Crear Logo Logomaker\", layout=estilo_botones)\n",
        "boton_crear_logo_weblogo = widgets.Button(description=\"Crear Logo WebLogo\", layout=estilo_botones)\n",
        "\n",
        "# Asignar funciones a los botones AMShewanella\n",
        "boton_alinear_secuencias_amshewanella.on_click(alinear_secuencias_amshewanella)\n",
        "boton_ejecutar_main_amshewanella.on_click(ejecutar_main_amshewanella)\n",
        "boton_construir_arbol_filogenetico.on_click(construir_arbol_filogenetico)\n",
        "boton_visualizar_conservacion.on_click(visualizar_conservacion)\n",
        "boton_visualizar_entropia.on_click(visualizar_entropia)\n",
        "boton_visualizar_mapa_calor.on_click(visualizar_mapa_calor_conservacion)\n",
        "boton_visualizar_barras_conservacion.on_click(visualizar_barras_conservacion)\n",
        "boton_crear_logo_logomaker.on_click(crear_logo_secuencias_logomaker)\n",
        "boton_crear_logo_weblogo.on_click(crear_logo_secuencias_weblogo)\n",
        "\n",
        "\n",
        "# Crear botones para las acciones de Herramientas Adicionales\n",
        "boton_clonar_actualizar_repositorio = widgets.Button(description='Clonar o Actualizar Repositorio', layout=estilo_botones)\n",
        "boton_instalar_herramientas_visualizacion = widgets.Button(description='Instalar Herramientas de Visualización', layout=estilo_botones)\n",
        "\n",
        "boton_clonar_actualizar_repositorio.on_click(clonar_actualizar_repositorio)\n",
        "boton_instalar_herramientas_visualizacion.on_click(instalar_herramientas_visualizacion)\n",
        "\n",
        "# Botón para volver al menú principal\n",
        "boton_volver = widgets.Button(description=\"Volver al Menú Principal\", layout=estilo_botones)\n",
        "boton_volver.on_click(mostrar_menu_principal)\n",
        "\n",
        "# Botones del menú principal\n",
        "boton_bdshewanella = widgets.Button(description=\"Módulo BDShewanella\", layout=estilo_botones)\n",
        "boton_bdshewanella.on_click(mostrar_submenu_bdshewanella)\n",
        "\n",
        "boton_amshewanella = widgets.Button(description=\"Módulo AMShewanella\", layout=estilo_botones)\n",
        "boton_amshewanella.on_click(mostrar_submenu_amshewanella)\n",
        "\n",
        "boton_guiasshewanella = widgets.Button(description=\"Módulo GuiasShewanella\", layout=estilo_botones)\n",
        "boton_guiasshewanella.on_click(mostrar_submenu_guiasshewanella)\n",
        "\n",
        "boton_primersshewanella = widgets.Button(description=\"Módulo PrimersShewanella\", layout=estilo_botones)\n",
        "boton_primersshewanella.on_click(mostrar_submenu_primersshewanella)\n",
        "\n",
        "boton_herramientas = widgets.Button(description=\"Herramientas Adicionales\",layout=estilo_botones)\n",
        "boton_herramientas.on_click(mostrar_submenu_herramientas)\n",
        "\n",
        "boton_salir = widgets.Button(description=\"Salir\",layout=estilo_botones)\n",
        "\n",
        "# Mostrar menú principal\n",
        "mostrar_menu_principal()\n"
      ],
      "metadata": {
        "colab": {
          "base_uri": "https://localhost:8080/",
          "height": 659,
          "referenced_widgets": [
            "31e2ed07e7c34c61ab55d5f9213c3878",
            "a80dd431bf074d3ca1fef6e89511a197",
            "e3d638c215064604bde6b81579be309a",
            "32c6c66b47d8412aa342b1353f4016ae",
            "a41ccc98aece4358bf075fcf7fc64ac3",
            "f5c84672441b4892ae57d4bf9499804b",
            "82aa1435ce3144d3880dd0e39d118606",
            "82da6262ff2548b7971f0b301b92e8e5",
            "69f04b3eb6134222b82f49e9a5f4686e",
            "5a85367a8ea84c6897648d68d18daaec",
            "9b11d2f08f2440a2b7b477ecd964dc04",
            "a277152c9c974b94ac87a6f940f17175",
            "6413c92440ca4125b36f166728510233",
            "22a2e33d0aeb4913a5cff47674e52dac",
            "f9ba11d6f65e4f4c9797e5144dbd11bc",
            "9b7b4d6a155d4ed080ad365943bc5ada",
            "2ba1be92d384418fb9f7c2ace49c38b4",
            "d8e62b19339c41a886893dff313c2c60",
            "e7aec7da91bc4d29908f88aa71528861",
            "6b37e85ad9864fbab4ae91dd9a849639",
            "e5fd1968e12a453290ff64b6d738f009",
            "1a9ab83addfc4c249846c75bee91ae0c",
            "70381fa719894960b45b501c2593ac90",
            "a4bbfb03d84c46e3a6de6c45f844bdc5",
            "0f9a49be4c0346208fec70720ff80768",
            "c398ed9db2b14d138337fb3c56286199",
            "54e51c36b2dc491793fdd2e5a0958de2",
            "e504e5217cc64a6c8d009e93fa948477",
            "41fae435363e41f9b38586e5b2fa135d",
            "b9c544a645e24e57aa4d80a4420ef0ad"
          ]
        },
        "id": "gz7-Te2d5L5s",
        "outputId": "c4111c77-082e-4dd0-bbbc-6d263378e240"
      },
      "id": "gz7-Te2d5L5s",
      "execution_count": 32,
      "outputs": [
        {
          "output_type": "display_data",
          "data": {
            "text/plain": [
              "Label(value='Submenú PrimersShewanella')"
            ],
            "application/vnd.jupyter.widget-view+json": {
              "version_major": 2,
              "version_minor": 0,
              "model_id": "22a2e33d0aeb4913a5cff47674e52dac"
            }
          },
          "metadata": {}
        },
        {
          "output_type": "display_data",
          "data": {
            "text/plain": [
              "Button(description='Ejecutar Main', layout=Layout(border='solid 1px lightgray', height='40px', width='200px'),…"
            ],
            "application/vnd.jupyter.widget-view+json": {
              "version_major": 2,
              "version_minor": 0,
              "model_id": "2ba1be92d384418fb9f7c2ace49c38b4"
            }
          },
          "metadata": {}
        },
        {
          "output_type": "display_data",
          "data": {
            "text/plain": [
              "Button(description='Buscar Primers', layout=Layout(border='solid 1px lightgray', height='40px', width='200px')…"
            ],
            "application/vnd.jupyter.widget-view+json": {
              "version_major": 2,
              "version_minor": 0,
              "model_id": "e7aec7da91bc4d29908f88aa71528861"
            }
          },
          "metadata": {}
        },
        {
          "output_type": "display_data",
          "data": {
            "text/plain": [
              "Button(description='Primers Guias Cas9', layout=Layout(border='solid 1px lightgray', height='40px', width='200…"
            ],
            "application/vnd.jupyter.widget-view+json": {
              "version_major": 2,
              "version_minor": 0,
              "model_id": "e5fd1968e12a453290ff64b6d738f009"
            }
          },
          "metadata": {}
        },
        {
          "output_type": "display_data",
          "data": {
            "text/plain": [
              "Button(description='Volver al Menú Principal', layout=Layout(border='solid 1px lightgray', height='40px', widt…"
            ],
            "application/vnd.jupyter.widget-view+json": {
              "version_major": 2,
              "version_minor": 0,
              "model_id": "70381fa719894960b45b501c2593ac90"
            }
          },
          "metadata": {}
        },
        {
          "output_type": "display_data",
          "data": {
            "text/plain": [
              "Output()"
            ],
            "application/vnd.jupyter.widget-view+json": {
              "version_major": 2,
              "version_minor": 0,
              "model_id": "0f9a49be4c0346208fec70720ff80768"
            }
          },
          "metadata": {}
        }
      ]
    },
    {
      "cell_type": "code",
      "source": [
        "\n",
        "#print(\"best_guides_df:--------------\",best_guides_df)\n",
        "#print(\"all_guides_df:----------------\",all_guides_df)\n",
        "best_guides_df"
      ],
      "metadata": {
        "id": "oy3Czc9gVB2i"
      },
      "id": "oy3Czc9gVB2i",
      "execution_count": 14,
      "outputs": []
    }
  ],
  "metadata": {
    "colab": {
      "provenance": [],
      "machine_shape": "hm"
    },
    "language_info": {
      "name": "python"
    },
    "kernelspec": {
      "name": "python3",
      "display_name": "Python 3"
    },
    "widgets": {
      "application/vnd.jupyter.widget-state+json": {
        "9b21f7062ee945bab657c55b51c9f19f": {
          "model_module": "@jupyter-widgets/controls",
          "model_name": "ButtonModel",
          "model_module_version": "1.5.0",
          "state": {
            "_dom_classes": [],
            "_model_module": "@jupyter-widgets/controls",
            "_model_module_version": "1.5.0",
            "_model_name": "ButtonModel",
            "_view_count": null,
            "_view_module": "@jupyter-widgets/controls",
            "_view_module_version": "1.5.0",
            "_view_name": "ButtonView",
            "button_style": "",
            "description": "Instalar Librerías",
            "disabled": false,
            "icon": "",
            "layout": "IPY_MODEL_9764fdfee92d4dcd8bad2c9ab675458c",
            "style": "IPY_MODEL_6d55f8d4f7284543b4fbfc1ca6cde3fa",
            "tooltip": ""
          }
        },
        "9764fdfee92d4dcd8bad2c9ab675458c": {
          "model_module": "@jupyter-widgets/base",
          "model_name": "LayoutModel",
          "model_module_version": "1.2.0",
          "state": {
            "_model_module": "@jupyter-widgets/base",
            "_model_module_version": "1.2.0",
            "_model_name": "LayoutModel",
            "_view_count": null,
            "_view_module": "@jupyter-widgets/base",
            "_view_module_version": "1.2.0",
            "_view_name": "LayoutView",
            "align_content": null,
            "align_items": null,
            "align_self": null,
            "border": null,
            "bottom": null,
            "display": null,
            "flex": null,
            "flex_flow": null,
            "grid_area": null,
            "grid_auto_columns": null,
            "grid_auto_flow": null,
            "grid_auto_rows": null,
            "grid_column": null,
            "grid_gap": null,
            "grid_row": null,
            "grid_template_areas": null,
            "grid_template_columns": null,
            "grid_template_rows": null,
            "height": null,
            "justify_content": null,
            "justify_items": null,
            "left": null,
            "margin": null,
            "max_height": null,
            "max_width": null,
            "min_height": null,
            "min_width": null,
            "object_fit": null,
            "object_position": null,
            "order": null,
            "overflow": null,
            "overflow_x": null,
            "overflow_y": null,
            "padding": null,
            "right": null,
            "top": null,
            "visibility": null,
            "width": null
          }
        },
        "6d55f8d4f7284543b4fbfc1ca6cde3fa": {
          "model_module": "@jupyter-widgets/controls",
          "model_name": "ButtonStyleModel",
          "model_module_version": "1.5.0",
          "state": {
            "_model_module": "@jupyter-widgets/controls",
            "_model_module_version": "1.5.0",
            "_model_name": "ButtonStyleModel",
            "_view_count": null,
            "_view_module": "@jupyter-widgets/base",
            "_view_module_version": "1.2.0",
            "_view_name": "StyleView",
            "button_color": null,
            "font_weight": ""
          }
        },
        "c5267d13e695413ea15d5c4a523ff169": {
          "model_module": "@jupyter-widgets/output",
          "model_name": "OutputModel",
          "model_module_version": "1.0.0",
          "state": {
            "_dom_classes": [],
            "_model_module": "@jupyter-widgets/output",
            "_model_module_version": "1.0.0",
            "_model_name": "OutputModel",
            "_view_count": null,
            "_view_module": "@jupyter-widgets/output",
            "_view_module_version": "1.0.0",
            "_view_name": "OutputView",
            "layout": "IPY_MODEL_cb2d07062a6b43c2b20c5ad5d630bf9a",
            "msg_id": "",
            "outputs": [
              {
                "output_type": "display_data",
                "data": {
                  "text/plain": "VBox(children=(Label(value='Iniciando instalación...'), IntProgress(value=0, bar_style='info', max=8)))",
                  "application/vnd.jupyter.widget-view+json": {
                    "version_major": 2,
                    "version_minor": 0,
                    "model_id": "761aad5640f148b0b352bce6fa4f582f"
                  }
                },
                "metadata": {}
              }
            ]
          }
        },
        "761aad5640f148b0b352bce6fa4f582f": {
          "model_module": "@jupyter-widgets/controls",
          "model_name": "VBoxModel",
          "model_module_version": "1.5.0",
          "state": {
            "_dom_classes": [],
            "_model_module": "@jupyter-widgets/controls",
            "_model_module_version": "1.5.0",
            "_model_name": "VBoxModel",
            "_view_count": null,
            "_view_module": "@jupyter-widgets/controls",
            "_view_module_version": "1.5.0",
            "_view_name": "VBoxView",
            "box_style": "",
            "children": [
              "IPY_MODEL_dd39a2555460460e874a65522c1a81f2",
              "IPY_MODEL_477c28df71b8492cb0ecaad1bfc16a9f"
            ],
            "layout": "IPY_MODEL_1ea74bef2b3b4ea38e1787a61cfb7cb5"
          }
        },
        "cb2d07062a6b43c2b20c5ad5d630bf9a": {
          "model_module": "@jupyter-widgets/base",
          "model_name": "LayoutModel",
          "model_module_version": "1.2.0",
          "state": {
            "_model_module": "@jupyter-widgets/base",
            "_model_module_version": "1.2.0",
            "_model_name": "LayoutModel",
            "_view_count": null,
            "_view_module": "@jupyter-widgets/base",
            "_view_module_version": "1.2.0",
            "_view_name": "LayoutView",
            "align_content": null,
            "align_items": null,
            "align_self": null,
            "border": null,
            "bottom": null,
            "display": null,
            "flex": null,
            "flex_flow": null,
            "grid_area": null,
            "grid_auto_columns": null,
            "grid_auto_flow": null,
            "grid_auto_rows": null,
            "grid_column": null,
            "grid_gap": null,
            "grid_row": null,
            "grid_template_areas": null,
            "grid_template_columns": null,
            "grid_template_rows": null,
            "height": null,
            "justify_content": null,
            "justify_items": null,
            "left": null,
            "margin": null,
            "max_height": null,
            "max_width": null,
            "min_height": null,
            "min_width": null,
            "object_fit": null,
            "object_position": null,
            "order": null,
            "overflow": null,
            "overflow_x": null,
            "overflow_y": null,
            "padding": null,
            "right": null,
            "top": null,
            "visibility": null,
            "width": null
          }
        },
        "dd39a2555460460e874a65522c1a81f2": {
          "model_module": "@jupyter-widgets/controls",
          "model_name": "LabelModel",
          "model_module_version": "1.5.0",
          "state": {
            "_dom_classes": [],
            "_model_module": "@jupyter-widgets/controls",
            "_model_module_version": "1.5.0",
            "_model_name": "LabelModel",
            "_view_count": null,
            "_view_module": "@jupyter-widgets/controls",
            "_view_module_version": "1.5.0",
            "_view_name": "LabelView",
            "description": "",
            "description_tooltip": null,
            "layout": "IPY_MODEL_4e348934c648427e91796f4275e46999",
            "placeholder": "​",
            "style": "IPY_MODEL_6453cf62c3674c5c97e72534a41fafed",
            "value": "Proceso de instalación completado."
          }
        },
        "477c28df71b8492cb0ecaad1bfc16a9f": {
          "model_module": "@jupyter-widgets/controls",
          "model_name": "IntProgressModel",
          "model_module_version": "1.5.0",
          "state": {
            "_dom_classes": [],
            "_model_module": "@jupyter-widgets/controls",
            "_model_module_version": "1.5.0",
            "_model_name": "IntProgressModel",
            "_view_count": null,
            "_view_module": "@jupyter-widgets/controls",
            "_view_module_version": "1.5.0",
            "_view_name": "ProgressView",
            "bar_style": "info",
            "description": "",
            "description_tooltip": null,
            "layout": "IPY_MODEL_b2fc212a918a4f63898074493cfb06de",
            "max": 8,
            "min": 0,
            "orientation": "horizontal",
            "style": "IPY_MODEL_4ceb1da9b6c34711ab0b6fc252d2f158",
            "value": 8
          }
        },
        "1ea74bef2b3b4ea38e1787a61cfb7cb5": {
          "model_module": "@jupyter-widgets/base",
          "model_name": "LayoutModel",
          "model_module_version": "1.2.0",
          "state": {
            "_model_module": "@jupyter-widgets/base",
            "_model_module_version": "1.2.0",
            "_model_name": "LayoutModel",
            "_view_count": null,
            "_view_module": "@jupyter-widgets/base",
            "_view_module_version": "1.2.0",
            "_view_name": "LayoutView",
            "align_content": null,
            "align_items": null,
            "align_self": null,
            "border": null,
            "bottom": null,
            "display": null,
            "flex": null,
            "flex_flow": null,
            "grid_area": null,
            "grid_auto_columns": null,
            "grid_auto_flow": null,
            "grid_auto_rows": null,
            "grid_column": null,
            "grid_gap": null,
            "grid_row": null,
            "grid_template_areas": null,
            "grid_template_columns": null,
            "grid_template_rows": null,
            "height": null,
            "justify_content": null,
            "justify_items": null,
            "left": null,
            "margin": null,
            "max_height": null,
            "max_width": null,
            "min_height": null,
            "min_width": null,
            "object_fit": null,
            "object_position": null,
            "order": null,
            "overflow": null,
            "overflow_x": null,
            "overflow_y": null,
            "padding": null,
            "right": null,
            "top": null,
            "visibility": null,
            "width": null
          }
        },
        "4e348934c648427e91796f4275e46999": {
          "model_module": "@jupyter-widgets/base",
          "model_name": "LayoutModel",
          "model_module_version": "1.2.0",
          "state": {
            "_model_module": "@jupyter-widgets/base",
            "_model_module_version": "1.2.0",
            "_model_name": "LayoutModel",
            "_view_count": null,
            "_view_module": "@jupyter-widgets/base",
            "_view_module_version": "1.2.0",
            "_view_name": "LayoutView",
            "align_content": null,
            "align_items": null,
            "align_self": null,
            "border": null,
            "bottom": null,
            "display": null,
            "flex": null,
            "flex_flow": null,
            "grid_area": null,
            "grid_auto_columns": null,
            "grid_auto_flow": null,
            "grid_auto_rows": null,
            "grid_column": null,
            "grid_gap": null,
            "grid_row": null,
            "grid_template_areas": null,
            "grid_template_columns": null,
            "grid_template_rows": null,
            "height": null,
            "justify_content": null,
            "justify_items": null,
            "left": null,
            "margin": null,
            "max_height": null,
            "max_width": null,
            "min_height": null,
            "min_width": null,
            "object_fit": null,
            "object_position": null,
            "order": null,
            "overflow": null,
            "overflow_x": null,
            "overflow_y": null,
            "padding": null,
            "right": null,
            "top": null,
            "visibility": null,
            "width": null
          }
        },
        "6453cf62c3674c5c97e72534a41fafed": {
          "model_module": "@jupyter-widgets/controls",
          "model_name": "DescriptionStyleModel",
          "model_module_version": "1.5.0",
          "state": {
            "_model_module": "@jupyter-widgets/controls",
            "_model_module_version": "1.5.0",
            "_model_name": "DescriptionStyleModel",
            "_view_count": null,
            "_view_module": "@jupyter-widgets/base",
            "_view_module_version": "1.2.0",
            "_view_name": "StyleView",
            "description_width": ""
          }
        },
        "b2fc212a918a4f63898074493cfb06de": {
          "model_module": "@jupyter-widgets/base",
          "model_name": "LayoutModel",
          "model_module_version": "1.2.0",
          "state": {
            "_model_module": "@jupyter-widgets/base",
            "_model_module_version": "1.2.0",
            "_model_name": "LayoutModel",
            "_view_count": null,
            "_view_module": "@jupyter-widgets/base",
            "_view_module_version": "1.2.0",
            "_view_name": "LayoutView",
            "align_content": null,
            "align_items": null,
            "align_self": null,
            "border": null,
            "bottom": null,
            "display": null,
            "flex": null,
            "flex_flow": null,
            "grid_area": null,
            "grid_auto_columns": null,
            "grid_auto_flow": null,
            "grid_auto_rows": null,
            "grid_column": null,
            "grid_gap": null,
            "grid_row": null,
            "grid_template_areas": null,
            "grid_template_columns": null,
            "grid_template_rows": null,
            "height": null,
            "justify_content": null,
            "justify_items": null,
            "left": null,
            "margin": null,
            "max_height": null,
            "max_width": null,
            "min_height": null,
            "min_width": null,
            "object_fit": null,
            "object_position": null,
            "order": null,
            "overflow": null,
            "overflow_x": null,
            "overflow_y": null,
            "padding": null,
            "right": null,
            "top": null,
            "visibility": null,
            "width": null
          }
        },
        "4ceb1da9b6c34711ab0b6fc252d2f158": {
          "model_module": "@jupyter-widgets/controls",
          "model_name": "ProgressStyleModel",
          "model_module_version": "1.5.0",
          "state": {
            "_model_module": "@jupyter-widgets/controls",
            "_model_module_version": "1.5.0",
            "_model_name": "ProgressStyleModel",
            "_view_count": null,
            "_view_module": "@jupyter-widgets/base",
            "_view_module_version": "1.2.0",
            "_view_name": "StyleView",
            "bar_color": null,
            "description_width": ""
          }
        },
        "cfee380a71624922b06e5ba6b1f3ed9b": {
          "model_module": "@jupyter-widgets/output",
          "model_name": "OutputModel",
          "model_module_version": "1.0.0",
          "state": {
            "_dom_classes": [],
            "_model_module": "@jupyter-widgets/output",
            "_model_module_version": "1.0.0",
            "_model_name": "OutputModel",
            "_view_count": null,
            "_view_module": "@jupyter-widgets/output",
            "_view_module_version": "1.0.0",
            "_view_name": "OutputView",
            "layout": "IPY_MODEL_3ddbf9007ec1487a84aeb8ab7d2aea51",
            "msg_id": "",
            "outputs": []
          }
        },
        "3ddbf9007ec1487a84aeb8ab7d2aea51": {
          "model_module": "@jupyter-widgets/base",
          "model_name": "LayoutModel",
          "model_module_version": "1.2.0",
          "state": {
            "_model_module": "@jupyter-widgets/base",
            "_model_module_version": "1.2.0",
            "_model_name": "LayoutModel",
            "_view_count": null,
            "_view_module": "@jupyter-widgets/base",
            "_view_module_version": "1.2.0",
            "_view_name": "LayoutView",
            "align_content": null,
            "align_items": null,
            "align_self": null,
            "border": null,
            "bottom": null,
            "display": null,
            "flex": null,
            "flex_flow": null,
            "grid_area": null,
            "grid_auto_columns": null,
            "grid_auto_flow": null,
            "grid_auto_rows": null,
            "grid_column": null,
            "grid_gap": null,
            "grid_row": null,
            "grid_template_areas": null,
            "grid_template_columns": null,
            "grid_template_rows": null,
            "height": null,
            "justify_content": null,
            "justify_items": null,
            "left": null,
            "margin": null,
            "max_height": null,
            "max_width": null,
            "min_height": null,
            "min_width": null,
            "object_fit": null,
            "object_position": null,
            "order": null,
            "overflow": null,
            "overflow_x": null,
            "overflow_y": null,
            "padding": null,
            "right": null,
            "top": null,
            "visibility": null,
            "width": null
          }
        },
        "b290538f31484dd8a331941cb9dfa306": {
          "model_module": "@jupyter-widgets/controls",
          "model_name": "ButtonModel",
          "model_module_version": "1.5.0",
          "state": {
            "_dom_classes": [],
            "_model_module": "@jupyter-widgets/controls",
            "_model_module_version": "1.5.0",
            "_model_name": "ButtonModel",
            "_view_count": null,
            "_view_module": "@jupyter-widgets/controls",
            "_view_module_version": "1.5.0",
            "_view_name": "ButtonView",
            "button_style": "",
            "description": "Instalar Librerías",
            "disabled": false,
            "icon": "",
            "layout": "IPY_MODEL_5584e2df4b5641ed8848ed0df824c4a2",
            "style": "IPY_MODEL_b72802f7e769466484079472b5a92fce",
            "tooltip": ""
          }
        },
        "5584e2df4b5641ed8848ed0df824c4a2": {
          "model_module": "@jupyter-widgets/base",
          "model_name": "LayoutModel",
          "model_module_version": "1.2.0",
          "state": {
            "_model_module": "@jupyter-widgets/base",
            "_model_module_version": "1.2.0",
            "_model_name": "LayoutModel",
            "_view_count": null,
            "_view_module": "@jupyter-widgets/base",
            "_view_module_version": "1.2.0",
            "_view_name": "LayoutView",
            "align_content": null,
            "align_items": null,
            "align_self": null,
            "border": null,
            "bottom": null,
            "display": null,
            "flex": null,
            "flex_flow": null,
            "grid_area": null,
            "grid_auto_columns": null,
            "grid_auto_flow": null,
            "grid_auto_rows": null,
            "grid_column": null,
            "grid_gap": null,
            "grid_row": null,
            "grid_template_areas": null,
            "grid_template_columns": null,
            "grid_template_rows": null,
            "height": null,
            "justify_content": null,
            "justify_items": null,
            "left": null,
            "margin": null,
            "max_height": null,
            "max_width": null,
            "min_height": null,
            "min_width": null,
            "object_fit": null,
            "object_position": null,
            "order": null,
            "overflow": null,
            "overflow_x": null,
            "overflow_y": null,
            "padding": null,
            "right": null,
            "top": null,
            "visibility": null,
            "width": null
          }
        },
        "b72802f7e769466484079472b5a92fce": {
          "model_module": "@jupyter-widgets/controls",
          "model_name": "ButtonStyleModel",
          "model_module_version": "1.5.0",
          "state": {
            "_model_module": "@jupyter-widgets/controls",
            "_model_module_version": "1.5.0",
            "_model_name": "ButtonStyleModel",
            "_view_count": null,
            "_view_module": "@jupyter-widgets/base",
            "_view_module_version": "1.2.0",
            "_view_name": "StyleView",
            "button_color": null,
            "font_weight": ""
          }
        },
        "31e2ed07e7c34c61ab55d5f9213c3878": {
          "model_module": "@jupyter-widgets/controls",
          "model_name": "ButtonModel",
          "model_module_version": "1.5.0",
          "state": {
            "_dom_classes": [],
            "_model_module": "@jupyter-widgets/controls",
            "_model_module_version": "1.5.0",
            "_model_name": "ButtonModel",
            "_view_count": null,
            "_view_module": "@jupyter-widgets/controls",
            "_view_module_version": "1.5.0",
            "_view_name": "ButtonView",
            "button_style": "",
            "description": "Módulo BDShewanella",
            "disabled": false,
            "icon": "",
            "layout": "IPY_MODEL_a80dd431bf074d3ca1fef6e89511a197",
            "style": "IPY_MODEL_e3d638c215064604bde6b81579be309a",
            "tooltip": ""
          }
        },
        "a80dd431bf074d3ca1fef6e89511a197": {
          "model_module": "@jupyter-widgets/base",
          "model_name": "LayoutModel",
          "model_module_version": "1.2.0",
          "state": {
            "_model_module": "@jupyter-widgets/base",
            "_model_module_version": "1.2.0",
            "_model_name": "LayoutModel",
            "_view_count": null,
            "_view_module": "@jupyter-widgets/base",
            "_view_module_version": "1.2.0",
            "_view_name": "LayoutView",
            "align_content": null,
            "align_items": null,
            "align_self": null,
            "border": "solid 1px lightgray",
            "bottom": null,
            "display": null,
            "flex": null,
            "flex_flow": null,
            "grid_area": null,
            "grid_auto_columns": null,
            "grid_auto_flow": null,
            "grid_auto_rows": null,
            "grid_column": null,
            "grid_gap": null,
            "grid_row": null,
            "grid_template_areas": null,
            "grid_template_columns": null,
            "grid_template_rows": null,
            "height": "40px",
            "justify_content": null,
            "justify_items": null,
            "left": null,
            "margin": null,
            "max_height": null,
            "max_width": null,
            "min_height": null,
            "min_width": null,
            "object_fit": null,
            "object_position": null,
            "order": null,
            "overflow": null,
            "overflow_x": null,
            "overflow_y": null,
            "padding": null,
            "right": null,
            "top": null,
            "visibility": null,
            "width": "200px"
          }
        },
        "e3d638c215064604bde6b81579be309a": {
          "model_module": "@jupyter-widgets/controls",
          "model_name": "ButtonStyleModel",
          "model_module_version": "1.5.0",
          "state": {
            "_model_module": "@jupyter-widgets/controls",
            "_model_module_version": "1.5.0",
            "_model_name": "ButtonStyleModel",
            "_view_count": null,
            "_view_module": "@jupyter-widgets/base",
            "_view_module_version": "1.2.0",
            "_view_name": "StyleView",
            "button_color": null,
            "font_weight": ""
          }
        },
        "32c6c66b47d8412aa342b1353f4016ae": {
          "model_module": "@jupyter-widgets/controls",
          "model_name": "ButtonModel",
          "model_module_version": "1.5.0",
          "state": {
            "_dom_classes": [],
            "_model_module": "@jupyter-widgets/controls",
            "_model_module_version": "1.5.0",
            "_model_name": "ButtonModel",
            "_view_count": null,
            "_view_module": "@jupyter-widgets/controls",
            "_view_module_version": "1.5.0",
            "_view_name": "ButtonView",
            "button_style": "",
            "description": "Módulo AMShewanella",
            "disabled": false,
            "icon": "",
            "layout": "IPY_MODEL_a80dd431bf074d3ca1fef6e89511a197",
            "style": "IPY_MODEL_a41ccc98aece4358bf075fcf7fc64ac3",
            "tooltip": ""
          }
        },
        "a41ccc98aece4358bf075fcf7fc64ac3": {
          "model_module": "@jupyter-widgets/controls",
          "model_name": "ButtonStyleModel",
          "model_module_version": "1.5.0",
          "state": {
            "_model_module": "@jupyter-widgets/controls",
            "_model_module_version": "1.5.0",
            "_model_name": "ButtonStyleModel",
            "_view_count": null,
            "_view_module": "@jupyter-widgets/base",
            "_view_module_version": "1.2.0",
            "_view_name": "StyleView",
            "button_color": null,
            "font_weight": ""
          }
        },
        "f5c84672441b4892ae57d4bf9499804b": {
          "model_module": "@jupyter-widgets/controls",
          "model_name": "ButtonModel",
          "model_module_version": "1.5.0",
          "state": {
            "_dom_classes": [],
            "_model_module": "@jupyter-widgets/controls",
            "_model_module_version": "1.5.0",
            "_model_name": "ButtonModel",
            "_view_count": null,
            "_view_module": "@jupyter-widgets/controls",
            "_view_module_version": "1.5.0",
            "_view_name": "ButtonView",
            "button_style": "",
            "description": "Módulo GuiasShewanella",
            "disabled": false,
            "icon": "",
            "layout": "IPY_MODEL_a80dd431bf074d3ca1fef6e89511a197",
            "style": "IPY_MODEL_82aa1435ce3144d3880dd0e39d118606",
            "tooltip": ""
          }
        },
        "82aa1435ce3144d3880dd0e39d118606": {
          "model_module": "@jupyter-widgets/controls",
          "model_name": "ButtonStyleModel",
          "model_module_version": "1.5.0",
          "state": {
            "_model_module": "@jupyter-widgets/controls",
            "_model_module_version": "1.5.0",
            "_model_name": "ButtonStyleModel",
            "_view_count": null,
            "_view_module": "@jupyter-widgets/base",
            "_view_module_version": "1.2.0",
            "_view_name": "StyleView",
            "button_color": null,
            "font_weight": ""
          }
        },
        "82da6262ff2548b7971f0b301b92e8e5": {
          "model_module": "@jupyter-widgets/controls",
          "model_name": "ButtonModel",
          "model_module_version": "1.5.0",
          "state": {
            "_dom_classes": [],
            "_model_module": "@jupyter-widgets/controls",
            "_model_module_version": "1.5.0",
            "_model_name": "ButtonModel",
            "_view_count": null,
            "_view_module": "@jupyter-widgets/controls",
            "_view_module_version": "1.5.0",
            "_view_name": "ButtonView",
            "button_style": "",
            "description": "Módulo PrimersShewanella",
            "disabled": false,
            "icon": "",
            "layout": "IPY_MODEL_a80dd431bf074d3ca1fef6e89511a197",
            "style": "IPY_MODEL_69f04b3eb6134222b82f49e9a5f4686e",
            "tooltip": ""
          }
        },
        "69f04b3eb6134222b82f49e9a5f4686e": {
          "model_module": "@jupyter-widgets/controls",
          "model_name": "ButtonStyleModel",
          "model_module_version": "1.5.0",
          "state": {
            "_model_module": "@jupyter-widgets/controls",
            "_model_module_version": "1.5.0",
            "_model_name": "ButtonStyleModel",
            "_view_count": null,
            "_view_module": "@jupyter-widgets/base",
            "_view_module_version": "1.2.0",
            "_view_name": "StyleView",
            "button_color": null,
            "font_weight": ""
          }
        },
        "5a85367a8ea84c6897648d68d18daaec": {
          "model_module": "@jupyter-widgets/controls",
          "model_name": "ButtonModel",
          "model_module_version": "1.5.0",
          "state": {
            "_dom_classes": [],
            "_model_module": "@jupyter-widgets/controls",
            "_model_module_version": "1.5.0",
            "_model_name": "ButtonModel",
            "_view_count": null,
            "_view_module": "@jupyter-widgets/controls",
            "_view_module_version": "1.5.0",
            "_view_name": "ButtonView",
            "button_style": "",
            "description": "Herramientas Adicionales",
            "disabled": false,
            "icon": "",
            "layout": "IPY_MODEL_a80dd431bf074d3ca1fef6e89511a197",
            "style": "IPY_MODEL_9b11d2f08f2440a2b7b477ecd964dc04",
            "tooltip": ""
          }
        },
        "9b11d2f08f2440a2b7b477ecd964dc04": {
          "model_module": "@jupyter-widgets/controls",
          "model_name": "ButtonStyleModel",
          "model_module_version": "1.5.0",
          "state": {
            "_model_module": "@jupyter-widgets/controls",
            "_model_module_version": "1.5.0",
            "_model_name": "ButtonStyleModel",
            "_view_count": null,
            "_view_module": "@jupyter-widgets/base",
            "_view_module_version": "1.2.0",
            "_view_name": "StyleView",
            "button_color": null,
            "font_weight": ""
          }
        },
        "a277152c9c974b94ac87a6f940f17175": {
          "model_module": "@jupyter-widgets/controls",
          "model_name": "ButtonModel",
          "model_module_version": "1.5.0",
          "state": {
            "_dom_classes": [],
            "_model_module": "@jupyter-widgets/controls",
            "_model_module_version": "1.5.0",
            "_model_name": "ButtonModel",
            "_view_count": null,
            "_view_module": "@jupyter-widgets/controls",
            "_view_module_version": "1.5.0",
            "_view_name": "ButtonView",
            "button_style": "",
            "description": "Salir",
            "disabled": false,
            "icon": "",
            "layout": "IPY_MODEL_a80dd431bf074d3ca1fef6e89511a197",
            "style": "IPY_MODEL_6413c92440ca4125b36f166728510233",
            "tooltip": ""
          }
        },
        "6413c92440ca4125b36f166728510233": {
          "model_module": "@jupyter-widgets/controls",
          "model_name": "ButtonStyleModel",
          "model_module_version": "1.5.0",
          "state": {
            "_model_module": "@jupyter-widgets/controls",
            "_model_module_version": "1.5.0",
            "_model_name": "ButtonStyleModel",
            "_view_count": null,
            "_view_module": "@jupyter-widgets/base",
            "_view_module_version": "1.2.0",
            "_view_name": "StyleView",
            "button_color": null,
            "font_weight": ""
          }
        },
        "22a2e33d0aeb4913a5cff47674e52dac": {
          "model_module": "@jupyter-widgets/controls",
          "model_name": "LabelModel",
          "model_module_version": "1.5.0",
          "state": {
            "_dom_classes": [],
            "_model_module": "@jupyter-widgets/controls",
            "_model_module_version": "1.5.0",
            "_model_name": "LabelModel",
            "_view_count": null,
            "_view_module": "@jupyter-widgets/controls",
            "_view_module_version": "1.5.0",
            "_view_name": "LabelView",
            "description": "",
            "description_tooltip": null,
            "layout": "IPY_MODEL_f9ba11d6f65e4f4c9797e5144dbd11bc",
            "placeholder": "​",
            "style": "IPY_MODEL_9b7b4d6a155d4ed080ad365943bc5ada",
            "value": "Submenú PrimersShewanella"
          }
        },
        "f9ba11d6f65e4f4c9797e5144dbd11bc": {
          "model_module": "@jupyter-widgets/base",
          "model_name": "LayoutModel",
          "model_module_version": "1.2.0",
          "state": {
            "_model_module": "@jupyter-widgets/base",
            "_model_module_version": "1.2.0",
            "_model_name": "LayoutModel",
            "_view_count": null,
            "_view_module": "@jupyter-widgets/base",
            "_view_module_version": "1.2.0",
            "_view_name": "LayoutView",
            "align_content": null,
            "align_items": null,
            "align_self": null,
            "border": null,
            "bottom": null,
            "display": null,
            "flex": null,
            "flex_flow": null,
            "grid_area": null,
            "grid_auto_columns": null,
            "grid_auto_flow": null,
            "grid_auto_rows": null,
            "grid_column": null,
            "grid_gap": null,
            "grid_row": null,
            "grid_template_areas": null,
            "grid_template_columns": null,
            "grid_template_rows": null,
            "height": null,
            "justify_content": null,
            "justify_items": null,
            "left": null,
            "margin": null,
            "max_height": null,
            "max_width": null,
            "min_height": null,
            "min_width": null,
            "object_fit": null,
            "object_position": null,
            "order": null,
            "overflow": null,
            "overflow_x": null,
            "overflow_y": null,
            "padding": null,
            "right": null,
            "top": null,
            "visibility": null,
            "width": null
          }
        },
        "9b7b4d6a155d4ed080ad365943bc5ada": {
          "model_module": "@jupyter-widgets/controls",
          "model_name": "DescriptionStyleModel",
          "model_module_version": "1.5.0",
          "state": {
            "_model_module": "@jupyter-widgets/controls",
            "_model_module_version": "1.5.0",
            "_model_name": "DescriptionStyleModel",
            "_view_count": null,
            "_view_module": "@jupyter-widgets/base",
            "_view_module_version": "1.2.0",
            "_view_name": "StyleView",
            "description_width": ""
          }
        },
        "2ba1be92d384418fb9f7c2ace49c38b4": {
          "model_module": "@jupyter-widgets/controls",
          "model_name": "ButtonModel",
          "model_module_version": "1.5.0",
          "state": {
            "_dom_classes": [],
            "_model_module": "@jupyter-widgets/controls",
            "_model_module_version": "1.5.0",
            "_model_name": "ButtonModel",
            "_view_count": null,
            "_view_module": "@jupyter-widgets/controls",
            "_view_module_version": "1.5.0",
            "_view_name": "ButtonView",
            "button_style": "",
            "description": "Ejecutar Main",
            "disabled": false,
            "icon": "",
            "layout": "IPY_MODEL_a80dd431bf074d3ca1fef6e89511a197",
            "style": "IPY_MODEL_d8e62b19339c41a886893dff313c2c60",
            "tooltip": ""
          }
        },
        "d8e62b19339c41a886893dff313c2c60": {
          "model_module": "@jupyter-widgets/controls",
          "model_name": "ButtonStyleModel",
          "model_module_version": "1.5.0",
          "state": {
            "_model_module": "@jupyter-widgets/controls",
            "_model_module_version": "1.5.0",
            "_model_name": "ButtonStyleModel",
            "_view_count": null,
            "_view_module": "@jupyter-widgets/base",
            "_view_module_version": "1.2.0",
            "_view_name": "StyleView",
            "button_color": null,
            "font_weight": ""
          }
        },
        "e7aec7da91bc4d29908f88aa71528861": {
          "model_module": "@jupyter-widgets/controls",
          "model_name": "ButtonModel",
          "model_module_version": "1.5.0",
          "state": {
            "_dom_classes": [],
            "_model_module": "@jupyter-widgets/controls",
            "_model_module_version": "1.5.0",
            "_model_name": "ButtonModel",
            "_view_count": null,
            "_view_module": "@jupyter-widgets/controls",
            "_view_module_version": "1.5.0",
            "_view_name": "ButtonView",
            "button_style": "",
            "description": "Buscar Primers",
            "disabled": false,
            "icon": "",
            "layout": "IPY_MODEL_a80dd431bf074d3ca1fef6e89511a197",
            "style": "IPY_MODEL_6b37e85ad9864fbab4ae91dd9a849639",
            "tooltip": ""
          }
        },
        "6b37e85ad9864fbab4ae91dd9a849639": {
          "model_module": "@jupyter-widgets/controls",
          "model_name": "ButtonStyleModel",
          "model_module_version": "1.5.0",
          "state": {
            "_model_module": "@jupyter-widgets/controls",
            "_model_module_version": "1.5.0",
            "_model_name": "ButtonStyleModel",
            "_view_count": null,
            "_view_module": "@jupyter-widgets/base",
            "_view_module_version": "1.2.0",
            "_view_name": "StyleView",
            "button_color": null,
            "font_weight": ""
          }
        },
        "e5fd1968e12a453290ff64b6d738f009": {
          "model_module": "@jupyter-widgets/controls",
          "model_name": "ButtonModel",
          "model_module_version": "1.5.0",
          "state": {
            "_dom_classes": [],
            "_model_module": "@jupyter-widgets/controls",
            "_model_module_version": "1.5.0",
            "_model_name": "ButtonModel",
            "_view_count": null,
            "_view_module": "@jupyter-widgets/controls",
            "_view_module_version": "1.5.0",
            "_view_name": "ButtonView",
            "button_style": "",
            "description": "Primers Guias Cas9",
            "disabled": false,
            "icon": "",
            "layout": "IPY_MODEL_a80dd431bf074d3ca1fef6e89511a197",
            "style": "IPY_MODEL_1a9ab83addfc4c249846c75bee91ae0c",
            "tooltip": ""
          }
        },
        "1a9ab83addfc4c249846c75bee91ae0c": {
          "model_module": "@jupyter-widgets/controls",
          "model_name": "ButtonStyleModel",
          "model_module_version": "1.5.0",
          "state": {
            "_model_module": "@jupyter-widgets/controls",
            "_model_module_version": "1.5.0",
            "_model_name": "ButtonStyleModel",
            "_view_count": null,
            "_view_module": "@jupyter-widgets/base",
            "_view_module_version": "1.2.0",
            "_view_name": "StyleView",
            "button_color": null,
            "font_weight": ""
          }
        },
        "70381fa719894960b45b501c2593ac90": {
          "model_module": "@jupyter-widgets/controls",
          "model_name": "ButtonModel",
          "model_module_version": "1.5.0",
          "state": {
            "_dom_classes": [],
            "_model_module": "@jupyter-widgets/controls",
            "_model_module_version": "1.5.0",
            "_model_name": "ButtonModel",
            "_view_count": null,
            "_view_module": "@jupyter-widgets/controls",
            "_view_module_version": "1.5.0",
            "_view_name": "ButtonView",
            "button_style": "",
            "description": "Volver al Menú Principal",
            "disabled": false,
            "icon": "",
            "layout": "IPY_MODEL_a80dd431bf074d3ca1fef6e89511a197",
            "style": "IPY_MODEL_a4bbfb03d84c46e3a6de6c45f844bdc5",
            "tooltip": ""
          }
        },
        "a4bbfb03d84c46e3a6de6c45f844bdc5": {
          "model_module": "@jupyter-widgets/controls",
          "model_name": "ButtonStyleModel",
          "model_module_version": "1.5.0",
          "state": {
            "_model_module": "@jupyter-widgets/controls",
            "_model_module_version": "1.5.0",
            "_model_name": "ButtonStyleModel",
            "_view_count": null,
            "_view_module": "@jupyter-widgets/base",
            "_view_module_version": "1.2.0",
            "_view_name": "StyleView",
            "button_color": null,
            "font_weight": ""
          }
        },
        "0f9a49be4c0346208fec70720ff80768": {
          "model_module": "@jupyter-widgets/output",
          "model_name": "OutputModel",
          "model_module_version": "1.0.0",
          "state": {
            "_dom_classes": [],
            "_model_module": "@jupyter-widgets/output",
            "_model_module_version": "1.0.0",
            "_model_name": "OutputModel",
            "_view_count": null,
            "_view_module": "@jupyter-widgets/output",
            "_view_module_version": "1.0.0",
            "_view_name": "OutputView",
            "layout": "IPY_MODEL_c398ed9db2b14d138337fb3c56286199",
            "msg_id": "",
            "outputs": [
              {
                "output_type": "stream",
                "name": "stdout",
                "text": [
                  "importing Jupyter notebook from PrimersShewanella.ipynb\n"
                ]
              },
              {
                "output_type": "display_data",
                "data": {
                  "text/plain": "Output()",
                  "application/vnd.jupyter.widget-view+json": {
                    "version_major": 2,
                    "version_minor": 0,
                    "model_id": "41fae435363e41f9b38586e5b2fa135d"
                  }
                },
                "metadata": {}
              },
              {
                "output_type": "stream",
                "name": "stdout",
                "text": [
                  "ejecutatando primers guias primersshewanella\n"
                ]
              },
              {
                "output_type": "stream",
                "name": "stdout",
                "text": [
                  "Procesando secuencia de U12441.2.fasta\n",
                  "Usando guía RNA: CGCCGCTGCGGCCCTCGGCC para U12441.2.fasta\n"
                ]
              },
              {
                "output_type": "stream",
                "name": "stderr",
                "text": [
                  "/usr/local/lib/python3.10/dist-packages/primer3/bindings.py:581: UserWarning: Function deprecated please use \"design_primers\" instead\n",
                  "  warnings.warn('Function deprecated please use \"design_primers\" instead')\n"
                ]
              },
              {
                "output_type": "stream",
                "name": "stdout",
                "text": [
                  "No se pudieron generar primers para la guía RNA: CGCCGCTGCGGCCCTCGGCC\n",
                  "Procesando secuencia de AY509004.fasta\n",
                  "Usando guía RNA: GCGCCGCCGCCCCCGGCCGA para AY509004.fasta\n"
                ]
              },
              {
                "output_type": "stream",
                "name": "stdout",
                "text": [
                  "No se pudieron generar primers para la guía RNA: GCGCCGCCGCCCCCGGCCGA\n",
                  "Procesando secuencia de AY259085.1.fasta\n",
                  "Usando guía RNA: CGCCGCTGCGGCCCTCGGCC para AY259085.1.fasta\n"
                ]
              },
              {
                "output_type": "stream",
                "name": "stdout",
                "text": [
                  "No se pudieron generar primers para la guía RNA: CGCCGCTGCGGCCCTCGGCC\n",
                  "Procesando secuencia de  AY183453.1.fasta\n",
                  "Usando guía RNA: GCCGACGCCGCTTCGCGGCG para  AY183453.1.fasta\n"
                ]
              },
              {
                "output_type": "stream",
                "name": "stdout",
                "text": [
                  "No se pudieron generar primers para la guía RNA: GCCGACGCCGCTTCGCGGCG\n",
                  "Procesando secuencia de EU780012.1.fasta\n",
                  "Usando guía RNA: CGGGTGGTTGCAGAGCGTGC para EU780012.1.fasta\n"
                ]
              },
              {
                "output_type": "stream",
                "name": "stdout",
                "text": [
                  "No se pudieron generar primers para la guía RNA: CGGGTGGTTGCAGAGCGTGC\n",
                  "Procesando secuencia de AF416297.1.fasta\n",
                  "Usando guía RNA: TCTCGGCGCGCGCTCGCGGC para AF416297.1.fasta\n",
                  "No se pudieron generar primers para la guía RNA: TCTCGGCGCGCGCTCGCGGC\n",
                  "Procesando secuencia de AY219651.1.fasta\n",
                  "Usando guía RNA: CGCCTCCGCGCCCCGTGGCA para AY219651.1.fasta\n"
                ]
              },
              {
                "output_type": "stream",
                "name": "stdout",
                "text": [
                  "No se pudieron generar primers para la guía RNA: CGCCTCCGCGCCCCGTGGCA\n"
                ]
              }
            ]
          }
        },
        "c398ed9db2b14d138337fb3c56286199": {
          "model_module": "@jupyter-widgets/base",
          "model_name": "LayoutModel",
          "model_module_version": "1.2.0",
          "state": {
            "_model_module": "@jupyter-widgets/base",
            "_model_module_version": "1.2.0",
            "_model_name": "LayoutModel",
            "_view_count": null,
            "_view_module": "@jupyter-widgets/base",
            "_view_module_version": "1.2.0",
            "_view_name": "LayoutView",
            "align_content": null,
            "align_items": null,
            "align_self": null,
            "border": null,
            "bottom": null,
            "display": null,
            "flex": null,
            "flex_flow": null,
            "grid_area": null,
            "grid_auto_columns": null,
            "grid_auto_flow": null,
            "grid_auto_rows": null,
            "grid_column": null,
            "grid_gap": null,
            "grid_row": null,
            "grid_template_areas": null,
            "grid_template_columns": null,
            "grid_template_rows": null,
            "height": null,
            "justify_content": null,
            "justify_items": null,
            "left": null,
            "margin": null,
            "max_height": null,
            "max_width": null,
            "min_height": null,
            "min_width": null,
            "object_fit": null,
            "object_position": null,
            "order": null,
            "overflow": null,
            "overflow_x": null,
            "overflow_y": null,
            "padding": null,
            "right": null,
            "top": null,
            "visibility": null,
            "width": null
          }
        },
        "54e51c36b2dc491793fdd2e5a0958de2": {
          "model_module": "@jupyter-widgets/output",
          "model_name": "OutputModel",
          "model_module_version": "1.0.0",
          "state": {
            "_dom_classes": [],
            "_model_module": "@jupyter-widgets/output",
            "_model_module_version": "1.0.0",
            "_model_name": "OutputModel",
            "_view_count": null,
            "_view_module": "@jupyter-widgets/output",
            "_view_module_version": "1.0.0",
            "_view_name": "OutputView",
            "layout": "IPY_MODEL_e504e5217cc64a6c8d009e93fa948477",
            "msg_id": "",
            "outputs": []
          }
        },
        "e504e5217cc64a6c8d009e93fa948477": {
          "model_module": "@jupyter-widgets/base",
          "model_name": "LayoutModel",
          "model_module_version": "1.2.0",
          "state": {
            "_model_module": "@jupyter-widgets/base",
            "_model_module_version": "1.2.0",
            "_model_name": "LayoutModel",
            "_view_count": null,
            "_view_module": "@jupyter-widgets/base",
            "_view_module_version": "1.2.0",
            "_view_name": "LayoutView",
            "align_content": null,
            "align_items": null,
            "align_self": null,
            "border": null,
            "bottom": null,
            "display": null,
            "flex": null,
            "flex_flow": null,
            "grid_area": null,
            "grid_auto_columns": null,
            "grid_auto_flow": null,
            "grid_auto_rows": null,
            "grid_column": null,
            "grid_gap": null,
            "grid_row": null,
            "grid_template_areas": null,
            "grid_template_columns": null,
            "grid_template_rows": null,
            "height": null,
            "justify_content": null,
            "justify_items": null,
            "left": null,
            "margin": null,
            "max_height": null,
            "max_width": null,
            "min_height": null,
            "min_width": null,
            "object_fit": null,
            "object_position": null,
            "order": null,
            "overflow": null,
            "overflow_x": null,
            "overflow_y": null,
            "padding": null,
            "right": null,
            "top": null,
            "visibility": null,
            "width": null
          }
        },
        "41fae435363e41f9b38586e5b2fa135d": {
          "model_module": "@jupyter-widgets/output",
          "model_name": "OutputModel",
          "model_module_version": "1.0.0",
          "state": {
            "_dom_classes": [],
            "_model_module": "@jupyter-widgets/output",
            "_model_module_version": "1.0.0",
            "_model_name": "OutputModel",
            "_view_count": null,
            "_view_module": "@jupyter-widgets/output",
            "_view_module_version": "1.0.0",
            "_view_name": "OutputView",
            "layout": "IPY_MODEL_b9c544a645e24e57aa4d80a4420ef0ad",
            "msg_id": "",
            "outputs": []
          }
        },
        "b9c544a645e24e57aa4d80a4420ef0ad": {
          "model_module": "@jupyter-widgets/base",
          "model_name": "LayoutModel",
          "model_module_version": "1.2.0",
          "state": {
            "_model_module": "@jupyter-widgets/base",
            "_model_module_version": "1.2.0",
            "_model_name": "LayoutModel",
            "_view_count": null,
            "_view_module": "@jupyter-widgets/base",
            "_view_module_version": "1.2.0",
            "_view_name": "LayoutView",
            "align_content": null,
            "align_items": null,
            "align_self": null,
            "border": null,
            "bottom": null,
            "display": null,
            "flex": null,
            "flex_flow": null,
            "grid_area": null,
            "grid_auto_columns": null,
            "grid_auto_flow": null,
            "grid_auto_rows": null,
            "grid_column": null,
            "grid_gap": null,
            "grid_row": null,
            "grid_template_areas": null,
            "grid_template_columns": null,
            "grid_template_rows": null,
            "height": null,
            "justify_content": null,
            "justify_items": null,
            "left": null,
            "margin": null,
            "max_height": null,
            "max_width": null,
            "min_height": null,
            "min_width": null,
            "object_fit": null,
            "object_position": null,
            "order": null,
            "overflow": null,
            "overflow_x": null,
            "overflow_y": null,
            "padding": null,
            "right": null,
            "top": null,
            "visibility": null,
            "width": null
          }
        }
      }
    }
  },
  "nbformat": 4,
  "nbformat_minor": 5
}