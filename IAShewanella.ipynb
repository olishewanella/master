{
  "cells": [
    {
      "cell_type": "markdown",
      "metadata": {
        "id": "YAxgZo4Y4Zx3"
      },
      "source": [
        "#Trabajo Final Grupo Nº 2\n",
        "\n",
        "Rafael Perez\trafaelperezctes@gmail.com\n",
        "Olinca Ayala\tolincayalan88@gmail.com\n",
        "###@Created on Dec Sat 2 16:57:20 2023\n",
        "###@author: Grupo Nº 2"
      ],
      "id": "YAxgZo4Y4Zx3"
    },
    {
      "cell_type": "markdown",
      "metadata": {
        "id": "dbaae3b4"
      },
      "source": [
        "\n",
        "# Modulo A I\n",
        "\n",
        "Este cuaderno realiza la descarga y análisis de secuencias nucleotídicas de integronas de Shewanella utilizando Biopython.\n"
      ],
      "id": "dbaae3b4"
    },
    {
      "cell_type": "code",
      "source": [
        "# @title Instalación de librerias\n",
        "import subprocess\n",
        "import ipywidgets as widgets\n",
        "from IPython.display import display\n",
        "import pkg_resources\n",
        "\n",
        "def instalar_librerias():\n",
        "    librerias = [\n",
        "        \"import_ipynb\",\n",
        "        \"nbconvert\",\n",
        "        \"ipywidgets\",\n",
        "        \"biopython\",\n",
        "        \"pandas\",\n",
        "        \"numpy\",\n",
        "        \"matplotlib\",\n",
        "        \"tqdm\",\n",
        "        \"sklearn\"]\n",
        "\n",
        "    barra_progreso = widgets.IntProgress(\n",
        "        value=0,\n",
        "        min=0,\n",
        "        max=len(librerias),\n",
        "        bar_style='info',\n",
        "        orientation='horizontal'\n",
        "    )\n",
        "\n",
        "    etiqueta = widgets.Label(value='Iniciando instalación...')\n",
        "    display(widgets.VBox([etiqueta, barra_progreso]))\n",
        "\n",
        "    # Instalación de fasttree y mafft con apt-get (solo ejecutar en Colab)\n",
        "    subprocess.run([\"apt-get\", \"install\", \"fasttree\", \"mafft\", \"ghostscript\"])\n",
        "\n",
        "    for libreria in librerias:\n",
        "        try:\n",
        "            pkg_resources.require(libreria)\n",
        "            etiqueta.value = f\"{libreria} ya está instalado.\"\n",
        "        except pkg_resources.DistributionNotFound:\n",
        "            etiqueta.value = f\"Instalando: {libreria}...\"\n",
        "            subprocess.run([\"pip\", \"install\", libreria])\n",
        "        barra_progreso.value += 1\n",
        "\n",
        "    etiqueta.value = 'Instalación completada.'\n",
        "    # importo todas las librerias\n",
        "# Crear botón\n",
        "boton_instalar = widgets.Button(description='Instalar Librerías')\n",
        "\n",
        "# Crear área de salida\n",
        "output = widgets.Output()\n",
        "display(output)\n",
        "\n",
        "# Enlazar el botón con la función de instalación\n",
        "boton_instalar.on_click(lambda b: instalar_librerias())\n",
        "\n",
        "# Mostrar botón\n",
        "#display(boton_instalar)\n",
        "\n",
        "#instalar_librerias()\n"
      ],
      "metadata": {
        "colab": {
          "base_uri": "https://localhost:8080/",
          "height": 17,
          "referenced_widgets": [
            "7c930dc3bca24cbf882521f0921bf90c",
            "324573d28af140c990038b9f9f982282"
          ]
        },
        "id": "rlMGb_QOAR9K",
        "outputId": "b638acb2-0b91-4390-fd7c-19c2fc0f5658"
      },
      "execution_count": 15,
      "outputs": [
        {
          "output_type": "display_data",
          "data": {
            "text/plain": [
              "Output()"
            ],
            "application/vnd.jupyter.widget-view+json": {
              "version_major": 2,
              "version_minor": 0,
              "model_id": "7c930dc3bca24cbf882521f0921bf90c"
            }
          },
          "metadata": {}
        }
      ],
      "id": "rlMGb_QOAR9K"
    },
    {
      "cell_type": "code",
      "source": [
        "#modelo de árbol de decisión,\n",
        "#considerando todas las características que se pueden extraer de tus datos, es un proyecto extenso\n",
        "\n",
        "# paso 1: extracion de caracteristicas\n",
        "\n",
        "# paso 2: preparar el modelo\n"
      ],
      "metadata": {
        "id": "4hArMA8ZXZAG"
      },
      "execution_count": 16,
      "outputs": [],
      "id": "4hArMA8ZXZAG"
    },
    {
      "cell_type": "code",
      "source": [
        "#@title modelo de arboles de desicion\n",
        "\n",
        "def generador_de_etiquetas(conservacion, entropia):\n",
        "    import numpy as np\n",
        "    # Definir umbrales\n",
        "    umbral_conservacion = np.percentile(conservacion, 50)\n",
        "    umbral_entropia = np.percentile(entropia, 50)\n",
        "\n",
        "    # Generar etiquetas basadas en los umbrales\n",
        "    etiquetas = []\n",
        "    for c, e in zip(conservacion, entropia):\n",
        "        if c >= umbral_conservacion and e < umbral_entropia:\n",
        "            etiquetas.append('Clase 1')\n",
        "        elif c < umbral_conservacion and e >= umbral_entropia:\n",
        "            etiquetas.append('Clase 2')\n",
        "        else:\n",
        "            etiquetas.append('Clase 3')\n",
        "\n",
        "    return etiquetas\n",
        "\n",
        "def extraer_caracteristicas_y_guardar(archivo_alineamiento, archivo_salida):\n",
        "    import pandas as pd\n",
        "    from Bio import AlignIO\n",
        "    import numpy as np\n",
        "    from scipy import stats\n",
        "\n",
        "    alineamiento = AlignIO.read(archivo_alineamiento, \"fasta\")\n",
        "    num_secuencias = len(alineamiento)\n",
        "    longitud_secuencia = alineamiento.get_alignment_length()\n",
        "\n",
        "    conservacion = np.zeros(longitud_secuencia)\n",
        "    entropia = np.zeros(longitud_secuencia)\n",
        "    for i in range(longitud_secuencia):\n",
        "        columna = alineamiento[:, i]\n",
        "        conservacion[i] = columna.count(max(set(columna), key=columna.count)) / num_secuencias\n",
        "        entropia[i] = stats.entropy(np.unique(columna, return_counts=True)[1], base=2)\n",
        "\n",
        "    etiquetas = generador_de_etiquetas(conservacion, entropia)\n",
        "\n",
        "    caracteristicas = pd.DataFrame({\n",
        "        'Conservacion': conservacion,\n",
        "        'Entropia': entropia,\n",
        "        'Etiqueta': etiquetas\n",
        "    })\n",
        "\n",
        "    caracteristicas.to_csv(archivo_salida, index=False)\n",
        "\n",
        "    return caracteristicas\n",
        "\n",
        "def cargar_caracteristicas_etiquetas(archivo_csv):\n",
        "    import pandas as pd\n",
        "    caracteristicas_con_etiquetas = pd.read_csv(archivo_csv)\n",
        "    X = caracteristicas_con_etiquetas.drop('Etiqueta', axis=1)\n",
        "    y = caracteristicas_con_etiquetas['Etiqueta']\n",
        "    return X, y\n",
        "\n",
        "def dividir_datos_entrenamiento_prueba(X, y, test_size=0.2, random_state=42):\n",
        "    from sklearn.model_selection import train_test_split\n",
        "    X_train, X_test, y_train, y_test = train_test_split(X, y, test_size=test_size, random_state=random_state)\n",
        "    return X_train, X_test, y_train, y_test\n",
        "\n",
        "def entrenar_evaluar_arbol_decision(X_train, y_train, X_test, y_test):\n",
        "    from sklearn.tree import DecisionTreeClassifier\n",
        "    from sklearn.metrics import accuracy_score\n",
        "    modelo = DecisionTreeClassifier()\n",
        "    modelo.fit(X_train, y_train)\n",
        "    predicciones = modelo.predict(X_test)\n",
        "    precision = accuracy_score(y_test, predicciones)\n",
        "    print(f\"Precisión del modelo: {precision}\")\n",
        "    return modelo\n",
        "\n",
        "# Ejemplo de cómo usar estas funciones en otro cuaderno\n",
        "# caracteristicas = extraer_caracteristicas_y_guardar('ruta/del/alineamiento.fasta', 'caracteristicas.csv')\n",
        "#X, y = cargar_caracteristicas_etiquetas('caracteristicas_con_etiquetas.csv')\n",
        "#X_train, X_test, y_train, y_test = dividir_datos_entrenamiento_prueba(X, y)\n",
        "# modelo = entrenar_evaluar_arbol_decision(X_train, y_train, X_test, y_test)"
      ],
      "metadata": {
        "id": "DR_Hy_OIaZbn"
      },
      "execution_count": 17,
      "outputs": [],
      "id": "DR_Hy_OIaZbn"
    },
    {
      "cell_type": "code",
      "source": [
        "def graficar_arbol_decision(modelo):\n",
        "    import matplotlib.pyplot as plt\n",
        "    from sklearn.tree import plot_tree\n",
        "    plt.figure(figsize=(20,10))\n",
        "    plot_tree(modelo, filled=True, rounded=True, fontsize=14)\n",
        "    plt.show()"
      ],
      "metadata": {
        "id": "0spKJkaj9Iua"
      },
      "id": "0spKJkaj9Iua",
      "execution_count": 18,
      "outputs": []
    },
    {
      "cell_type": "code",
      "source": [
        "def main(archivo):\n",
        "  instalar_librerias()\n",
        "  X, y = cargar_caracteristicas_etiquetas(archivo)\n",
        "  X_train, X_test, y_train, y_test = dividir_datos_entrenamiento_prueba(X, y)\n",
        "  modelo = entrenar_evaluar_arbol_decision(X_train, y_train, X_test, y_test)\n",
        "  graficar_arbol_decision(modelo)\n",
        "#main(\"\")"
      ],
      "metadata": {
        "id": "rY2HquGAyIa0"
      },
      "execution_count": 19,
      "outputs": [],
      "id": "rY2HquGAyIa0"
    }
  ],
  "metadata": {
    "colab": {
      "provenance": [],
      "machine_shape": "hm"
    },
    "language_info": {
      "name": "python"
    },
    "kernelspec": {
      "name": "python3",
      "display_name": "Python 3"
    },
    "widgets": {
      "application/vnd.jupyter.widget-state+json": {
        "7c930dc3bca24cbf882521f0921bf90c": {
          "model_module": "@jupyter-widgets/output",
          "model_name": "OutputModel",
          "model_module_version": "1.0.0",
          "state": {
            "_dom_classes": [],
            "_model_module": "@jupyter-widgets/output",
            "_model_module_version": "1.0.0",
            "_model_name": "OutputModel",
            "_view_count": null,
            "_view_module": "@jupyter-widgets/output",
            "_view_module_version": "1.0.0",
            "_view_name": "OutputView",
            "layout": "IPY_MODEL_324573d28af140c990038b9f9f982282",
            "msg_id": "",
            "outputs": []
          }
        },
        "324573d28af140c990038b9f9f982282": {
          "model_module": "@jupyter-widgets/base",
          "model_name": "LayoutModel",
          "model_module_version": "1.2.0",
          "state": {
            "_model_module": "@jupyter-widgets/base",
            "_model_module_version": "1.2.0",
            "_model_name": "LayoutModel",
            "_view_count": null,
            "_view_module": "@jupyter-widgets/base",
            "_view_module_version": "1.2.0",
            "_view_name": "LayoutView",
            "align_content": null,
            "align_items": null,
            "align_self": null,
            "border": null,
            "bottom": null,
            "display": null,
            "flex": null,
            "flex_flow": null,
            "grid_area": null,
            "grid_auto_columns": null,
            "grid_auto_flow": null,
            "grid_auto_rows": null,
            "grid_column": null,
            "grid_gap": null,
            "grid_row": null,
            "grid_template_areas": null,
            "grid_template_columns": null,
            "grid_template_rows": null,
            "height": null,
            "justify_content": null,
            "justify_items": null,
            "left": null,
            "margin": null,
            "max_height": null,
            "max_width": null,
            "min_height": null,
            "min_width": null,
            "object_fit": null,
            "object_position": null,
            "order": null,
            "overflow": null,
            "overflow_x": null,
            "overflow_y": null,
            "padding": null,
            "right": null,
            "top": null,
            "visibility": null,
            "width": null
          }
        }
      }
    }
  },
  "nbformat": 4,
  "nbformat_minor": 5
}