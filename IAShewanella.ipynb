{
  "cells": [
    {
      "cell_type": "markdown",
      "metadata": {
        "id": "YAxgZo4Y4Zx3"
      },
      "source": [
        "#Trabajo Final Grupo Nº 2\n",
        "\n",
        "Rafael Perez\trafaelperezctes@gmail.com\n",
        "Olinca Ayala\tolincayalan88@gmail.com\n",
        "###@Created on Dec Sat 2 16:57:20 2023\n",
        "###@author: Grupo Nº 2"
      ],
      "id": "YAxgZo4Y4Zx3"
    },
    {
      "cell_type": "markdown",
      "metadata": {
        "id": "dbaae3b4"
      },
      "source": [
        "\n",
        "# Modulo A I\n",
        "\n",
        "Este cuaderno realiza la descarga y análisis de secuencias nucleotídicas de integronas de Shewanella utilizando Biopython.\n"
      ],
      "id": "dbaae3b4"
    },
    {
      "cell_type": "code",
      "source": [
        "# @title Instalación de librerias\n",
        "import subprocess\n",
        "import ipywidgets as widgets\n",
        "from IPython.display import display\n",
        "import pkg_resources\n",
        "\n",
        "def instalar_librerias():\n",
        "    librerias = [\n",
        "        \"import_ipynb\",\n",
        "        \"nbconvert\",\n",
        "        \"ipywidgets\",\n",
        "        \"biopython\",\n",
        "        \"pandas\",\n",
        "        \"numpy\",\n",
        "        \"matplotlib\",\n",
        "        \"tqdm\",\n",
        "        \"odfpy\",\n",
        "        \"requests\",\n",
        "        \"gdown\",\n",
        "        \"mafft\",\n",
        "        \"clustalo\",\n",
        "        \"muscle\",\n",
        "        \"fasttree\",\n",
        "        \"weblogo\",\n",
        "        \"logomaker\",\n",
        "\n",
        "    ]\n",
        "\n",
        "    barra_progreso = widgets.IntProgress(\n",
        "        value=0,\n",
        "        min=0,\n",
        "        max=len(librerias),\n",
        "        bar_style='info',\n",
        "        orientation='horizontal'\n",
        "    )\n",
        "\n",
        "    etiqueta = widgets.Label(value='Iniciando instalación...')\n",
        "    display(widgets.VBox([etiqueta, barra_progreso]))\n",
        "\n",
        "    # Instalación de fasttree y mafft con apt-get (solo ejecutar en Colab)\n",
        "    subprocess.run([\"apt-get\", \"install\", \"fasttree\", \"mafft\", \"ghostscript\"])\n",
        "\n",
        "    for libreria in librerias:\n",
        "        try:\n",
        "            pkg_resources.require(libreria)\n",
        "            etiqueta.value = f\"{libreria} ya está instalado.\"\n",
        "        except pkg_resources.DistributionNotFound:\n",
        "            etiqueta.value = f\"Instalando: {libreria}...\"\n",
        "            subprocess.run([\"pip\", \"install\", libreria])\n",
        "        barra_progreso.value += 1\n",
        "\n",
        "    etiqueta.value = 'Instalación completada.'\n",
        "    # importo todas las librerias\n",
        "# Crear botón\n",
        "boton_instalar = widgets.Button(description='Instalar Librerías')\n",
        "\n",
        "# Crear área de salida\n",
        "output = widgets.Output()\n",
        "display(output)\n",
        "\n",
        "# Enlazar el botón con la función de instalación\n",
        "boton_instalar.on_click(lambda b: instalar_librerias())\n",
        "\n",
        "# Mostrar botón\n",
        "#display(boton_instalar)\n",
        "\n",
        "#instalar_librerias()\n"
      ],
      "metadata": {
        "colab": {
          "base_uri": "https://localhost:8080/",
          "height": 49,
          "referenced_widgets": [
            "e7aca3eb0bff46cebf8be71c55539c7f",
            "9e7c276c16d74add9e509c14e774f024",
            "3ab74832422e4ba2a0daf0d31b96d320",
            "7a2de3dbfc60491489b420875c7ed6b7",
            "99eeba0fa61841ed9f8f79af0b50061d"
          ]
        },
        "id": "rlMGb_QOAR9K",
        "outputId": "ce078506-43e2-4e62-9ecd-5231f57da897"
      },
      "execution_count": null,
      "outputs": [
        {
          "output_type": "display_data",
          "data": {
            "text/plain": [
              "Output()"
            ],
            "application/vnd.jupyter.widget-view+json": {
              "version_major": 2,
              "version_minor": 0,
              "model_id": "e7aca3eb0bff46cebf8be71c55539c7f"
            }
          },
          "metadata": {}
        },
        {
          "output_type": "display_data",
          "data": {
            "text/plain": [
              "Button(description='Instalar Librerías', style=ButtonStyle())"
            ],
            "application/vnd.jupyter.widget-view+json": {
              "version_major": 2,
              "version_minor": 0,
              "model_id": "3ab74832422e4ba2a0daf0d31b96d320"
            }
          },
          "metadata": {}
        }
      ],
      "id": "rlMGb_QOAR9K"
    },
    {
      "cell_type": "code",
      "source": [
        "#modelo de árbol de decisión,\n",
        "#considerando todas las características que se pueden extraer de tus datos, es un proyecto extenso\n",
        "\n",
        "# paso 1: extracion de caracteristicas\n",
        "\n",
        "# paso 2: preparar el modelo\n"
      ],
      "metadata": {
        "id": "4hArMA8ZXZAG"
      },
      "execution_count": null,
      "outputs": [],
      "id": "4hArMA8ZXZAG"
    },
    {
      "cell_type": "code",
      "source": [
        "#@title modelo de arboles de desicion\n",
        "\n",
        "def generador_de_etiquetas(conservacion, entropia):\n",
        "    import numpy as np\n",
        "    # Definir umbrales\n",
        "    umbral_conservacion = np.percentile(conservacion, 50)\n",
        "    umbral_entropia = np.percentile(entropia, 50)\n",
        "\n",
        "    # Generar etiquetas basadas en los umbrales\n",
        "    etiquetas = []\n",
        "    for c, e in zip(conservacion, entropia):\n",
        "        if c >= umbral_conservacion and e < umbral_entropia:\n",
        "            etiquetas.append('Clase 1')\n",
        "        elif c < umbral_conservacion and e >= umbral_entropia:\n",
        "            etiquetas.append('Clase 2')\n",
        "        else:\n",
        "            etiquetas.append('Clase 3')\n",
        "\n",
        "    return etiquetas\n",
        "\n",
        "def extraer_caracteristicas_y_guardar(archivo_alineamiento, archivo_salida):\n",
        "    import pandas as pd\n",
        "    from Bio import AlignIO\n",
        "    import numpy as np\n",
        "    from scipy import stats\n",
        "\n",
        "    alineamiento = AlignIO.read(archivo_alineamiento, \"fasta\")\n",
        "    num_secuencias = len(alineamiento)\n",
        "    longitud_secuencia = alineamiento.get_alignment_length()\n",
        "\n",
        "    conservacion = np.zeros(longitud_secuencia)\n",
        "    entropia = np.zeros(longitud_secuencia)\n",
        "    for i in range(longitud_secuencia):\n",
        "        columna = alineamiento[:, i]\n",
        "        conservacion[i] = columna.count(max(set(columna), key=columna.count)) / num_secuencias\n",
        "        entropia[i] = stats.entropy(np.unique(columna, return_counts=True)[1], base=2)\n",
        "\n",
        "    etiquetas = generador_de_etiquetas(conservacion, entropia)\n",
        "\n",
        "    caracteristicas = pd.DataFrame({\n",
        "        'Conservacion': conservacion,\n",
        "        'Entropia': entropia,\n",
        "        'Etiqueta': etiquetas\n",
        "    })\n",
        "\n",
        "    caracteristicas.to_csv(archivo_salida, index=False)\n",
        "\n",
        "    return caracteristicas\n",
        "\n",
        "def cargar_caracteristicas_etiquetas(archivo_csv):\n",
        "    import pandas as pd\n",
        "    caracteristicas_con_etiquetas = pd.read_csv(archivo_csv)\n",
        "    X = caracteristicas_con_etiquetas.drop('Etiqueta', axis=1)\n",
        "    y = caracteristicas_con_etiquetas['Etiqueta']\n",
        "    return X, y\n",
        "\n",
        "def dividir_datos_entrenamiento_prueba(X, y, test_size=0.2, random_state=42):\n",
        "    from sklearn.model_selection import train_test_split\n",
        "    X_train, X_test, y_train, y_test = train_test_split(X, y, test_size=test_size, random_state=random_state)\n",
        "    return X_train, X_test, y_train, y_test\n",
        "\n",
        "def entrenar_evaluar_arbol_decision(X_train, y_train, X_test, y_test):\n",
        "    from sklearn.tree import DecisionTreeClassifier\n",
        "    from sklearn.metrics import accuracy_score\n",
        "    modelo = DecisionTreeClassifier()\n",
        "    modelo.fit(X_train, y_train)\n",
        "    predicciones = modelo.predict(X_test)\n",
        "    precision = accuracy_score(y_test, predicciones)\n",
        "    print(f\"Precisión del modelo: {precision}\")\n",
        "    return modelo\n",
        "\n",
        "# Ejemplo de cómo usar estas funciones en otro cuaderno\n",
        "# caracteristicas = extraer_caracteristicas_y_guardar('ruta/del/alineamiento.fasta', 'caracteristicas.csv')\n",
        "# X, y = cargar_caracteristicas_etiquetas('caracteristicas_con_etiquetas.csv')\n",
        "# X_train, X_test, y_train, y_test = dividir_datos_entrenamiento_prueba(X, y)\n",
        "# modelo = entrenar_evaluar_arbol_decision(X_train, y_train, X_test, y_test)"
      ],
      "metadata": {
        "id": "DR_Hy_OIaZbn"
      },
      "execution_count": null,
      "outputs": [],
      "id": "DR_Hy_OIaZbn"
    },
    {
      "cell_type": "code",
      "source": [
        "def main(archivo):\n",
        "  instalar_librerias()\n",
        "  X, y = cargar_caracteristicas_etiquetas(archivo)\n",
        "  X_train, X_test, y_train, y_test = dividir_datos_entrenamiento_prueba(X, y)\n",
        "  modelo = entrenar_evaluar_arbol_decision(X_train, y_train, X_test, y_test)\n",
        "#main()"
      ],
      "metadata": {
        "id": "rY2HquGAyIa0"
      },
      "execution_count": null,
      "outputs": [],
      "id": "rY2HquGAyIa0"
    },
    {
      "cell_type": "code",
      "source": [],
      "metadata": {
        "id": "d7XlW2i8kFM_"
      },
      "id": "d7XlW2i8kFM_",
      "execution_count": null,
      "outputs": []
    }
  ],
  "metadata": {
    "colab": {
      "provenance": [],
      "machine_shape": "hm"
    },
    "language_info": {
      "name": "python"
    },
    "kernelspec": {
      "name": "python3",
      "display_name": "Python 3"
    }
  },
  "nbformat": 4,
  "nbformat_minor": 5
}