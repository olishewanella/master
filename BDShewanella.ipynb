{
  "cells": [
    {
      "cell_type": "markdown",
      "metadata": {
        "id": "YAxgZo4Y4Zx3"
      },
      "source": [
        "#Trabajo Final Grupo Nº 2\n",
        "\n",
        "Rafael Perez\trafaelperezctes@gmail.com\n",
        "Olinca Ayala\tolincayalan88@gmail.com\n",
        "###@Created on Dec Sat 2 16:57:20 2023\n",
        "###@author: Grupo Nº 2"
      ],
      "id": "YAxgZo4Y4Zx3"
    },
    {
      "cell_type": "markdown",
      "id": "dbaae3b4",
      "metadata": {
        "id": "dbaae3b4"
      },
      "source": [
        "\n",
        "# BD Integrsas e integronas y mas de Shewanella\n",
        "\n",
        "Este cuaderno realiza la descarga y análisis de secuencias nucleotídicas de integronas de Shewanella utilizando Biopython.\n"
      ]
    },
    {
      "cell_type": "code",
      "source": [
        "# @title Instalación de librerias\n",
        "import subprocess\n",
        "import ipywidgets as widgets\n",
        "from IPython.display import display\n",
        "\n",
        "def instalar_librerias(b=\"\"):\n",
        "    with output:\n",
        "        librerias = [\n",
        "            \"import_ipynb\",\n",
        "            \"nbconvert\",\n",
        "            \"ipywidgets\",  # Asegúrate de que ya esté instalado\n",
        "            \"biopython\",\n",
        "            \"pandas\",\n",
        "            \"numpy\",\n",
        "            \"matplotlib\",\n",
        "            \"tqdm\",\n",
        "            \"odfpy\",\n",
        "            \"requests\",\n",
        "            \"gdown\"\n",
        "        ]\n",
        "\n",
        "        barra_progreso = widgets.IntProgress(\n",
        "            value=0,\n",
        "            min=0,\n",
        "            max=len(librerias),\n",
        "            bar_style='info',\n",
        "            orientation='horizontal'\n",
        "        )\n",
        "\n",
        "        etiqueta = widgets.Label(value='Iniciando instalación...')\n",
        "        display(widgets.VBox([etiqueta, barra_progreso]))\n",
        "\n",
        "        for libreria in librerias:\n",
        "            etiqueta.value = f\"Instalando: {libreria}...\"\n",
        "            subprocess.run([\"pip\", \"install\", libreria])\n",
        "            barra_progreso.value += 1\n",
        "\n",
        "        etiqueta.value = 'Instalación completada.'\n",
        "\n",
        "# Crear botón\n",
        "boton_instalar = widgets.Button(description='Instalar Librerías')\n",
        "\n",
        "# Crear área de salida\n",
        "output = widgets.Output()\n",
        "display(output)\n",
        "#instalar_librerias()"
      ],
      "metadata": {
        "colab": {
          "base_uri": "https://localhost:8080/",
          "referenced_widgets": [
            "a8c3a86850bd4dd8a4119e076c020456"
          ]
        },
        "id": "bYV73rB3OEZZ",
        "outputId": "f4ad3f22-a4b5-4141-c4b5-5010db961217"
      },
      "id": "bYV73rB3OEZZ",
      "execution_count": 8,
      "outputs": [
        {
          "output_type": "display_data",
          "data": {
            "text/plain": [
              "Output()"
            ],
            "application/vnd.jupyter.widget-view+json": {
              "version_major": 2,
              "version_minor": 0,
              "model_id": "a8c3a86850bd4dd8a4119e076c020456"
            }
          },
          "metadata": {}
        }
      ]
    },
    {
      "cell_type": "code",
      "source": [
        "#@title 2) descargar cvs con id\n",
        "\n",
        "import subprocess\n",
        "from tqdm.notebook import tqdm\n",
        "\n",
        "def descargar_archivos_desde_google_drive(ids_archivos):\n",
        "    for id_archivo in tqdm(ids_archivos, desc=\"Descargando archivos\"):\n",
        "        url = f\"https://drive.google.com/uc?id={id_archivo}\"\n",
        "        comando_descarga = [\"gdown\", \"--id\", id_archivo]\n",
        "        proceso = subprocess.Popen(comando_descarga, stdout=subprocess.PIPE, stderr=subprocess.PIPE)\n",
        "\n",
        "        stdout, stderr = proceso.communicate()\n",
        "\n",
        "        if proceso.returncode != 0:\n",
        "            print(f\"Error al descargar el archivo con ID {id_archivo}: {stderr.decode().strip()}\")\n",
        "        else:\n",
        "            print(f\"Archivo con ID {id_archivo} descargado exitosamente.\")\n",
        "\n",
        "#falla excel \"1B4smxRJe77roNY-b3u7lMjdKd7vM_dREp3_3O_UdtmU\"   # integrones_shewanella\n",
        "# Lista de IDs de archivos de Google Drive\n",
        "ids_archivos = [\n",
        "    \"1mkYUcDlFZLVSc2tTJMgOV7xA4PvegO4_\",  # Integrasas_de_Integron_Shew.csv\n",
        "    \"16RdgLIn4GANuLmoayAI20QEt086SqBzh\",  # Integrasas_de_Integron.csv\n",
        "    \"1fHxLBiSnpXPXULMxnuGumJFgM46ZVlIh\",  # Integrasas_de_Integron.ods\n",
        "    \"1M_JRAG74APAUTVXiZ-z9iPtXjQ2Md__3\"   # integrones_shewanella\n",
        "]\n",
        "\n",
        "# Llamar a la función\n",
        "#descargar_archivos_desde_google_drive(ids_archivos)"
      ],
      "metadata": {
        "id": "iR7-O3vNwezw"
      },
      "id": "iR7-O3vNwezw",
      "execution_count": null,
      "outputs": []
    },
    {
      "cell_type": "code",
      "source": [
        "import pandas as pd\n",
        "\n",
        "def leer_y_mostrar_archivo(ruta_archivo, tipo_archivo='csv', separador='\\t'):\n",
        "    if tipo_archivo == 'csv':\n",
        "        df = pd.read_csv(ruta_archivo, sep=separador)\n",
        "    elif tipo_archivo == 'ods':\n",
        "        df = pd.read_excel(ruta_archivo, engine='odf')\n",
        "    else:\n",
        "        raise ValueError(\"Tipo de archivo no soportado\")\n",
        "\n",
        "    print(df)\n",
        "    print(\"Columnas:\", df.columns.tolist())\n",
        "    print(\"\\n #################################################### \\n\")\n",
        "\n",
        "# Ejemplos de uso:\n",
        "#leer_y_mostrar_archivo('Integrasas_de_Integron.csv', 'csv')\n",
        "#leer_y_mostrar_archivo('Integrasas_de_Integron_Shew.csv', 'csv')\n",
        "#leer_y_mostrar_archivo('Integrasas_de_Integron.ods', 'ods')\n"
      ],
      "metadata": {
        "id": "390_4aUWy2dq"
      },
      "id": "390_4aUWy2dq",
      "execution_count": null,
      "outputs": []
    },
    {
      "cell_type": "code",
      "source": [
        "import re\n",
        "def clean_protein_ids(proteins):\n",
        "    clean_proteins = []\n",
        "    for protein in proteins:\n",
        "        clean_protein = re.sub(r'[^A-Za-z0-9.]', '', protein)\n",
        "        clean_proteins.append(clean_protein)\n",
        "    return clean_proteins\n",
        "#protein_ids = df['ID protein'].tolist()\n",
        "#clean_ids = clean_protein_ids(protein_ids)"
      ],
      "metadata": {
        "id": "i2SVFxah8Dfb"
      },
      "id": "i2SVFxah8Dfb",
      "execution_count": null,
      "outputs": []
    },
    {
      "cell_type": "code",
      "source": [
        "#@title 2) descargar y guardar_secuencias_nucleotidicas\n",
        "\n",
        "def descargar_y_guardar_secuencias_nucleotidicas(ncbi_ids):\n",
        "    from Bio import Entrez, SeqIO\n",
        "    from Bio.SeqRecord import SeqRecord\n",
        "    from Bio.Seq import Seq\n",
        "    from urllib.error import HTTPError\n",
        "    Entrez.email = \"tu_email@example.com\"  # Tu email real aquí\n",
        "    secuencias = []\n",
        "\n",
        "    for ncbi_id in ncbi_ids:\n",
        "        try:\n",
        "            handle = Entrez.efetch(db=\"nucleotide\", id=ncbi_id, rettype=\"fasta\", retmode=\"text\")\n",
        "            seq_record = SeqIO.read(handle, \"fasta\")\n",
        "            handle.close()\n",
        "            secuencias.append(seq_record)\n",
        "\n",
        "            # Guardar la secuencia en un archivo FASTA\n",
        "            fasta_filename = f\"{ncbi_id}.fasta\"\n",
        "            SeqIO.write(seq_record, fasta_filename, \"fasta\")\n",
        "            print(\"Se ha descargado: \",fasta_filename)\n",
        "        except HTTPError as e:\n",
        "            print(f\"Error al descargar la secuencia para el ID {ncbi_id}: {e}\")\n",
        "    print()\n",
        "    return secuencias"
      ],
      "metadata": {
        "id": "wEhawYsqw7lL"
      },
      "id": "wEhawYsqw7lL",
      "execution_count": null,
      "outputs": []
    },
    {
      "cell_type": "code",
      "source": [
        "#@title 2) descargar y guardar_secuencias_proteinas\n",
        "\n",
        "# Función para descargar secuencias de proteínas desde NCBI y guardarlas en archivos FASTA\n",
        "def descargar_y_guardar_secuencias_proteinas(ncbi_ids):\n",
        "    import pandas as pd\n",
        "    from Bio import Entrez, SeqIO\n",
        "    from Bio.Entrez import HTTPError\n",
        "    Entrez.email = \"tu_email@example.com\"  # Sustituye esto con tu email real\n",
        "    secuencias = []\n",
        "\n",
        "    for ncbi_id in ncbi_ids:\n",
        "        try:\n",
        "            handle = Entrez.efetch(db=\"protein\", id=ncbi_id, rettype=\"fasta\", retmode=\"text\")\n",
        "            seq_record = SeqIO.read(handle, \"fasta\")\n",
        "            handle.close()\n",
        "            secuencias.append(seq_record)\n",
        "\n",
        "            # Guardar la secuencia en un archivo FASTA\n",
        "            fasta_filename = f\"{ncbi_id}.fasta\"\n",
        "            SeqIO.write(seq_record, fasta_filename, \"fasta\")\n",
        "            print(\"Se ha descargado: \",fasta_filename)\n",
        "        except HTTPError as e:\n",
        "            print(f\"Error al descargar la secuencia para el ID {ncbi_id}: {e}\")\n",
        "    print()\n",
        "    return secuencias"
      ],
      "metadata": {
        "id": "RnP7smpPtsk-"
      },
      "id": "RnP7smpPtsk-",
      "execution_count": null,
      "outputs": []
    },
    {
      "cell_type": "code",
      "source": [
        "\n",
        "def main():\n",
        "    # Funciones auxiliares previamente definidas\n",
        "    instalar_librerias()\n",
        "    import pandas as pd\n",
        "    descargar_archivos_desde_google_drive(ids_archivos)\n",
        "\n",
        "    # Descargar y analizar secuencias nucleotídicas\n",
        "    df_nucleotidicas = pd.read_csv('Integrasas_de_Integron.csv', sep='\\t')\n",
        "    secuencias_nucleotidicas = descargar_y_guardar_secuencias_nucleotidicas(df_nucleotidicas['# GenBank '].tolist())\n",
        "\n",
        "    # Descargar y analizar secuencias de proteínas (CSV)\n",
        "    df_proteinas_csv = pd.read_csv('Integrasas_de_Integron_Shew.csv', sep='\\t')\n",
        "    protein_ids_csv = df_proteinas_csv['PROTEIN_ID'].tolist()\n",
        "    clean_ids_csv = clean_protein_ids(protein_ids_csv)\n",
        "    secuencias_proteinas_csv = descargar_y_guardar_secuencias_proteinas(clean_ids_csv)\n",
        "\n",
        "    # Descargar y analizar secuencias de proteínas (ODS)\n",
        "    file_path_ods = 'Integrasas_de_Integron.ods'\n",
        "    df_proteinas_ods = pd.read_excel(file_path_ods, engine='odf')\n",
        "    protein_ids_ods = df_proteinas_ods['ID protein'].tolist()\n",
        "    clean_ids_ods = clean_protein_ids(protein_ids_ods)\n",
        "    secuencias_proteinas_ods = descargar_y_guardar_secuencias_proteinas(clean_ids_ods)\n",
        "\n",
        "# Ejecutar la función main\n",
        "#main()\n"
      ],
      "metadata": {
        "id": "5JgoDZas1iQy"
      },
      "id": "5JgoDZas1iQy",
      "execution_count": null,
      "outputs": []
    },
    {
      "cell_type": "markdown",
      "source": [
        "\n",
        "# teoria, codigo, pruebas, etc.\n",
        "\n",
        "notebook1:\n",
        "\n",
        "var = 5\n",
        "\n",
        "def greeting():\n",
        "  print(\"Hola!\")\n",
        "\n",
        "\n",
        "main:\n",
        "\n",
        "import notebook1\n",
        "print(notebook1.var)\n",
        "notebook1.greeting()\n",
        "\n",
        "\n",
        "----------------------------\n",
        "Excelente pregunta.\n",
        "\n",
        "Para visualizar un gráfico Matplotlib desde otro notebook que importa la función, hay un par de opciones:\n",
        "\n",
        "1. Devuelve el objeto Figure desde la función:\n",
        "\n",
        "```python\n",
        "# notebook1.py\n",
        "import matplotlib.pyplot as plt\n",
        "\n",
        "def grafica():\n",
        "   fig = plt.figure()\n",
        "   plt.plot([1,2,3])\n",
        "   return fig\n",
        "```\n",
        "\n",
        "```python\n",
        "# notebook2.py\n",
        "\n",
        "import notebook1\n",
        "\n",
        "fig = notebook1.grafica()\n",
        "fig # Se muestra el gráfico\n",
        "```\n",
        "\n",
        "2. Utiliza `matplotlib inline`:\n",
        "\n",
        "```python\n",
        "# notebook1.py\n",
        "\n",
        "import matplotlib.pyplot as plt\n",
        "plt.switch_backend('inline')\n",
        "\n",
        "def grafica():\n",
        "   plt.figure()\n",
        "   plt.plot([1,2,3])\n",
        "   plt.show()   \n",
        "```\n",
        "\n",
        "```python\n",
        "# notebook2.py\n",
        "\n",
        "import notebook1\n",
        "notebook1.grafica() # Se muestra el gráfico\n",
        "```\n",
        "\n",
        "La opción 2 es más simple, `inline` hace que la imagen se muestre automáticamente.\n",
        "\n",
        "Espero que esto te ayude a compartir visualizaciones entre notebooks de Colab. ¡Cualquier otra duda me comentas!\n"
      ],
      "metadata": {
        "id": "gEmwtyDzF8UV"
      },
      "id": "gEmwtyDzF8UV"
    }
  ],
  "metadata": {
    "colab": {
      "provenance": [],
      "machine_shape": "hm"
    },
    "language_info": {
      "name": "python"
    },
    "kernelspec": {
      "name": "python3",
      "display_name": "Python 3"
    },
    "widgets": {
      "application/vnd.jupyter.widget-state+json": {
        "a8c3a86850bd4dd8a4119e076c020456": {
          "model_module": "@jupyter-widgets/output",
          "model_name": "OutputModel",
          "model_module_version": "1.0.0",
          "state": {
            "_dom_classes": [],
            "_model_module": "@jupyter-widgets/output",
            "_model_module_version": "1.0.0",
            "_model_name": "OutputModel",
            "_view_count": null,
            "_view_module": "@jupyter-widgets/output",
            "_view_module_version": "1.0.0",
            "_view_name": "OutputView",
            "layout": "IPY_MODEL_56dc72110250483cb4b645ebb7b09019",
            "msg_id": "",
            "outputs": []
          }
        }
      }
    }
  },
  "nbformat": 4,
  "nbformat_minor": 5
}